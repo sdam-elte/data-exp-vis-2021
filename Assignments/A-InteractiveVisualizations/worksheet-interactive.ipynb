{
 "cells": [
  {
   "cell_type": "markdown",
   "metadata": {},
   "source": [
    "## Create an interactive report\n",
    "\n",
    "### Choose a dataset!\n",
    "\n",
    "\n",
    "You can use any dataset for this task accessible by the `pandas-datareader` module. You should explain what the dataset is about and which part of it will you visualize!\n",
    "\n",
    "If the `pandas-datareader` package is not available in your notebook, then either stop, delete and restart your course container on the [Kooplex hub page](https://kooplex-edu.elte.hu/hub/education/courses), or install into your userspace\n",
    "\n",
    "```bash\n",
    "pip install --user pandas-datareader\n",
    "```\n",
    "\n",
    "\n",
    "### Create with the chosen dataset\n",
    "  * either 5 different plots using:\n",
    "    * **bokeh**\n",
    "    * **plotly**\n",
    "    * **R shiny**\n",
    "  * or a Jupyter book - https://executablebooks.org/en/latest/ with at least one figure\n",
    "\n",
    "When you finished with the notebook, then \n",
    "* convert it to html \n",
    " ` jupyter-nbconvert --execute worksheet-interactive.ipynb\n",
    " `\n",
    "* or use the Jupyter book format!\n",
    "\n",
    "You can find further interactive tools on the *pyviz* site: \n",
    "* https://docs.bokeh.org/en/latest/\n",
    "* http://pyviz.org/\n",
    "* http://holoviews.org\n",
    "* https://plotly.com/dash/\n",
    "* https://shiny.rstudio.com/"
   ]
  },
  {
   "cell_type": "code",
   "execution_count": 3,
   "metadata": {
    "ExecuteTime": {
     "end_time": "2021-03-08T10:26:26.940740Z",
     "start_time": "2021-03-08T10:26:26.937096Z"
    }
   },
   "outputs": [],
   "source": [
    "#!pip install --user pandas-datareader"
   ]
  },
  {
   "cell_type": "code",
   "execution_count": null,
   "metadata": {},
   "outputs": [],
   "source": []
  }
 ],
 "metadata": {
  "kernelspec": {
   "display_name": "Python 3",
   "language": "python",
   "name": "python3"
  },
  "language_info": {
   "codemirror_mode": {
    "name": "ipython",
    "version": 3
   },
   "file_extension": ".py",
   "mimetype": "text/x-python",
   "name": "python",
   "nbconvert_exporter": "python",
   "pygments_lexer": "ipython3",
   "version": "3.7.3"
  }
 },
 "nbformat": 4,
 "nbformat_minor": 4
}
