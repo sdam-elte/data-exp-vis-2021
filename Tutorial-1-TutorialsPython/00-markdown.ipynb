{
 "cells": [
  {
   "cell_type": "markdown",
   "metadata": {},
   "source": [
    "# Markdown cells\n",
    "\n",
    "[Markdown](https://en.wikipedia.org/wiki/Markdown) an easily readable web format with a simple syntax. It typically enables the quick editing of text or documents displayed in a browser. Throughout the course, the exercises for the current programming topic will be in markdown cells of the [jupyter](http://jupyter.org/) framework. If the exercise requires additional explanation of the results, then you'll have to note them down in markdown cells as well.\n",
    "\n",
    "In the following, we'll cover the basics of the markdown format."
   ]
  },
  {
   "cell_type": "markdown",
   "metadata": {},
   "source": [
    "## Formatting"
   ]
  },
  {
   "cell_type": "markdown",
   "metadata": {},
   "source": [
    "### Headlines\n",
    "\n",
    "We denote the title of the whole notebook or that of a part by the \\# symbol. One \\# denotes the title of the whole notebook, two \\# symbols denote a title of a chapter, more \\# create smaller and smaller headlines. (These are similar to the `<h1>, <h2>` etc. tags of the HTML language.)"
   ]
  },
  {
   "cell_type": "markdown",
   "metadata": {},
   "source": [
    "### Characters\n",
    "\n",
    "We can typeset a text **bold** by using double \\* symbols, *italic* by using a single pair of \\* symbols. A pair o a double \\~~ symbols ~~crosses the text out~~."
   ]
  },
  {
   "cell_type": "markdown",
   "metadata": {},
   "source": [
    "### Lists\n",
    "\n",
    "If we begin lines by - or * symbols, those lines will be part of a bulleted list.\n",
    "\n",
    "* this line went fishing\n",
    "* this line went hunting\n",
    "* this line ate the prey\n",
    "\n",
    "If we begin lines by using number, we get a numbered list.\n",
    "\n",
    "1. cherries are ripe \n",
    "2. a bush\n",
    "3. you'll be my girl"
   ]
  },
  {
   "cell_type": "markdown",
   "metadata": {},
   "source": [
    "### Tables\n",
    "\n",
    "By using  the symbols | and -, we can create tables. For example:\n",
    "\n",
    "**Name**|**Grade**\n",
    "-------|-------------\n",
    "William  | 4\n",
    "George   | 3\n",
    "Lizzy   | 5"
   ]
  },
  {
   "cell_type": "markdown",
   "metadata": {},
   "source": [
    "### Pictures, links\n",
    "\n",
    "When solving the exercises, it is possible that we have to look something up on the internet. If we find useful content somewhere, we can refer to the link in markdown in the following way: [link neve](http://www.hasznos-link.hu) `[link neve](http://www.hasznos-link.hu)`.\n",
    "\n",
    "If we would like to display a picture in the notebook (either from our own computer's directory or from the internet), we can do it as follows `![cat](http://a.deviantart.net/avatars/n/y/nyancat.gif?6)`:\n",
    "\n",
    "![cat](http://a.deviantart.net/avatars/n/y/nyancat.gif?6)"
   ]
  },
  {
   "cell_type": "markdown",
   "metadata": {},
   "source": [
    "## Writing equations\n",
    "\n",
    "For some exercises, it is possible that we need to type in some equations. If we put a text between \\$ symbols in markdown, then it reads it as a [LaTeX](http://www.ntg.nl/doc/nemeth/lrovid.pdf) code, and we can write beautiful equations such as $\\sin(\\alpha+\\beta)=\\sin(\\alpha)\\cos(\\beta)+\\cos(\\alpha)\\sin(\\beta)$. If we want to have the equation in a separate line, then we can put it between a pair of double \\$\\$ symbols: $$E=mc^2.$$\n",
    "\n",
    "Let us go through some equation basics from LaTeX. (This has been part of a previous course, as such, it is only a reminder. For a more extensive description we refere the reader to the numerous resources found online.)"
   ]
  },
  {
   "cell_type": "markdown",
   "metadata": {},
   "source": [
    "1. As we've seen in the above examples as well, we begin greek letters by a \\\\, and then type their English names. For example $\\alpha$,$\\beta$,$\\gamma$,$\\delta$.\n",
    "2. We may begin well-known mathematical functions by \\\\, but it is not compulsory. Let us observe the difference between $\\sin(x)$ and $sin(x)$!\n",
    "3. We can write superscripts and subscripts: $a_i$, $c^2$. \n",
    "4. We can write fractions: $\\frac{1}{2}$.\n",
    "5. A summation: $\\mathrm{e}^x=\\sum_n \\frac{x^n}{n!}$. Here \\\\mathrm\\{\\} makes the $e$ regular instead of italic that is default for equations.\n",
    "6. Let us observe the diference if we use double \\$\\$ symbols: $$\\mathrm{e}^x=\\sum_n \\frac{x^n}{n!} $$\n",
    "7. Integration, derivation and partial derivatives: $$\\int \\mathrm{e}^x \\mathrm{d} x=\\mathrm{e}^x+C$$ $$\\frac{\\mathrm{d}\\mathrm{e}^x}{ \\mathrm{d} x}=\\mathrm{e}^x$$ $$\\frac{\\partial\\mathrm{e}^x}{ \\partial x}=\\partial_x \\mathrm{e}^x=\\mathrm{e}^x$$\n",
    "8. Some examples of vectors in bold: $$\\mathbf{a}\\cdot\\mathbf{b}=\\sum_{i=1}^3 a_ib_i.$$\n",
    "9. Here is a bar above a letter: $$\\overline{x}=\\frac{1}{N}\\sum_{i=1}^Nx_i.$$\n",
    "10. And a square root: $\\gamma=\\sqrt{1-v^2/c^2}$."
   ]
  },
  {
   "cell_type": "markdown",
   "metadata": {
    "collapsed": true
   },
   "source": [
    "# Useful links\n",
    "\n",
    "- [Markdown Cheatsheet](https://github.com/adam-p/markdown-here/wiki/Markdown-Cheatsheet)\n",
    "- [Latex Mathematical Symbols](http://www.auburn.edu/~tamtiny/Symbols.pdf)"
   ]
  }
 ],
 "metadata": {
  "anaconda-cloud": {},
  "hide_input": false,
  "kernelspec": {
   "display_name": "Python 3",
   "language": "python",
   "name": "python3"
  },
  "language_info": {
   "codemirror_mode": {
    "name": "ipython",
    "version": 3
   },
   "file_extension": ".py",
   "mimetype": "text/x-python",
   "name": "python",
   "nbconvert_exporter": "python",
   "pygments_lexer": "ipython3",
   "version": "3.7.3"
  },
  "latex_envs": {
   "bibliofile": "biblio.bib",
   "cite_by": "apalike",
   "current_citInitial": 1,
   "eqLabelWithNumbers": true,
   "eqNumInitial": 0
  },
  "name": "mintapelda00.ipynb",
  "toc": {
   "toc_cell": false,
   "toc_number_sections": true,
   "toc_threshold": 6,
   "toc_window_display": false
  }
 },
 "nbformat": 4,
 "nbformat_minor": 1
}
