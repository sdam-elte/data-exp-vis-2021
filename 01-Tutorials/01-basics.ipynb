{
 "cells": [
  {
   "cell_type": "markdown",
   "metadata": {},
   "source": [
    "# Short tutorial on Python (revision)\n",
    "\n",
    "In the following three notebooks you can read about the basics of the Python language that are important to our purposes. As this course follows an introductory course where this knowledge is extensively covered, these notebooks only serve as a reminder.\n",
    "\n",
    "We'll cover basic types and variables, control sequences and function definition syntax. We'll also dive into handling different Python modules."
   ]
  },
  {
   "cell_type": "markdown",
   "metadata": {},
   "source": [
    "- [**Variables and types**](01-variables_types.ipynb)\n",
    "  - comments\n",
    "  - variables\n",
    "  - operations\n",
    "  - `string`\n",
    "  - `list`\n",
    "  - `dict`"
   ]
  },
  {
   "cell_type": "markdown",
   "metadata": {},
   "source": [
    "- [**Control**](01-modules_numpy.ipynb)\n",
    "   - Branch: `if`\n",
    "   - Loop: `for`\n",
    "   - Function: `def`\n",
    "   - Arguments of variable length\n",
    "   - Keywords and parameter lists\n"
   ]
  },
  {
   "cell_type": "markdown",
   "metadata": {},
   "source": [
    "- [**Modules**](01-control_statements.ipynb)\n",
    "  - modules\n",
    "  - `numpy` basics\n",
    "  - `array`s\n",
    "  - `matplotlib` basics"
   ]
  }
 ],
 "metadata": {
  "anaconda-cloud": {},
  "hide_input": false,
  "kernelspec": {
   "display_name": "Python 3",
   "language": "python",
   "name": "python3"
  },
  "language_info": {
   "codemirror_mode": {
    "name": "ipython",
    "version": 3
   },
   "file_extension": ".py",
   "mimetype": "text/x-python",
   "name": "python",
   "nbconvert_exporter": "python",
   "pygments_lexer": "ipython3",
   "version": "3.7.3"
  },
  "latex_envs": {
   "bibliofile": "biblio.bib",
   "cite_by": "apalike",
   "current_citInitial": 1,
   "eqLabelWithNumbers": true,
   "eqNumInitial": 0
  },
  "name": "mintapelda03.ipynb"
 },
 "nbformat": 4,
 "nbformat_minor": 4
}
