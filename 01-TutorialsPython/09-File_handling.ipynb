{
 "cells": [
  {
   "cell_type": "markdown",
   "metadata": {
    "run_control": {
     "frozen": false,
     "read_only": false
    }
   },
   "source": [
    "# Handling files\n",
    "![c](http://sd.keepcalm-o-matic.co.uk/i-w600/keep-calm-and-save-the-data-file.jpg)\n",
    "\n",
    "If we want to handle a large amount of data, we have to use the files stored on the external storages (HDD, other devices) of the computer and not only the memory. In the following notebook, we are going to familiarize ourselves with the file handling functions of Pyhton, then we get to know the routines of `numpy`, and then we are going to introduce some formats used in scientific research (hdf5, fits). We begin our notebook with the usual line:"
   ]
  },
  {
   "cell_type": "code",
   "execution_count": 1,
   "metadata": {
    "run_control": {
     "frozen": false,
     "read_only": false
    }
   },
   "outputs": [
    {
     "name": "stdout",
     "output_type": "stream",
     "text": [
      "Populating the interactive namespace from numpy and matplotlib\n"
     ]
    }
   ],
   "source": [
    "%pylab inline"
   ]
  },
  {
   "cell_type": "code",
   "execution_count": 27,
   "metadata": {},
   "outputs": [],
   "source": [
    "Datasets = '/home/course/public/01-data/'"
   ]
  },
  {
   "cell_type": "markdown",
   "metadata": {
    "run_control": {
     "frozen": false,
     "read_only": false
    }
   },
   "source": [
    "---\n",
    "\n",
    "## Python's built-in file handling functions\n",
    "\n",
    "In this chapter we are going to have a look at Python's function for file operations that are independent of the modules. These functions handle the content of files mostly as character strings, therefore, using, reading and writing formatted data might be painful. Usually, it is done through format-specific functions. For the examples, we are going to use a file that contains [historic observations of sunspots](http://www.sidc.be/silso/datafiles)."
   ]
  },
  {
   "cell_type": "markdown",
   "metadata": {},
   "source": [
    "### Reading files"
   ]
  },
  {
   "cell_type": "markdown",
   "metadata": {
    "run_control": {
     "frozen": false,
     "read_only": false
    }
   },
   "source": [
    "Reading a whole file into one character string happens according to the following method.\n",
    "\n",
    "First of all, we open the file with the `open()` function. The `open()` function prepares the system for reading the file from the external storage. In its easiest form, we just give the name of the datafile to this function."
   ]
  },
  {
   "cell_type": "code",
   "execution_count": 3,
   "metadata": {
    "run_control": {
     "frozen": false,
     "read_only": false
    }
   },
   "outputs": [],
   "source": [
    "file1 = open(Datasets+'/SN_m_tot_V2.0.txt')"
   ]
  },
  {
   "cell_type": "code",
   "execution_count": 4,
   "metadata": {
    "run_control": {
     "frozen": false,
     "read_only": false
    }
   },
   "outputs": [
    {
     "data": {
      "text/plain": [
       "<_io.TextIOWrapper name='/home/course/public/01-data/SN_m_tot_V2.0.txt' mode='r' encoding='UTF-8'>"
      ]
     },
     "execution_count": 4,
     "metadata": {},
     "output_type": "execute_result"
    }
   ],
   "source": [
    "file1"
   ]
  },
  {
   "cell_type": "markdown",
   "metadata": {},
   "source": [
    "The above line enables us to reach the content of the file through the `file1` variable. The complete content of the file might be read into a character string variable called `wholefile`."
   ]
  },
  {
   "cell_type": "code",
   "execution_count": 5,
   "metadata": {
    "run_control": {
     "frozen": false,
     "read_only": false
    }
   },
   "outputs": [],
   "source": [
    "wholefile=file1.read()"
   ]
  },
  {
   "cell_type": "markdown",
   "metadata": {},
   "source": [
    "Attention, we should not mix the `file1` and `wholefile` variables. As we have alread mentioned, the `wholefile` variable is a character string, and `file1` enables the reading and/or writing of the file, that we also call \"stream\".\n",
    "\n",
    "If we are finished with the reading/writing, we can close our stream with the `close()` command, that interrupts the communication with the external storage."
   ]
  },
  {
   "cell_type": "code",
   "execution_count": 6,
   "metadata": {
    "run_control": {
     "frozen": false,
     "read_only": false
    }
   },
   "outputs": [
    {
     "name": "stdout",
     "output_type": "stream",
     "text": [
      "False\n",
      "True\n"
     ]
    }
   ],
   "source": [
    "print(file1.closed)\n",
    "file1.close()\n",
    "print(file1.closed)"
   ]
  },
  {
   "cell_type": "markdown",
   "metadata": {},
   "source": [
    "Above, we have already loaded the content of the data file into the string `wholefile`, for example, let's have a look at the first 100 characters of the file:"
   ]
  },
  {
   "cell_type": "code",
   "execution_count": 7,
   "metadata": {
    "run_control": {
     "frozen": false,
     "read_only": false
    }
   },
   "outputs": [
    {
     "data": {
      "text/plain": [
       "'#1. oszlop ev  ho  T[ev]  napfolt_szam\\n#2. oszlop honap\\n#3. oszlop az ido evben merve \\n#4. oszlop Na'"
      ]
     },
     "execution_count": 7,
     "metadata": {},
     "output_type": "execute_result"
    }
   ],
   "source": [
    "wholefile[:100]"
   ]
  },
  {
   "cell_type": "markdown",
   "metadata": {},
   "source": [
    "If we have a look at the file itself, we can see that indeed, this is the text at its beginning. Observe the `\\n` character instead of the new line!\n",
    "\n",
    "`read()` can read only a specific number of characters. Let us open the previous file again."
   ]
  },
  {
   "cell_type": "code",
   "execution_count": 8,
   "metadata": {
    "run_control": {
     "frozen": false,
     "read_only": false
    }
   },
   "outputs": [],
   "source": [
    "file1 = open(Datasets+'/SN_m_tot_V2.0.txt')"
   ]
  },
  {
   "cell_type": "markdown",
   "metadata": {},
   "source": [
    "Let us read 10 characters in the following way:"
   ]
  },
  {
   "cell_type": "code",
   "execution_count": 9,
   "metadata": {
    "run_control": {
     "frozen": false,
     "read_only": false
    }
   },
   "outputs": [],
   "source": [
    "chars=file1.read(10)"
   ]
  },
  {
   "cell_type": "markdown",
   "metadata": {
    "run_control": {
     "frozen": false,
     "read_only": false
    }
   },
   "source": [
    "The variable `chars1` contains the first 10 characters of the file."
   ]
  },
  {
   "cell_type": "code",
   "execution_count": 10,
   "metadata": {
    "run_control": {
     "frozen": false,
     "read_only": false
    }
   },
   "outputs": [
    {
     "data": {
      "text/plain": [
       "'#1. oszlop'"
      ]
     },
     "execution_count": 10,
     "metadata": {},
     "output_type": "execute_result"
    }
   ],
   "source": [
    "chars"
   ]
  },
  {
   "cell_type": "markdown",
   "metadata": {
    "run_control": {
     "frozen": false,
     "read_only": false
    }
   },
   "source": [
    "If we call again the `read()` function of the `file1` variable , then it is going to read the next 10 characters:"
   ]
  },
  {
   "cell_type": "code",
   "execution_count": 11,
   "metadata": {
    "run_control": {
     "frozen": false,
     "read_only": false
    }
   },
   "outputs": [],
   "source": [
    "chars1=file1.read(10)"
   ]
  },
  {
   "cell_type": "code",
   "execution_count": 13,
   "metadata": {
    "run_control": {
     "frozen": false,
     "read_only": false
    }
   },
   "outputs": [
    {
     "data": {
      "text/plain": [
       "' ev  ho  T'"
      ]
     },
     "execution_count": 13,
     "metadata": {},
     "output_type": "execute_result"
    }
   ],
   "source": [
    "chars1"
   ]
  },
  {
   "cell_type": "markdown",
   "metadata": {},
   "source": [
    "Thus, read makes us go through the characters of the file: if we once read something, we cannot read that same part again. Fortunately, this is not the case, since `tell()` and `seek()` can ask and/or set the position of an open filestream.\n",
    "\n",
    "The `tell()` function gives us the actual stream position in the `file1` variable, which is now 20, because we used the `.read(10)` method two times."
   ]
  },
  {
   "cell_type": "code",
   "execution_count": 14,
   "metadata": {
    "run_control": {
     "frozen": false,
     "read_only": false
    }
   },
   "outputs": [
    {
     "data": {
      "text/plain": [
       "20"
      ]
     },
     "execution_count": 14,
     "metadata": {},
     "output_type": "execute_result"
    }
   ],
   "source": [
    "file1.tell()"
   ]
  },
  {
   "cell_type": "markdown",
   "metadata": {},
   "source": [
    "The `seek()` method can jump to an arbitrary place in the file. `seek(n)` jumps to the `n`th character of the file. If we apply the read function after this, it is going to read the file from this position."
   ]
  },
  {
   "cell_type": "code",
   "execution_count": 15,
   "metadata": {
    "run_control": {
     "frozen": false,
     "read_only": false
    }
   },
   "outputs": [
    {
     "data": {
      "text/plain": [
       "5"
      ]
     },
     "execution_count": 15,
     "metadata": {},
     "output_type": "execute_result"
    }
   ],
   "source": [
    "file1.seek(5)"
   ]
  },
  {
   "cell_type": "markdown",
   "metadata": {},
   "source": [
    "The next command reads 10 characters beginning from the 5th."
   ]
  },
  {
   "cell_type": "code",
   "execution_count": 16,
   "metadata": {
    "run_control": {
     "frozen": false,
     "read_only": false
    }
   },
   "outputs": [],
   "source": [
    "chars3=file1.read(10)"
   ]
  },
  {
   "cell_type": "code",
   "execution_count": 17,
   "metadata": {
    "run_control": {
     "frozen": false,
     "read_only": false
    }
   },
   "outputs": [
    {
     "data": {
      "text/plain": [
       "'szlop ev  '"
      ]
     },
     "execution_count": 17,
     "metadata": {},
     "output_type": "execute_result"
    }
   ],
   "source": [
    "chars3"
   ]
  },
  {
   "cell_type": "markdown",
   "metadata": {
    "run_control": {
     "frozen": false,
     "read_only": false
    }
   },
   "source": [
    "Let us close the file again!"
   ]
  },
  {
   "cell_type": "code",
   "execution_count": 18,
   "metadata": {
    "run_control": {
     "frozen": false,
     "read_only": false
    }
   },
   "outputs": [],
   "source": [
    "file1.close()"
   ]
  },
  {
   "cell_type": "markdown",
   "metadata": {},
   "source": [
    "In order to never forget closing a file, that might cause a hassle, Python has a very convenient construction, the `with`. This calls the given objects `__enter__()` and `__exit()__` functions automatically. Variables stay there after the `with` block, but files close automatically after it."
   ]
  },
  {
   "cell_type": "markdown",
   "metadata": {
    "run_control": {
     "frozen": false,
     "read_only": false
    }
   },
   "source": [
    "Advantages of `with`:\n",
    "- we don't forget closing the file\n",
    "- if there is an I/O error, the file closes\n",
    "- we spared a line of code\n",
    "- we won't mix different files, into which we want to write\n",
    "- we can only write the file inside the block\n",
    "    - a file is only open for a short amount of time, we won't mess up by writing it multiple times simultaneously\n",
    "    - the code is easier to read\n",
    "---"
   ]
  },
  {
   "cell_type": "code",
   "execution_count": 19,
   "metadata": {
    "run_control": {
     "frozen": false,
     "read_only": false
    }
   },
   "outputs": [
    {
     "name": "stdout",
     "output_type": "stream",
     "text": [
      "False\n",
      "True\n"
     ]
    }
   ],
   "source": [
    "with open(Datasets+'/SN_m_tot_V2.0.txt') as f:\n",
    "    print(f.closed) # here the file is open\n",
    "print(f.closed) # here the file is closed"
   ]
  },
  {
   "cell_type": "markdown",
   "metadata": {},
   "source": [
    "In many cases, the information in our datafile is organized as a table. Each row of the file has the same marks for grouping our data. We can get all lines of an open file with the `readlines()` function."
   ]
  },
  {
   "cell_type": "code",
   "execution_count": 28,
   "metadata": {
    "run_control": {
     "frozen": false,
     "read_only": false
    }
   },
   "outputs": [],
   "source": [
    "with open(Datasets+'SN_m_tot_V2.0.txt') as f:\n",
    "    lines = f.readlines()"
   ]
  },
  {
   "cell_type": "markdown",
   "metadata": {
    "run_control": {
     "frozen": false,
     "read_only": false
    }
   },
   "source": [
    "The elements of the list `lines` are lines of the file, for example here are the first ten lines:"
   ]
  },
  {
   "cell_type": "code",
   "execution_count": 29,
   "metadata": {
    "run_control": {
     "frozen": false,
     "read_only": false
    }
   },
   "outputs": [
    {
     "data": {
      "text/plain": [
       "['#1. oszlop ev  ho  T[ev]  napfolt_szam\\n',\n",
       " '#2. oszlop honap\\n',\n",
       " '#3. oszlop az ido evben merve \\n',\n",
       " '#4. oszlop Napfoltok szamanak atlaga\\n',\n",
       " '#5. oszlop Napfoltok szamanak szorasa, negativ ertekek azt jelentik hogy az informacio nem all rendelkezesre!\\n',\n",
       " '#6. oszlop Napfolt meresek szama,      negativ ertekek azt jelentik hogy az informacio nem all rendelkezesre!\\n',\n",
       " '1749 01 1749.042   96.7  -1.0    -1  \\n',\n",
       " '1749 02 1749.123  104.3  -1.0    -1  \\n',\n",
       " '1749 03 1749.204  116.7  -1.0    -1  \\n',\n",
       " '1749 04 1749.288   92.8  -1.0    -1  \\n']"
      ]
     },
     "execution_count": 29,
     "metadata": {},
     "output_type": "execute_result"
    }
   ],
   "source": [
    "lines[0:10]"
   ]
  },
  {
   "cell_type": "markdown",
   "metadata": {},
   "source": [
    "As we see, the first six lines begin with `#`, and each of these lines contain the description of the columns. After the 7th line, tough, there are numbers separated by spaces, which is the data itself, but unfortunately, still in the form of a string."
   ]
  },
  {
   "cell_type": "markdown",
   "metadata": {},
   "source": [
    "The first valuable line is the 7th:"
   ]
  },
  {
   "cell_type": "code",
   "execution_count": 30,
   "metadata": {
    "run_control": {
     "frozen": false,
     "read_only": false
    }
   },
   "outputs": [
    {
     "data": {
      "text/plain": [
       "'1749 01 1749.042   96.7  -1.0    -1  \\n'"
      ]
     },
     "execution_count": 30,
     "metadata": {},
     "output_type": "execute_result"
    }
   ],
   "source": [
    "lines[6]"
   ]
  },
  {
   "cell_type": "markdown",
   "metadata": {},
   "source": [
    "A character string may be split with the `.split()` method along given characters into a list. The `.split()` method defaults to splitting on spaces, therefore, the first valuable line might be split by:"
   ]
  },
  {
   "cell_type": "code",
   "execution_count": 31,
   "metadata": {
    "run_control": {
     "frozen": false,
     "read_only": false
    }
   },
   "outputs": [
    {
     "data": {
      "text/plain": [
       "['1749', '01', '1749.042', '96.7', '-1.0', '-1']"
      ]
     },
     "execution_count": 31,
     "metadata": {},
     "output_type": "execute_result"
    }
   ],
   "source": [
    "lines[6].split()"
   ]
  },
  {
   "cell_type": "markdown",
   "metadata": {
    "run_control": {
     "frozen": false,
     "read_only": false
    }
   },
   "source": [
    "The result is thus a list that contains the valuable data, but they are still small strings! We have to convert these strings into float numbers using the `float()` function. Here is the conversion of the fourth column of the first data line:"
   ]
  },
  {
   "cell_type": "code",
   "execution_count": 32,
   "metadata": {
    "run_control": {
     "frozen": false,
     "read_only": false
    }
   },
   "outputs": [
    {
     "data": {
      "text/plain": [
       "96.7"
      ]
     },
     "execution_count": 32,
     "metadata": {},
     "output_type": "execute_result"
    }
   ],
   "source": [
    "float(lines[6].split()[3])"
   ]
  },
  {
   "cell_type": "markdown",
   "metadata": {},
   "source": [
    "If we can convert one element to a number, then using a `for` cycle, we can arrange our data into lists using the known way:"
   ]
  },
  {
   "cell_type": "code",
   "execution_count": 37,
   "metadata": {
    "run_control": {
     "frozen": false,
     "read_only": false
    }
   },
   "outputs": [],
   "source": [
    "num_sunspot=[]\n",
    "measurement_time=[]\n",
    "for sor in lines[6:]:\n",
    "    num_sunspot.append( float(sor.split()[3]) )\n",
    "    measurement_time.append(  float(sor.split()[2]) )"
   ]
  },
  {
   "cell_type": "markdown",
   "metadata": {
    "run_control": {
     "frozen": false,
     "read_only": false
    }
   },
   "source": [
    "Let us plot the number of sunspots as a function of time:"
   ]
  },
  {
   "cell_type": "code",
   "execution_count": 38,
   "metadata": {
    "run_control": {
     "frozen": false,
     "read_only": false
    }
   },
   "outputs": [
    {
     "data": {
      "text/plain": [
       "Text(0, 0.5, 'Number of sunspots')"
      ]
     },
     "execution_count": 38,
     "metadata": {},
     "output_type": "execute_result"
    },
    {
     "data": {
      "image/png": "[encoded data removed]",
      "text/plain": [
       "<Figure size 432x288 with 1 Axes>"
      ]
     },
     "metadata": {
      "needs_background": "light"
     },
     "output_type": "display_data"
    }
   ],
   "source": [
    "plot(measurement_time,num_sunspot)\n",
    "xlabel('T [year]')\n",
    "ylabel('Number of sunspots')"
   ]
  },
  {
   "cell_type": "markdown",
   "metadata": {},
   "source": [
    "We can see that the number of sunspots oscillates periodically in the last 250 years."
   ]
  },
  {
   "cell_type": "markdown",
   "metadata": {},
   "source": [
    "If we read very big files, it is not worth to, and it is also not possible to read the whole file into the memory. Python has a solution to this problem as well, we can iterate through the open file in a for cycle:"
   ]
  },
  {
   "cell_type": "code",
   "execution_count": 39,
   "metadata": {
    "run_control": {
     "frozen": false,
     "read_only": false
    }
   },
   "outputs": [
    {
     "data": {
      "text/plain": [
       "Text(0, 0.5, 'Number of sunspots')"
      ]
     },
     "execution_count": 39,
     "metadata": {},
     "output_type": "execute_result"
    },
    {
     "data": {
      "image/png": "[encoded data removed]",
      "text/plain": [
       "<Figure size 432x288 with 1 Axes>"
      ]
     },
     "metadata": {
      "needs_background": "light"
     },
     "output_type": "display_data"
    }
   ],
   "source": [
    "with open(Datasets+'/SN_m_tot_V2.0.txt') as f:\n",
    "    num_sunspot,measurement_time=[],[]\n",
    "    for sor in f: # iterating through a data stream or file\n",
    "        if sor[0]!='#':\n",
    "            num_sunspot.append( float(sor.split()[3]) )\n",
    "            measurement_time.append(  float(sor.split()[2]) )\n",
    "        \n",
    "plot(measurement_time,num_sunspot) # this plot is the same as the previous one\n",
    "xlabel('T [year]')\n",
    "ylabel('Number of sunspots')"
   ]
  },
  {
   "cell_type": "markdown",
   "metadata": {},
   "source": [
    "### Saving\n",
    "\n",
    "Next to reading the data, we might need to write out the processed information. Python has the `write()` function for this task for data streams. Let us observe writing on a simple example!\n",
    "\n",
    "We open a file, in which we would like to write, we can signal this through the `mode` parameter of the `open()` function by setting `mode='w'`. Here, `'w'` means writing.\n",
    "\n",
    "We can write character strings now to the `file2` stream using the `write()` function."
   ]
  },
  {
   "cell_type": "code",
   "execution_count": 40,
   "metadata": {
    "run_control": {
     "frozen": false,
     "read_only": false
    }
   },
   "outputs": [
    {
     "name": "stdout",
     "output_type": "stream",
     "text": [
      "<_io.TextIOWrapper name='/home/course/public/01-data/./out_mentes1.dat' mode='w' encoding='UTF-8'>\n"
     ]
    }
   ],
   "source": [
    "with open(Datasets+'./out_mentes1.dat',mode='w') as f:\n",
    "    print(f)"
   ]
  },
  {
   "cell_type": "code",
   "execution_count": 41,
   "metadata": {
    "run_control": {
     "frozen": false,
     "read_only": false
    }
   },
   "outputs": [
    {
     "name": "stdout",
     "output_type": "stream",
     "text": [
      "26\n"
     ]
    }
   ],
   "source": [
    "with open('./out_mentes1.dat',mode='w') as f:\n",
    "    print(f.write('#Ez az elso kiirt fileom!\\n'))"
   ]
  },
  {
   "cell_type": "markdown",
   "metadata": {},
   "source": [
    "If we would like to append characters to an existing file, then we can set the `mode` parameter of the `open()` function to `mode='a'`. Here, `'a'` meand append, as for example in the case of lists."
   ]
  },
  {
   "cell_type": "code",
   "execution_count": 43,
   "metadata": {
    "run_control": {
     "frozen": false,
     "read_only": false
    }
   },
   "outputs": [
    {
     "name": "stdout",
     "output_type": "stream",
     "text": [
      "<_io.TextIOWrapper name='./out_mentes1.dat' mode='a' encoding='UTF-8'>\n"
     ]
    }
   ],
   "source": [
    "with open('./out_mentes1.dat',mode='a') as f:\n",
    "     print(f)"
   ]
  },
  {
   "cell_type": "markdown",
   "metadata": {},
   "source": [
    "Let us write the measurement time and number of sunspots data into the already existing `data/out_save1.dat` file! We are going to do this using a for cycle."
   ]
  },
  {
   "cell_type": "code",
   "execution_count": 44,
   "metadata": {
    "run_control": {
     "frozen": false,
     "read_only": false
    }
   },
   "outputs": [],
   "source": [
    "with open('./out_mentes1.dat',mode='a') as f:\n",
    "    for i in range(len(measurement_time)):\n",
    "        f.write(str(measurement_time[i])+' '+str(num_sunspot[i])+'\\n')"
   ]
  },
  {
   "cell_type": "markdown",
   "metadata": {},
   "source": [
    "The character string in the argument of the `write()` function contains the elements we wanted with a space in between, and a linebreak given by `'\\n'`.\n",
    "\n",
    "Similarly to reading, we can write out whole lines when writing. Not surprisingly, the function is called `writelines()`. This function writes lists of character strings into a file through an open filestream.\n",
    "\n",
    "If every element in the list ends by `'\\n'`, then after writing, each list element is going to be a single line in the file."
   ]
  },
  {
   "cell_type": "code",
   "execution_count": 45,
   "metadata": {
    "run_control": {
     "frozen": false,
     "read_only": false
    }
   },
   "outputs": [],
   "source": [
    "sorok=['This is the first line\\n','This is the second line\\n']\n",
    "with open('./out_mentes1.dat',mode='a') as f:\n",
    "    f.writelines(sorok)"
   ]
  },
  {
   "cell_type": "markdown",
   "metadata": {
    "run_control": {
     "frozen": false,
     "read_only": false
    }
   },
   "source": [
    "What if there is no `'\\n'` ? "
   ]
  },
  {
   "cell_type": "code",
   "execution_count": 46,
   "metadata": {
    "run_control": {
     "frozen": false,
     "read_only": false
    }
   },
   "outputs": [],
   "source": [
    "sorok=['This is the third line','Where is it?\\n']\n",
    "with open('./out_mentes2.dat',mode='a') as f:\n",
    "    f.writelines(sorok)"
   ]
  },
  {
   "cell_type": "markdown",
   "metadata": {
    "run_control": {
     "frozen": false,
     "read_only": false
    }
   },
   "source": [
    "Let us observe the file itself!"
   ]
  },
  {
   "cell_type": "markdown",
   "metadata": {
    "run_control": {
     "frozen": false,
     "read_only": false
    }
   },
   "source": [
    "If we want to write lines, and we don't want to add `'\\n'` each time, we can use the `print()` function."
   ]
  },
  {
   "cell_type": "code",
   "execution_count": 47,
   "metadata": {
    "run_control": {
     "frozen": false,
     "read_only": false
    }
   },
   "outputs": [],
   "source": [
    "sorok=['This is the third line','Where is it?\\n']\n",
    "with open('./out_mentes3.dat',mode='w') as f:\n",
    "    for s in sorok:\n",
    "        print(s,file=f)"
   ]
  },
  {
   "cell_type": "markdown",
   "metadata": {
    "run_control": {
     "frozen": false,
     "read_only": false
    }
   },
   "source": [
    "### Strange characters in strings\n",
    "\n",
    "We have already met with the newline character `'\\n'`. Similary to this, there are some more so-called [literal](https://docs.python.org/2.0/ref/strings.html) characters, that have a special meaning. Here's a table from the most common ones:"
   ]
  },
  {
   "cell_type": "markdown",
   "metadata": {
    "run_control": {
     "frozen": false,
     "read_only": false
    }
   },
   "source": [
    "\n",
    "character |\tmeaning\n",
    "-|-\n",
    "\\n|\tnewline\n",
    "\\r|\tcarriage return\n",
    "\\t|\thorizontal space (TAB)\n",
    "\\v| vertical space (TAB)\n",
    "\\xhh..| hexadecimal character with hh value\n",
    "\n"
   ]
  },
  {
   "cell_type": "markdown",
   "metadata": {
    "run_control": {
     "frozen": false,
     "read_only": false
    }
   },
   "source": [
    "The effect of `'\\r'`, `'\\t'`, and `'\\n'` using the `print()` function:"
   ]
  },
  {
   "cell_type": "code",
   "execution_count": 48,
   "metadata": {
    "run_control": {
     "frozen": false,
     "read_only": false
    }
   },
   "outputs": [
    {
     "name": "stdout",
     "output_type": "stream",
     "text": [
      "THESE ARE CAPITALSthese are lowercase\n"
     ]
    }
   ],
   "source": [
    "print(\"THESE ARE CAPITALSthese are lowercase\")"
   ]
  },
  {
   "cell_type": "code",
   "execution_count": 49,
   "metadata": {
    "run_control": {
     "frozen": false,
     "read_only": false
    }
   },
   "outputs": [
    {
     "name": "stdout",
     "output_type": "stream",
     "text": [
      "THESE ARE CAPITALS\r",
      "these are lowercase\n"
     ]
    }
   ],
   "source": [
    "print(\"THESE ARE CAPITALS\\rthese are lowercase\")"
   ]
  },
  {
   "cell_type": "code",
   "execution_count": 50,
   "metadata": {
    "run_control": {
     "frozen": false,
     "read_only": false
    }
   },
   "outputs": [
    {
     "name": "stdout",
     "output_type": "stream",
     "text": [
      "THESE ARE CAPITALS\tthese are lowercase\n"
     ]
    }
   ],
   "source": [
    "print(\"THESE ARE CAPITALS\\tthese are lowercase\")"
   ]
  },
  {
   "cell_type": "code",
   "execution_count": 51,
   "metadata": {
    "run_control": {
     "frozen": false,
     "read_only": false
    }
   },
   "outputs": [
    {
     "name": "stdout",
     "output_type": "stream",
     "text": [
      "THESE ARE CAPITALS\n",
      "these are lowercase\n"
     ]
    }
   ],
   "source": [
    "print(\"THESE ARE CAPITALS\\nthese are lowercase\")"
   ]
  },
  {
   "cell_type": "markdown",
   "metadata": {
    "run_control": {
     "frozen": false,
     "read_only": false
    }
   },
   "source": [
    "These characters behave the same way when writing to a file."
   ]
  },
  {
   "cell_type": "markdown",
   "metadata": {},
   "source": [
    "## Numpy file handling routines"
   ]
  },
  {
   "cell_type": "markdown",
   "metadata": {},
   "source": [
    "As we have already seen, the `array` class of the `numpy` package has many advantages compared to a simple `list` variable. The `numpy` package provides some very useful file handling routines, that can be used to read `array` class variables from a file or write them to a file. Below, we are going to have a look at two interesting examples."
   ]
  },
  {
   "cell_type": "markdown",
   "metadata": {
    "run_control": {
     "frozen": false,
     "read_only": false
    }
   },
   "source": [
    "![Baumgartner Jump with data](http://img.youtube.com/vi/raiFrxbHxV0/0.jpg)\n",
    "\n",
    "First, we are going to analyze the data from the [jump](https://youtu.be/raiFrxbHxV0) of Felix Baumgartner. The distance vs time data can be found in the `data/h_vs_t` file. Have a look at the file itself! It contains two columns of numbers. The first column is the time in seconds, the second is the height at that given timepoint in meters. Such simple filestructures are easy to read and load into `array`s with the `loadtxt` function of `numpy`."
   ]
  },
  {
   "cell_type": "code",
   "execution_count": 52,
   "metadata": {
    "run_control": {
     "frozen": false,
     "read_only": false
    }
   },
   "outputs": [],
   "source": [
    "baum_data=loadtxt(Datasets+'/h_vs_t.txt')"
   ]
  },
  {
   "cell_type": "markdown",
   "metadata": {},
   "source": [
    "We store the first column of the `baum_data` array in the variable `t`, and the second column in the variable `h`."
   ]
  },
  {
   "cell_type": "code",
   "execution_count": 53,
   "metadata": {
    "run_control": {
     "frozen": false,
     "read_only": false
    }
   },
   "outputs": [],
   "source": [
    "t=baum_data[:,0] # time\n",
    "h=baum_data[:,1] # height"
   ]
  },
  {
   "cell_type": "markdown",
   "metadata": {},
   "source": [
    "Let us plot the data! We pay attention to not leaving the labels from the axes."
   ]
  },
  {
   "cell_type": "code",
   "execution_count": 54,
   "metadata": {
    "run_control": {
     "frozen": false,
     "read_only": false
    }
   },
   "outputs": [
    {
     "data": {
      "text/plain": [
       "Text(0, 0.5, 'Height [m]')"
      ]
     },
     "execution_count": 54,
     "metadata": {},
     "output_type": "execute_result"
    },
    {
     "data": {
      "image/png": "[encoded data removed]",
      "text/plain": [
       "<Figure size 432x288 with 1 Axes>"
      ]
     },
     "metadata": {
      "needs_background": "light"
     },
     "output_type": "display_data"
    }
   ],
   "source": [
    "plot(t,h)\n",
    "xlabel('Time [s]')\n",
    "ylabel('Height [m]')"
   ]
  },
  {
   "cell_type": "markdown",
   "metadata": {},
   "source": [
    "It was an important question concerning the jump whether sound velocity will be achieved. Let's investigate from the data, whether it happened. First of all, we need the time dependence of velocity. We can achieve this through numberically derivating the height-time function. If we samply an $y(x)$ function with a finite number of $x_i,y_i$ pairs, then the numerical derivative is roughly the following difference:\n",
    "\n",
    " $$\\left . \\frac{\\mathrm{d}y}{\\mathrm{d}x}\\right|_{x_i} =\\frac{y_{i+1}-y_i}{x_{i+1}-x_i} $$"
   ]
  },
  {
   "cell_type": "markdown",
   "metadata": {},
   "source": [
    "Let us now define a function, that creates the numerical derivative from two arrays `x` and `y`.We have to take care of the first and the last elements of the arrays differently."
   ]
  },
  {
   "cell_type": "code",
   "execution_count": 55,
   "metadata": {
    "run_control": {
     "frozen": false,
     "read_only": false
    }
   },
   "outputs": [],
   "source": [
    "# numerical derivative function\n",
    "def nderiv(y,x):\n",
    "    \"Frist neighbor differetial\"\n",
    "    n = len(y) # number of datapoints\n",
    "    d = zeros(n) # initializing an array with zeros\n",
    "    # handling endpoints\n",
    "    for i in range(1,n-1):\n",
    "        d[i] = (y[i+1]-y[i])/(x[i+1]-x[i])   # derivative of a general point\n",
    "    d[0] = (y[1]-y[0])/(x[1]-x[0])           # derivative of the first point\n",
    "    d[n-1] = (y[n-1]-y[n-2])/(x[n-1]-x[n-2]) # derivative of the last point\n",
    "    return d"
   ]
  },
  {
   "cell_type": "markdown",
   "metadata": {},
   "source": [
    "We can now determine the velocity with the help of the `nderiv` function."
   ]
  },
  {
   "cell_type": "code",
   "execution_count": 56,
   "metadata": {
    "run_control": {
     "frozen": false,
     "read_only": false
    }
   },
   "outputs": [],
   "source": [
    "v=nderiv(h,t) # The first variable is 'h' and the second is 't'!!!"
   ]
  },
  {
   "cell_type": "markdown",
   "metadata": {
    "run_control": {
     "frozen": false,
     "read_only": false
    }
   },
   "source": [
    "How does the velocity-time function look like?"
   ]
  },
  {
   "cell_type": "code",
   "execution_count": 57,
   "metadata": {
    "run_control": {
     "frozen": false,
     "read_only": false
    }
   },
   "outputs": [
    {
     "data": {
      "text/plain": [
       "Text(0, 0.5, 'Velocity [m/s]')"
      ]
     },
     "execution_count": 57,
     "metadata": {},
     "output_type": "execute_result"
    },
    {
     "data": {
      "image/png": "[encoded data removed]",
      "text/plain": [
       "<Figure size 432x288 with 1 Axes>"
      ]
     },
     "metadata": {
      "needs_background": "light"
     },
     "output_type": "display_data"
    }
   ],
   "source": [
    "plot(t,v)\n",
    "xlabel('Time [s]')\n",
    "ylabel('Velocity [m/s]')"
   ]
  },
  {
   "cell_type": "markdown",
   "metadata": {},
   "source": [
    "Because the speed of sound depends on height, it is reasonable to plot the velocity as a function of height in order to determine whether Felix Baumgartner has crossed the threshold."
   ]
  },
  {
   "cell_type": "code",
   "execution_count": 58,
   "metadata": {
    "run_control": {
     "frozen": false,
     "read_only": false
    }
   },
   "outputs": [
    {
     "data": {
      "text/plain": [
       "Text(0, 0.5, 'Velocity [m/s]')"
      ]
     },
     "execution_count": 58,
     "metadata": {},
     "output_type": "execute_result"
    },
    {
     "data": {
      "image/png": "[encoded data removed]",
      "text/plain": [
       "<Figure size 432x288 with 1 Axes>"
      ]
     },
     "metadata": {
      "needs_background": "light"
     },
     "output_type": "display_data"
    }
   ],
   "source": [
    "plot(h,abs(v))\n",
    "xlabel('Height [m]')\n",
    "ylabel('Velocity [m/s]')"
   ]
  },
  {
   "cell_type": "markdown",
   "metadata": {},
   "source": [
    "According to [Wikipedia](https://upload.wikimedia.org/wikipedia/commons/thumb/9/9d/Comparison_US_standard_atmosphere_1962.svg/2000px-Comparison_US_standard_atmosphere_1962.svg.png), around 25 km of height, the velocity of sound is slightly below 300 m/s. At this height, the velocity of Felix Baumgartner has been around 350 m/s, therefore he has succeeded in setting the record according to the measurements."
   ]
  },
  {
   "cell_type": "markdown",
   "metadata": {},
   "source": [
    "We can save the velocity-time data with the `savetxt` function of `numpy`."
   ]
  },
  {
   "cell_type": "code",
   "execution_count": 59,
   "metadata": {
    "run_control": {
     "frozen": false,
     "read_only": false
    }
   },
   "outputs": [],
   "source": [
    "savetxt('./out_tv.txt',[t,v])"
   ]
  },
  {
   "cell_type": "markdown",
   "metadata": {},
   "source": [
    "Observe the file!"
   ]
  },
  {
   "cell_type": "markdown",
   "metadata": {},
   "source": [
    "## Numpy binary I/O"
   ]
  },
  {
   "cell_type": "markdown",
   "metadata": {},
   "source": [
    "Writing big arrays into textfiles might be very slow. If no human is ever going to read our files, only computers, we can choose to use the binary load/save functions of `numpy`, that enables very fast reading/writing."
   ]
  },
  {
   "cell_type": "markdown",
   "metadata": {
    "run_control": {
     "frozen": false,
     "read_only": false
    }
   },
   "source": [
    "Let us now make a big array."
   ]
  },
  {
   "cell_type": "code",
   "execution_count": 60,
   "metadata": {
    "run_control": {
     "frozen": false,
     "read_only": false
    }
   },
   "outputs": [],
   "source": [
    "# big array\n",
    "a=random.random((2048,2048))"
   ]
  },
  {
   "cell_type": "markdown",
   "metadata": {
    "run_control": {
     "frozen": false,
     "read_only": false
    }
   },
   "source": [
    "Let us write it out as a text, and let's measure how long it takes."
   ]
  },
  {
   "cell_type": "code",
   "execution_count": 61,
   "metadata": {
    "run_control": {
     "frozen": false,
     "read_only": false
    }
   },
   "outputs": [
    {
     "name": "stdout",
     "output_type": "stream",
     "text": [
      "CPU times: user 4.2 s, sys: 111 ms, total: 4.31 s\n",
      "Wall time: 4.44 s\n"
     ]
    }
   ],
   "source": [
    "%time savetxt('./out_tmp.txt',a)"
   ]
  },
  {
   "cell_type": "markdown",
   "metadata": {
    "run_control": {
     "frozen": false,
     "read_only": false
    }
   },
   "source": [
    "Let's save it in binary mode. This is simply done by using the [`save`](https://docs.scipy.org/doc/numpy/reference/generated/numpy.save.html) function of the `numpy` module. This function enables binary mode writing for variables."
   ]
  },
  {
   "cell_type": "code",
   "execution_count": 62,
   "metadata": {
    "run_control": {
     "frozen": false,
     "read_only": false
    }
   },
   "outputs": [
    {
     "name": "stdout",
     "output_type": "stream",
     "text": [
      "CPU times: user 2.05 ms, sys: 32.9 ms, total: 35 ms\n",
      "Wall time: 33.4 ms\n"
     ]
    }
   ],
   "source": [
    "%time save('./out_tmp.npy',a)"
   ]
  },
  {
   "cell_type": "markdown",
   "metadata": {
    "run_control": {
     "frozen": false,
     "read_only": false
    }
   },
   "source": [
    "Let's read it as text."
   ]
  },
  {
   "cell_type": "code",
   "execution_count": 63,
   "metadata": {
    "run_control": {
     "frozen": false,
     "read_only": false
    }
   },
   "outputs": [
    {
     "name": "stdout",
     "output_type": "stream",
     "text": [
      "CPU times: user 4.41 s, sys: 472 ms, total: 4.88 s\n",
      "Wall time: 4.92 s\n"
     ]
    }
   ],
   "source": [
    "%time a1=loadtxt('./out_tmp.txt')"
   ]
  },
  {
   "cell_type": "markdown",
   "metadata": {
    "run_control": {
     "frozen": false,
     "read_only": false
    }
   },
   "source": [
    "Let's read it as a binary."
   ]
  },
  {
   "cell_type": "code",
   "execution_count": 64,
   "metadata": {
    "run_control": {
     "frozen": false,
     "read_only": false
    }
   },
   "outputs": [
    {
     "name": "stdout",
     "output_type": "stream",
     "text": [
      "CPU times: user 0 ns, sys: 8.76 s, total: 8.76 s\n",
      "Wall time: 8.83 s\n"
     ]
    }
   ],
   "source": [
    "%time a2=load('./out_tmp.npy')"
   ]
  },
  {
   "cell_type": "markdown",
   "metadata": {
    "run_control": {
     "frozen": false,
     "read_only": false
    }
   },
   "source": [
    "Let's compare the two arrays."
   ]
  },
  {
   "cell_type": "code",
   "execution_count": 65,
   "metadata": {
    "run_control": {
     "frozen": false,
     "read_only": false
    }
   },
   "outputs": [
    {
     "data": {
      "text/plain": [
       "True"
      ]
     },
     "execution_count": 65,
     "metadata": {},
     "output_type": "execute_result"
    }
   ],
   "source": [
    "all(a1==a2)"
   ]
  },
  {
   "cell_type": "markdown",
   "metadata": {
    "run_control": {
     "frozen": false,
     "read_only": false
    }
   },
   "source": [
    "Let's compare the file sizes!"
   ]
  },
  {
   "cell_type": "code",
   "execution_count": 66,
   "metadata": {},
   "outputs": [
    {
     "name": "stdout",
     "output_type": "stream",
     "text": [
      "du: cannot access 'data/out_tmp.txt': No such file or directory\r\n"
     ]
    }
   ],
   "source": [
    "! du -h data/out_tmp.txt"
   ]
  },
  {
   "cell_type": "code",
   "execution_count": 67,
   "metadata": {},
   "outputs": [
    {
     "name": "stdout",
     "output_type": "stream",
     "text": [
      "du: cannot access 'data/out_tmp.npy': No such file or directory\r\n"
     ]
    }
   ],
   "source": [
    "! du -h data/out_tmp.npy"
   ]
  },
  {
   "cell_type": "markdown",
   "metadata": {},
   "source": [
    "There can even be one order of magnitude difference in the writing when we use the binary mode. The size of binary files is also smaller."
   ]
  },
  {
   "cell_type": "markdown",
   "metadata": {
    "run_control": {
     "frozen": false,
     "read_only": false
    }
   },
   "source": [
    "---\n",
    "\n",
    "## Pickle,  let's save anything"
   ]
  },
  {
   "cell_type": "markdown",
   "metadata": {},
   "source": [
    "It might happen that we want to save a simple table or anything else that can eb easily represented in a file. In such cases, we don't have to create difficult read/write functions, because we can use the `pickle` package of Python. This can convert any python objects to bytes, and save it to a file."
   ]
  },
  {
   "cell_type": "markdown",
   "metadata": {},
   "source": [
    "Assume that we would like to save a complex number that we've already worked on, and we'd like to use it later."
   ]
  },
  {
   "cell_type": "code",
   "execution_count": 68,
   "metadata": {
    "run_control": {
     "frozen": false,
     "read_only": false
    }
   },
   "outputs": [],
   "source": [
    "class Complex:\n",
    "    \"\"\"\n",
    "    Our own complex class instead of that of Python.\n",
    "    We could still work on it...\n",
    "    \n",
    "    \"\"\"\n",
    "    def __init__(self,re,im):\n",
    "        self.re,self.im=re,im\n",
    "    \n",
    "    def __add__(self,other):\n",
    "        return Complex(self.re+other.re,self.im+other.im)\n",
    "    \n",
    "    def __mul__(self,other):\n",
    "        re=self.re*other.re - self.im*other.im\n",
    "        im=self.re*other.im + self.im*other.re\n",
    "        return Complex(re,im)\n",
    "    \n",
    "    def __abs__(self):\n",
    "        return (self.re**2 + self.im**2)**0.5\n",
    "    \n",
    "    def __str__(self):\n",
    "         return str(self.re)+' + '+str(self.im)+'i'\n",
    "    __repr__=__str__"
   ]
  },
  {
   "cell_type": "code",
   "execution_count": 69,
   "metadata": {
    "run_control": {
     "frozen": false,
     "read_only": false
    }
   },
   "outputs": [
    {
     "data": {
      "text/plain": [
       "('test:', 3 + 4i, 5.0, 6 + 8i, -7 + 24i)"
      ]
     },
     "execution_count": 69,
     "metadata": {},
     "output_type": "execute_result"
    }
   ],
   "source": [
    "z=Complex(3,4)\n",
    "'test:',z,abs(z),z+z,z*z"
   ]
  },
  {
   "cell_type": "code",
   "execution_count": 70,
   "metadata": {
    "run_control": {
     "frozen": false,
     "read_only": false
    }
   },
   "outputs": [],
   "source": [
    "import pickle # loading the picke module as usual"
   ]
  },
  {
   "cell_type": "markdown",
   "metadata": {},
   "source": [
    "We open a file and we can write into it. We use the function [`dump`](https://docs.python.org/3/library/pickle.html?highlight=dump#pickle.dump) from the `pickle` module."
   ]
  },
  {
   "cell_type": "code",
   "execution_count": 71,
   "metadata": {
    "run_control": {
     "frozen": false,
     "read_only": false
    }
   },
   "outputs": [],
   "source": [
    "with open(\"./out_complex.pkl\",\"wb\") as f:\n",
    "    pickle.dump(z,f)"
   ]
  },
  {
   "cell_type": "markdown",
   "metadata": {
    "run_control": {
     "frozen": false,
     "read_only": false
    }
   },
   "source": [
    "Let's load it back. This is done by `pickle` module's [`load`](https://docs.python.org/3/library/pickle.html?highlight=dump#pickle.load) function:"
   ]
  },
  {
   "cell_type": "code",
   "execution_count": 72,
   "metadata": {
    "run_control": {
     "frozen": false,
     "read_only": false
    }
   },
   "outputs": [],
   "source": [
    "with open(\"./out_complex.pkl\",\"rb\") as f:\n",
    "    uj_z = pickle.load(f)"
   ]
  },
  {
   "cell_type": "code",
   "execution_count": 73,
   "metadata": {
    "run_control": {
     "frozen": false,
     "read_only": false
    }
   },
   "outputs": [
    {
     "data": {
      "text/plain": [
       "3 + 4i"
      ]
     },
     "execution_count": 73,
     "metadata": {},
     "output_type": "execute_result"
    }
   ],
   "source": [
    "uj_z"
   ]
  },
  {
   "cell_type": "markdown",
   "metadata": {
    "run_control": {
     "frozen": false,
     "read_only": false
    }
   },
   "source": [
    "---\n",
    "\n",
    "## Images\n",
    "\n",
    "It is very easy to manipulate images in Python. Now, we only have a look at the most common `matplotlib` functions, but there are many other packages for handling image files, e.g. [opencv](http://docs.opencv.org/3.0-beta/doc/py_tutorials/py_tutorials.html),[scikit-image](http://scikit-image.org/),[pillow](https://python-pillow.org/)."
   ]
  },
  {
   "cell_type": "markdown",
   "metadata": {},
   "source": [
    "Loading an image is easiest with the function `matplotlib.image.imread`."
   ]
  },
  {
   "cell_type": "code",
   "execution_count": 75,
   "metadata": {
    "run_control": {
     "frozen": false,
     "read_only": false
    }
   },
   "outputs": [],
   "source": [
    "im=imread(Datasets+'/city.jpg')"
   ]
  },
  {
   "cell_type": "markdown",
   "metadata": {
    "run_control": {
     "frozen": false,
     "read_only": false
    }
   },
   "source": [
    "The loaded image has `numpy.array` type, that we already know."
   ]
  },
  {
   "cell_type": "code",
   "execution_count": 76,
   "metadata": {
    "run_control": {
     "frozen": false,
     "read_only": false
    }
   },
   "outputs": [
    {
     "data": {
      "text/plain": [
       "numpy.ndarray"
      ]
     },
     "execution_count": 76,
     "metadata": {},
     "output_type": "execute_result"
    }
   ],
   "source": [
    "type(im)"
   ]
  },
  {
   "cell_type": "markdown",
   "metadata": {},
   "source": [
    "Show image"
   ]
  },
  {
   "cell_type": "code",
   "execution_count": 80,
   "metadata": {
    "run_control": {
     "frozen": false,
     "read_only": false
    }
   },
   "outputs": [
    {
     "data": {
      "text/plain": [
       "<matplotlib.colorbar.Colorbar at 0x7f9421946978>"
      ]
     },
     "execution_count": 80,
     "metadata": {},
     "output_type": "execute_result"
    },
    {
     "data": {
      "image/png": "[encoded data removed]",
      "text/plain": [
       "<Figure size 432x288 with 2 Axes>"
      ]
     },
     "metadata": {
      "needs_background": "light"
     },
     "output_type": "display_data"
    }
   ],
   "source": [
    "imshow(im) "
   ]
  },
  {
   "cell_type": "markdown",
   "metadata": {},
   "source": [
    "It is possible to have a look at the image with other colorscales or at another scale."
   ]
  },
  {
   "cell_type": "code",
   "execution_count": 77,
   "metadata": {
    "run_control": {
     "frozen": false,
     "read_only": false
    }
   },
   "outputs": [
    {
     "data": {
      "text/plain": [
       "<matplotlib.colorbar.Colorbar at 0x7f942273f4a8>"
      ]
     },
     "execution_count": 77,
     "metadata": {},
     "output_type": "execute_result"
    },
    {
     "data": {
      "image/png": "[encoded data removed]",
      "text/plain": [
       "<Figure size 432x288 with 2 Axes>"
      ]
     },
     "metadata": {
      "needs_background": "light"
     },
     "output_type": "display_data"
    }
   ],
   "source": [
    "imshow(im[:,:,2],cmap='Blues') # the blue channel with a colormap 'Blues'\n",
    "colorbar() # colorscale"
   ]
  },
  {
   "cell_type": "markdown",
   "metadata": {},
   "source": [
    "When manipulating images, we have to pay attention to the fact that they are mostly composed of `uint8` type numbers. The values of this type are integer values represented on 8 bits, and therefore, they are in the [0-255] interval."
   ]
  },
  {
   "cell_type": "code",
   "execution_count": 78,
   "metadata": {
    "run_control": {
     "frozen": false,
     "read_only": false
    }
   },
   "outputs": [
    {
     "data": {
      "text/plain": [
       "dtype('uint8')"
      ]
     },
     "execution_count": 78,
     "metadata": {},
     "output_type": "execute_result"
    }
   ],
   "source": [
    "im.dtype"
   ]
  },
  {
   "cell_type": "markdown",
   "metadata": {},
   "source": [
    "After we determine the spatial structure of the DNA from the above picture, we can save the image. The extension of the filename automatically determines the format of the picture."
   ]
  },
  {
   "cell_type": "code",
   "execution_count": 79,
   "metadata": {
    "run_control": {
     "frozen": false,
     "read_only": false
    }
   },
   "outputs": [],
   "source": [
    "imsave('./out_saved_image.jpg',im)  # saving to jpg\n",
    "imsave('./out_saved_image.png',im)  # saving to png\n",
    "imsave('./out_saved_image.tiff',im) # saving to tiff"
   ]
  },
  {
   "cell_type": "markdown",
   "metadata": {
    "run_control": {
     "frozen": false,
     "read_only": false
    }
   },
   "source": [
    "# Some exotic file formats in Python\n",
    "\n",
    "## HDF files\n",
    "\n",
    "Hierarchical Data Format, or HDF is a widespread format for storing or sharing large amounts of scientific data. It has two main versions, that are not really compatible with each other. In this part, we are going to have a look at the newer HDF5 files.\n",
    "\n",
    "The data stored in HDF5 files can be arranged into groups and subgroups, between which we can make references. We can imagine it as a directory structure that contains data everywhere.\n",
    "\n",
    "![](http://neondataskills.org/images/HDf5/hdf5_structure4.jpg)\n",
    "\n",
    "There are two main parts of an HDF5 file, containing the descriptive metadata, and the data itself. The data is stored in multidimensional tables. We can refer to the subgroups of an HDF5 file as in a traditional directory structure by giving names to the subgroups. There is a \"root\" group, that is denoted by \"/\", and then a certain data array can be refferred to as \"/groupname/data\"."
   ]
  },
  {
   "cell_type": "markdown",
   "metadata": {},
   "source": [
    "In Python, the package `h5py` is the most common way of handling HDF5 files."
   ]
  },
  {
   "cell_type": "code",
   "execution_count": 81,
   "metadata": {
    "run_control": {
     "frozen": false,
     "read_only": false
    }
   },
   "outputs": [],
   "source": [
    "import h5py"
   ]
  },
  {
   "cell_type": "markdown",
   "metadata": {},
   "source": [
    "We can open HDF5 files with the `h5py.File` funciton. First, we have to decide whether we would like to read or write the given file through the 'r' or 'w' options that are similar to that of the built-in `open()` function."
   ]
  },
  {
   "cell_type": "code",
   "execution_count": 83,
   "metadata": {
    "run_control": {
     "frozen": false,
     "read_only": false
    }
   },
   "outputs": [],
   "source": [
    "f = h5py.File(Datasets+\"/data.h5\", \"r\")"
   ]
  },
  {
   "cell_type": "markdown",
   "metadata": {},
   "source": [
    "The names of the elements of the data directory can be retrieved as dictionary keys with the `keys()` method."
   ]
  },
  {
   "cell_type": "code",
   "execution_count": 84,
   "metadata": {
    "run_control": {
     "frozen": false,
     "read_only": false
    }
   },
   "outputs": [
    {
     "data": {
      "text/plain": [
       "['data', 'data_descr']"
      ]
     },
     "execution_count": 84,
     "metadata": {},
     "output_type": "execute_result"
    }
   ],
   "source": [
    "list(f.keys()) # if we don't transform it into a list, it won't be printed nicely"
   ]
  },
  {
   "cell_type": "markdown",
   "metadata": {},
   "source": [
    "One step down the hierarchy, there are the following keys:"
   ]
  },
  {
   "cell_type": "code",
   "execution_count": 85,
   "metadata": {},
   "outputs": [
    {
     "data": {
      "text/plain": [
       "['data', 'data_indices', 'data_indptr', 'label']"
      ]
     },
     "execution_count": 85,
     "metadata": {},
     "output_type": "execute_result"
    }
   ],
   "source": [
    "list(f[\"data\"].keys()) "
   ]
  },
  {
   "cell_type": "markdown",
   "metadata": {
    "run_control": {
     "frozen": false,
     "read_only": false
    }
   },
   "source": [
    "Let's have a look at the `data/data` group contanining the most information."
   ]
  },
  {
   "cell_type": "code",
   "execution_count": 86,
   "metadata": {
    "run_control": {
     "frozen": false,
     "read_only": false
    }
   },
   "outputs": [
    {
     "data": {
      "text/plain": [
       "<HDF5 dataset \"data\": shape (451592,), type \"<f8\">"
      ]
     },
     "execution_count": 86,
     "metadata": {},
     "output_type": "execute_result"
    }
   ],
   "source": [
    "f[\"data/data\"] # this contains a data table"
   ]
  },
  {
   "cell_type": "code",
   "execution_count": 87,
   "metadata": {
    "run_control": {
     "frozen": false,
     "read_only": false
    }
   },
   "outputs": [
    {
     "data": {
      "text/plain": [
       "array([1., 1., 1., ..., 1., 1., 1.])"
      ]
     },
     "execution_count": 87,
     "metadata": {},
     "output_type": "execute_result"
    }
   ],
   "source": [
    "f[\"/data/data\"][:] # we get an array now"
   ]
  },
  {
   "cell_type": "markdown",
   "metadata": {},
   "source": [
    "These files can store very complex data structures. The groups and subgroups can encode different relations. Of course, reading such files is more difficult than simple text files, and to be able to interpret a certain file, we have to have some information on its structure."
   ]
  },
  {
   "cell_type": "markdown",
   "metadata": {
    "run_control": {
     "frozen": false,
     "read_only": false
    }
   },
   "source": [
    "### Visualizations of HDF5 datafiles\n",
    "\n",
    "Next, we are going to show how to visualize data from HDF5 files."
   ]
  },
  {
   "cell_type": "code",
   "execution_count": 88,
   "metadata": {
    "run_control": {
     "frozen": false,
     "read_only": false
    }
   },
   "outputs": [],
   "source": [
    "f = h5py.File(Datasets+\"/h5ex_t_enum.h5\", \"r\")"
   ]
  },
  {
   "cell_type": "markdown",
   "metadata": {},
   "source": [
    "By applying the `values()` method, we can see that in this file there is only one data group with a name DS1. Moreover, the system also shows that we have to read a 4x7 matrix."
   ]
  },
  {
   "cell_type": "code",
   "execution_count": 89,
   "metadata": {
    "run_control": {
     "frozen": false,
     "read_only": false
    }
   },
   "outputs": [
    {
     "data": {
      "text/plain": [
       "[<HDF5 dataset \"DS1\": shape (4, 7), type \">i2\">]"
      ]
     },
     "execution_count": 89,
     "metadata": {},
     "output_type": "execute_result"
    }
   ],
   "source": [
    "list(f.values())"
   ]
  },
  {
   "cell_type": "markdown",
   "metadata": {},
   "source": [
    "As we have already seen, the `imshow` function of Python can represent an array as an image."
   ]
  },
  {
   "cell_type": "code",
   "execution_count": 90,
   "metadata": {
    "run_control": {
     "frozen": false,
     "read_only": false
    },
    "scrolled": true
   },
   "outputs": [
    {
     "data": {
      "text/plain": [
       "<matplotlib.image.AxesImage at 0x7f942086fc88>"
      ]
     },
     "execution_count": 90,
     "metadata": {},
     "output_type": "execute_result"
    },
    {
     "data": {
      "image/png": "[encoded data removed]",
      "text/plain": [
       "<Figure size 432x288 with 1 Axes>"
      ]
     },
     "metadata": {
      "needs_background": "light"
     },
     "output_type": "display_data"
    }
   ],
   "source": [
    "imshow(f[\"DS1\"])"
   ]
  },
  {
   "cell_type": "markdown",
   "metadata": {
    "run_control": {
     "frozen": false,
     "read_only": false
    }
   },
   "source": [
    "More information on HDF5 files:\n",
    "- [official documentation](http://docs.h5py.org/en/latest/quick.html) of `h5py`\n",
    "- [Homepage](https://www.hdfgroup.org/) of the HDF group\n",
    "- HDF5 [tutorials](http://neondataskills.org/HDF5/)"
   ]
  },
  {
   "cell_type": "markdown",
   "metadata": {
    "run_control": {
     "frozen": false,
     "read_only": false
    }
   },
   "source": [
    "## Flexible Image Transport System, or [Fits](https://fits.gsfc.nasa.gov/fits_primer.html) files\n",
    "\n",
    "FITS is the most common image format of modern astronomy. Apart from storing visual information, these files keep metadata that is indispensable for further processing, such as exact time or setting of the device the image has been taken with.\n",
    "\n",
    "FITS file have two main parts. First is the header that stores the metadata, and the second is the observed data series. Mostly, these data series are 2D arrays corrsesponding to images captures by the CCD sensors of telescopes, but it is possible to store more dimensions as well, with a maximum of 999.\n",
    "\n",
    "Out of these two main parts, multiple segments can be built and concatenated into one FITS file. These segments are called HDUs (Header/Data Units). One FITS may contain multiple HDUs. For example, one file can store images taken with different filters."
   ]
  },
  {
   "cell_type": "markdown",
   "metadata": {
    "run_control": {
     "frozen": false,
     "read_only": false
    }
   },
   "source": [
    "<img src=http://www.stsci.edu/hst/cos/documents/handbooks/datahandbook/images/ch2_cos_data5.02.jpg></img>"
   ]
  },
  {
   "cell_type": "markdown",
   "metadata": {},
   "source": [
    "Sometimes, the first HDU is called Primary, and the further HDUs are called Extend. This meand that by default, the first HDU is used.\n",
    "\n",
    "Three types of data can be stored in FITS images:\n",
    "\n",
    "* \"IMAGE\" multidimensional visual information\n",
    "* \"TABLE\" ASCII table that is not human readable\n",
    "* \"BINTABLE\" binary multidimensional data table"
   ]
  },
  {
   "cell_type": "markdown",
   "metadata": {},
   "source": [
    "We can work with FITS files by loading the `astropy` package. The module is gigantic, and its `astropy.io` submodule handles the FITS images. The `astropy.wcs` submodule can convert between different coordinate systems that can also be used for the representation of the images."
   ]
  },
  {
   "cell_type": "code",
   "execution_count": 91,
   "metadata": {
    "run_control": {
     "frozen": false,
     "read_only": false
    }
   },
   "outputs": [],
   "source": [
    "#from astropy.io import fits\n",
    "import astropy.io.fits as fits\n",
    "#from astropy import wcs as wcs\n",
    "import astropy.wcs as wcs"
   ]
  },
  {
   "cell_type": "markdown",
   "metadata": {
    "run_control": {
     "frozen": false,
     "read_only": false
    }
   },
   "source": [
    "If we have a look at the example datafile `data/HorseHead.fits`, we can see that it cannot be loaded as a textfile with the `cat` command of `bash`, because it contains mostly unreadable binary data."
   ]
  },
  {
   "cell_type": "code",
   "execution_count": 92,
   "metadata": {
    "run_control": {
     "frozen": false,
     "read_only": false
    },
    "scrolled": true
   },
   "outputs": [
    {
     "name": "stdout",
     "output_type": "stream",
     "text": [
      "cat: data/HorseHead.fits: No such file or directory\r\n"
     ]
    }
   ],
   "source": [
    "! cat data/HorseHead.fits | head -n 2 | tail -1"
   ]
  },
  {
   "cell_type": "markdown",
   "metadata": {
    "run_control": {
     "frozen": false,
     "read_only": false
    }
   },
   "source": [
    "We can load the file with the `fits.open` command of the `astropy` package."
   ]
  },
  {
   "cell_type": "code",
   "execution_count": 93,
   "metadata": {
    "run_control": {
     "frozen": false,
     "read_only": false
    }
   },
   "outputs": [],
   "source": [
    "hdu=fits.open(Datasets+'/HorseHead.fits')"
   ]
  },
  {
   "cell_type": "markdown",
   "metadata": {
    "run_control": {
     "frozen": false,
     "read_only": false
    }
   },
   "source": [
    "The loaded data has several different properties. One of them is that we can have a look at the HDUs that are contained in it. In this case, out picture has two segments."
   ]
  },
  {
   "cell_type": "code",
   "execution_count": 94,
   "metadata": {
    "run_control": {
     "frozen": false,
     "read_only": false
    }
   },
   "outputs": [
    {
     "name": "stdout",
     "output_type": "stream",
     "text": [
      "Filename: /home/course/public/01-data//HorseHead.fits\n",
      "No.    Name      Ver    Type      Cards   Dimensions   Format\n",
      "  0  PRIMARY       1 PrimaryHDU     161   (891, 893)   int16   \n",
      "  1  er.mask       1 TableHDU        25   1600R x 4C   [F6.2, F6.2, F6.2, F6.2]   \n"
     ]
    }
   ],
   "source": [
    "hdu.info()"
   ]
  },
  {
   "cell_type": "markdown",
   "metadata": {
    "run_control": {
     "frozen": false,
     "read_only": false
    }
   },
   "source": [
    "After choosing a segment, it is possible to have a look at the content of the header with the `header` option. We can see that there is much information encoded into the header."
   ]
  },
  {
   "cell_type": "code",
   "execution_count": 95,
   "metadata": {
    "run_control": {
     "frozen": false,
     "read_only": false
    }
   },
   "outputs": [
    {
     "data": {
      "text/plain": [
       "161"
      ]
     },
     "execution_count": 95,
     "metadata": {},
     "output_type": "execute_result"
    }
   ],
   "source": [
    "len(hdu[0].header)"
   ]
  },
  {
   "cell_type": "code",
   "execution_count": 96,
   "metadata": {
    "run_control": {
     "frozen": false,
     "read_only": false
    }
   },
   "outputs": [
    {
     "data": {
      "text/plain": [
       "SIMPLE  =                    T /FITS: Compliance                                \n",
       "BITPIX  =                   16 /FITS: I*2 Data                                  \n",
       "NAXIS   =                    2 /FITS: 2-D Image Data                            \n",
       "NAXIS1  =                  891 /FITS: X Dimension                               \n",
       "NAXIS2  =                  893 /FITS: Y Dimension                               \n",
       "EXTEND  =                    T /FITS: File can contain extensions               \n",
       "DATE    = '2014-01-09        '  /FITS: Creation Date                            \n",
       "ORIGIN  = 'STScI/MAST'         /GSSS: STScI Digitized Sky Survey                \n",
       "SURVEY  = 'SERC-ER '           /GSSS: Sky Survey                                \n",
       "REGION  = 'ER768   '           /GSSS: Region Name                               "
      ]
     },
     "execution_count": 96,
     "metadata": {},
     "output_type": "execute_result"
    }
   ],
   "source": [
    "hdu[0].header[:10] # Ez csak az első 10 sor a header-ből"
   ]
  },
  {
   "cell_type": "markdown",
   "metadata": {
    "run_control": {
     "frozen": false,
     "read_only": false
    }
   },
   "source": [
    "The visual information is stored in the  `data` option of the segment. This has the type of the already familiar `numpy.array`."
   ]
  },
  {
   "cell_type": "code",
   "execution_count": 97,
   "metadata": {
    "run_control": {
     "frozen": false,
     "read_only": false
    }
   },
   "outputs": [
    {
     "data": {
      "text/plain": [
       "(893, 891)"
      ]
     },
     "execution_count": 97,
     "metadata": {},
     "output_type": "execute_result"
    }
   ],
   "source": [
    "image=hdu[0].data\n",
    "image.shape"
   ]
  },
  {
   "cell_type": "code",
   "execution_count": 98,
   "metadata": {
    "run_control": {
     "frozen": false,
     "read_only": false
    }
   },
   "outputs": [
    {
     "data": {
      "text/plain": [
       "array([[ 7201,  6642,  6642, ...,  9498,  9498, 10057],\n",
       "       [ 6642,  6363,  6642, ..., 10057, 10616, 10616],\n",
       "       [ 6922,  6642,  6922, ..., 10337, 11175, 10616],\n",
       "       ...,\n",
       "       [ 5412,  5132,  5412, ..., 13000, 12580, 12021],\n",
       "       [ 5796,  5517,  5796, ..., 12546, 12546, 11987],\n",
       "       [ 5796,  5796,  6076, ..., 11987, 12546, 12546]], dtype=int16)"
      ]
     },
     "execution_count": 98,
     "metadata": {},
     "output_type": "execute_result"
    }
   ],
   "source": [
    "image"
   ]
  },
  {
   "cell_type": "markdown",
   "metadata": {
    "run_control": {
     "frozen": false,
     "read_only": false
    }
   },
   "source": [
    "The advantage of the fits files used in anstronomy is that along the information encoded in the picture, the header contains important metadata such as the properties of the method the picture was made with. There is also information on the celestial coordinates of the picture. The coordinate information can be listed with the `wcs.WCS` command."
   ]
  },
  {
   "cell_type": "code",
   "execution_count": 99,
   "metadata": {
    "run_control": {
     "frozen": false,
     "read_only": false
    }
   },
   "outputs": [
    {
     "data": {
      "text/plain": [
       "WCS Keywords\n",
       "\n",
       "Number of WCS axes: 2\n",
       "CTYPE : 'RA---TAN'  'DEC--TAN'  \n",
       "CRVAL : 85.59941666666666  -4.946638888888889  \n",
       "CRPIX : -716.333144294269  -8444.64946698226  \n",
       "PC1_1 PC1_2  : 0.015029018460682027  -9.63735777657198e-06  \n",
       "PC2_1 PC2_2  : 1.0548917307845708e-05  0.015000473845055023  \n",
       "CDELT : -0.018654788242111486  0.018654788242111486  \n",
       "NAXIS : 891  893"
      ]
     },
     "execution_count": 99,
     "metadata": {},
     "output_type": "execute_result"
    }
   ],
   "source": [
    "kord=wcs.WCS(hdu[0].header)\n",
    "kord"
   ]
  },
  {
   "cell_type": "markdown",
   "metadata": {
    "run_control": {
     "frozen": false,
     "read_only": false
    }
   },
   "source": [
    "Knowing the coordinates enables us to make a figure whose axes are the celestial coordinate axes, therefore, we are able to read the celestial position of the given part of the picture.\n",
    "First, we make the box in which we are going to put our picture analogous to the drawing of 3D plots:"
   ]
  },
  {
   "cell_type": "code",
   "execution_count": 100,
   "metadata": {
    "run_control": {
     "frozen": false,
     "read_only": false
    }
   },
   "outputs": [
    {
     "data": {
      "text/plain": [
       "<matplotlib.axes._subplots.WCSAxesSubplot at 0x7f94228fdcc0>"
      ]
     },
     "execution_count": 100,
     "metadata": {},
     "output_type": "execute_result"
    },
    {
     "data": {
      "image/png": "[encoded data removed]",
      "text/plain": [
       "<Figure size 432x288 with 1 Axes>"
      ]
     },
     "metadata": {
      "needs_background": "light"
     },
     "output_type": "display_data"
    }
   ],
   "source": [
    "subplot(111,projection=kord) # telling matplotlib to use celestial coordinates"
   ]
  },
  {
   "cell_type": "markdown",
   "metadata": {
    "run_control": {
     "frozen": false,
     "read_only": false
    }
   },
   "source": [
    "Let's load the box with the information from the image."
   ]
  },
  {
   "cell_type": "code",
   "execution_count": 101,
   "metadata": {
    "run_control": {
     "frozen": false,
     "read_only": false
    },
    "scrolled": true
   },
   "outputs": [
    {
     "data": {
      "image/png": "[encoded data removed]",
      "text/plain": [
       "<Figure size 432x288 with 1 Axes>"
      ]
     },
     "metadata": {
      "needs_background": "light"
     },
     "output_type": "display_data"
    }
   ],
   "source": [
    "subplot(111,projection=kord) \n",
    "plt.imshow(image, cmap=\"magma\", origin='lower')\n",
    "plt.xlabel('RA')\n",
    "plt.ylabel('Dec')"
   ]
  },
  {
   "cell_type": "code",
   "execution_count": null,
   "metadata": {},
   "outputs": [],
   "source": []
  }
 ],
 "metadata": {
  "anaconda-cloud": {},
  "hide_input": false,
  "kernelspec": {
   "display_name": "Python 3",
   "language": "python",
   "name": "python3"
  },
  "language_info": {
   "codemirror_mode": {
    "name": "ipython",
    "version": 3
   },
   "file_extension": ".py",
   "mimetype": "text/x-python",
   "name": "python",
   "nbconvert_exporter": "python",
   "pygments_lexer": "ipython3",
   "version": "3.7.3"
  },
  "latex_envs": {
   "bibliofile": "biblio.bib",
   "cite_by": "apalike",
   "current_citInitial": 1,
   "eqLabelWithNumbers": true,
   "eqNumInitial": 0
  },
  "name": "mintapelda03.ipynb_merged"
 },
 "nbformat": 4,
 "nbformat_minor": 1
}
