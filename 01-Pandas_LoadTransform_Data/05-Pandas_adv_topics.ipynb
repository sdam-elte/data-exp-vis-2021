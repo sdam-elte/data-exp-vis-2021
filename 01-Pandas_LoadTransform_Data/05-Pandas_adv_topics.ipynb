{
 "cells": [
  {
   "cell_type": "code",
   "execution_count": 1,
   "metadata": {
    "ExecuteTime": {
     "end_time": "2020-09-14T18:44:27.025437Z",
     "start_time": "2020-09-14T18:44:27.020353Z"
    }
   },
   "outputs": [],
   "source": [
    "#from nbindex import floating\n",
    "#floating.tableofcontent()"
   ]
  },
  {
   "cell_type": "markdown",
   "metadata": {},
   "source": [
    "# Database operations 2. \n",
    "* **concat, join, apply, pivot**\n"
   ]
  },
  {
   "cell_type": "code",
   "execution_count": 2,
   "metadata": {
    "ExecuteTime": {
     "end_time": "2020-09-14T20:02:48.155021Z",
     "start_time": "2020-09-14T20:02:46.333601Z"
    }
   },
   "outputs": [
    {
     "name": "stdout",
     "output_type": "stream",
     "text": [
      "Populating the interactive namespace from numpy and matplotlib\n"
     ]
    }
   ],
   "source": [
    "%pylab inline"
   ]
  },
  {
   "cell_type": "code",
   "execution_count": 3,
   "metadata": {
    "ExecuteTime": {
     "end_time": "2020-09-14T20:02:50.032700Z",
     "start_time": "2020-09-14T20:02:49.641894Z"
    }
   },
   "outputs": [],
   "source": [
    "import pandas as pd"
   ]
  },
  {
   "cell_type": "code",
   "execution_count": 4,
   "metadata": {},
   "outputs": [],
   "source": [
    "Datasets = '/home/course/01-data/'"
   ]
  },
  {
   "cell_type": "markdown",
   "metadata": {},
   "source": [
    "Reading the examination data again:"
   ]
  },
  {
   "cell_type": "code",
   "execution_count": 5,
   "metadata": {
    "ExecuteTime": {
     "end_time": "2020-09-14T20:02:51.587179Z",
     "start_time": "2020-09-14T20:02:51.469659Z"
    }
   },
   "outputs": [],
   "source": [
    "df=pd.read_csv(Datasets+\"/examination.csv.gz\",sep=\";\")"
   ]
  },
  {
   "cell_type": "markdown",
   "metadata": {},
   "source": [
    "We create a smaller table that is easier to rewad for demonstration purposes."
   ]
  },
  {
   "cell_type": "code",
   "execution_count": 6,
   "metadata": {
    "ExecuteTime": {
     "end_time": "2020-09-14T20:02:54.598678Z",
     "start_time": "2020-09-14T20:02:54.591969Z"
    }
   },
   "outputs": [],
   "source": [
    "subdf=df[['city','school_type',\n",
    "          'gender','level','points_written']].head(2)"
   ]
  },
  {
   "cell_type": "markdown",
   "metadata": {},
   "source": [
    "## Concatenation"
   ]
  },
  {
   "cell_type": "markdown",
   "metadata": {},
   "source": [
    "We can concatenate two `DataFrame`s, if we give a list containing `DataFrame`s with the same number of columns to the `pd.concat()` function."
   ]
  },
  {
   "cell_type": "markdown",
   "metadata": {},
   "source": [
    "In our example, we write the same `DataFrame` two times under each other."
   ]
  },
  {
   "cell_type": "code",
   "execution_count": 7,
   "metadata": {
    "ExecuteTime": {
     "end_time": "2020-09-14T20:03:04.421991Z",
     "start_time": "2020-09-14T20:03:04.405918Z"
    }
   },
   "outputs": [
    {
     "data": {
      "text/html": [
       "<div>\n",
       "<style scoped>\n",
       "    .dataframe tbody tr th:only-of-type {\n",
       "        vertical-align: middle;\n",
       "    }\n",
       "\n",
       "    .dataframe tbody tr th {\n",
       "        vertical-align: top;\n",
       "    }\n",
       "\n",
       "    .dataframe thead th {\n",
       "        text-align: right;\n",
       "    }\n",
       "</style>\n",
       "<table border=\"1\" class=\"dataframe\">\n",
       "  <thead>\n",
       "    <tr style=\"text-align: right;\">\n",
       "      <th></th>\n",
       "      <th>city</th>\n",
       "      <th>school_type</th>\n",
       "      <th>gender</th>\n",
       "      <th>level</th>\n",
       "      <th>points_written</th>\n",
       "    </tr>\n",
       "  </thead>\n",
       "  <tbody>\n",
       "    <tr>\n",
       "      <th>0</th>\n",
       "      <td>Budapest</td>\n",
       "      <td>comprehensive</td>\n",
       "      <td>male</td>\n",
       "      <td>normal</td>\n",
       "      <td>NaN</td>\n",
       "    </tr>\n",
       "    <tr>\n",
       "      <th>1</th>\n",
       "      <td>Budapest</td>\n",
       "      <td>comprehensive</td>\n",
       "      <td>female</td>\n",
       "      <td>normal</td>\n",
       "      <td>NaN</td>\n",
       "    </tr>\n",
       "    <tr>\n",
       "      <th>0</th>\n",
       "      <td>Budapest</td>\n",
       "      <td>comprehensive</td>\n",
       "      <td>male</td>\n",
       "      <td>normal</td>\n",
       "      <td>NaN</td>\n",
       "    </tr>\n",
       "    <tr>\n",
       "      <th>1</th>\n",
       "      <td>Budapest</td>\n",
       "      <td>comprehensive</td>\n",
       "      <td>female</td>\n",
       "      <td>normal</td>\n",
       "      <td>NaN</td>\n",
       "    </tr>\n",
       "  </tbody>\n",
       "</table>\n",
       "</div>"
      ],
      "text/plain": [
       "       city    school_type  gender   level  points_written\n",
       "0  Budapest  comprehensive    male  normal             NaN\n",
       "1  Budapest  comprehensive  female  normal             NaN\n",
       "0  Budapest  comprehensive    male  normal             NaN\n",
       "1  Budapest  comprehensive  female  normal             NaN"
      ]
     },
     "execution_count": 7,
     "metadata": {},
     "output_type": "execute_result"
    }
   ],
   "source": [
    "cdf=pd.concat([subdf,subdf])\n",
    "cdf"
   ]
  },
  {
   "cell_type": "markdown",
   "metadata": {},
   "source": [
    "The indices of the newly created table sill come form the original `DataFrame`s."
   ]
  },
  {
   "cell_type": "code",
   "execution_count": 8,
   "metadata": {
    "ExecuteTime": {
     "end_time": "2020-09-14T20:03:08.124476Z",
     "start_time": "2020-09-14T20:03:08.110433Z"
    }
   },
   "outputs": [
    {
     "data": {
      "text/html": [
       "<div>\n",
       "<style scoped>\n",
       "    .dataframe tbody tr th:only-of-type {\n",
       "        vertical-align: middle;\n",
       "    }\n",
       "\n",
       "    .dataframe tbody tr th {\n",
       "        vertical-align: top;\n",
       "    }\n",
       "\n",
       "    .dataframe thead th {\n",
       "        text-align: right;\n",
       "    }\n",
       "</style>\n",
       "<table border=\"1\" class=\"dataframe\">\n",
       "  <thead>\n",
       "    <tr style=\"text-align: right;\">\n",
       "      <th></th>\n",
       "      <th>city</th>\n",
       "      <th>school_type</th>\n",
       "      <th>gender</th>\n",
       "      <th>level</th>\n",
       "      <th>points_written</th>\n",
       "    </tr>\n",
       "  </thead>\n",
       "  <tbody>\n",
       "    <tr>\n",
       "      <th>0</th>\n",
       "      <td>Budapest</td>\n",
       "      <td>comprehensive</td>\n",
       "      <td>male</td>\n",
       "      <td>normal</td>\n",
       "      <td>NaN</td>\n",
       "    </tr>\n",
       "    <tr>\n",
       "      <th>0</th>\n",
       "      <td>Budapest</td>\n",
       "      <td>comprehensive</td>\n",
       "      <td>male</td>\n",
       "      <td>normal</td>\n",
       "      <td>NaN</td>\n",
       "    </tr>\n",
       "  </tbody>\n",
       "</table>\n",
       "</div>"
      ],
      "text/plain": [
       "       city    school_type gender   level  points_written\n",
       "0  Budapest  comprehensive   male  normal             NaN\n",
       "0  Budapest  comprehensive   male  normal             NaN"
      ]
     },
     "execution_count": 8,
     "metadata": {},
     "output_type": "execute_result"
    }
   ],
   "source": [
    "cdf.loc[0]"
   ]
  },
  {
   "cell_type": "markdown",
   "metadata": {},
   "source": [
    "We can make a new index, while also keeping the old ones."
   ]
  },
  {
   "cell_type": "code",
   "execution_count": 9,
   "metadata": {
    "ExecuteTime": {
     "end_time": "2020-09-14T20:03:38.694313Z",
     "start_time": "2020-09-14T20:03:38.678485Z"
    }
   },
   "outputs": [
    {
     "data": {
      "text/html": [
       "<div>\n",
       "<style scoped>\n",
       "    .dataframe tbody tr th:only-of-type {\n",
       "        vertical-align: middle;\n",
       "    }\n",
       "\n",
       "    .dataframe tbody tr th {\n",
       "        vertical-align: top;\n",
       "    }\n",
       "\n",
       "    .dataframe thead th {\n",
       "        text-align: right;\n",
       "    }\n",
       "</style>\n",
       "<table border=\"1\" class=\"dataframe\">\n",
       "  <thead>\n",
       "    <tr style=\"text-align: right;\">\n",
       "      <th></th>\n",
       "      <th>index</th>\n",
       "      <th>city</th>\n",
       "      <th>school_type</th>\n",
       "      <th>gender</th>\n",
       "      <th>level</th>\n",
       "      <th>points_written</th>\n",
       "    </tr>\n",
       "  </thead>\n",
       "  <tbody>\n",
       "    <tr>\n",
       "      <th>0</th>\n",
       "      <td>0</td>\n",
       "      <td>Budapest</td>\n",
       "      <td>comprehensive</td>\n",
       "      <td>male</td>\n",
       "      <td>normal</td>\n",
       "      <td>NaN</td>\n",
       "    </tr>\n",
       "    <tr>\n",
       "      <th>1</th>\n",
       "      <td>1</td>\n",
       "      <td>Budapest</td>\n",
       "      <td>comprehensive</td>\n",
       "      <td>female</td>\n",
       "      <td>normal</td>\n",
       "      <td>NaN</td>\n",
       "    </tr>\n",
       "    <tr>\n",
       "      <th>2</th>\n",
       "      <td>0</td>\n",
       "      <td>Budapest</td>\n",
       "      <td>comprehensive</td>\n",
       "      <td>male</td>\n",
       "      <td>normal</td>\n",
       "      <td>NaN</td>\n",
       "    </tr>\n",
       "    <tr>\n",
       "      <th>3</th>\n",
       "      <td>1</td>\n",
       "      <td>Budapest</td>\n",
       "      <td>comprehensive</td>\n",
       "      <td>female</td>\n",
       "      <td>normal</td>\n",
       "      <td>NaN</td>\n",
       "    </tr>\n",
       "  </tbody>\n",
       "</table>\n",
       "</div>"
      ],
      "text/plain": [
       "   index      city    school_type  gender   level  points_written\n",
       "0      0  Budapest  comprehensive    male  normal             NaN\n",
       "1      1  Budapest  comprehensive  female  normal             NaN\n",
       "2      0  Budapest  comprehensive    male  normal             NaN\n",
       "3      1  Budapest  comprehensive  female  normal             NaN"
      ]
     },
     "execution_count": 9,
     "metadata": {},
     "output_type": "execute_result"
    }
   ],
   "source": [
    "cdf=pd.concat([subdf,subdf]).reset_index()\n",
    "cdf"
   ]
  },
  {
   "cell_type": "markdown",
   "metadata": {},
   "source": [
    "Or we could throw them away."
   ]
  },
  {
   "cell_type": "code",
   "execution_count": 10,
   "metadata": {
    "ExecuteTime": {
     "end_time": "2020-09-14T20:03:48.195563Z",
     "start_time": "2020-09-14T20:03:48.181312Z"
    }
   },
   "outputs": [
    {
     "data": {
      "text/html": [
       "<div>\n",
       "<style scoped>\n",
       "    .dataframe tbody tr th:only-of-type {\n",
       "        vertical-align: middle;\n",
       "    }\n",
       "\n",
       "    .dataframe tbody tr th {\n",
       "        vertical-align: top;\n",
       "    }\n",
       "\n",
       "    .dataframe thead th {\n",
       "        text-align: right;\n",
       "    }\n",
       "</style>\n",
       "<table border=\"1\" class=\"dataframe\">\n",
       "  <thead>\n",
       "    <tr style=\"text-align: right;\">\n",
       "      <th></th>\n",
       "      <th>city</th>\n",
       "      <th>school_type</th>\n",
       "      <th>gender</th>\n",
       "      <th>level</th>\n",
       "      <th>points_written</th>\n",
       "    </tr>\n",
       "  </thead>\n",
       "  <tbody>\n",
       "    <tr>\n",
       "      <th>0</th>\n",
       "      <td>Budapest</td>\n",
       "      <td>comprehensive</td>\n",
       "      <td>male</td>\n",
       "      <td>normal</td>\n",
       "      <td>NaN</td>\n",
       "    </tr>\n",
       "    <tr>\n",
       "      <th>1</th>\n",
       "      <td>Budapest</td>\n",
       "      <td>comprehensive</td>\n",
       "      <td>female</td>\n",
       "      <td>normal</td>\n",
       "      <td>NaN</td>\n",
       "    </tr>\n",
       "    <tr>\n",
       "      <th>2</th>\n",
       "      <td>Budapest</td>\n",
       "      <td>comprehensive</td>\n",
       "      <td>male</td>\n",
       "      <td>normal</td>\n",
       "      <td>NaN</td>\n",
       "    </tr>\n",
       "    <tr>\n",
       "      <th>3</th>\n",
       "      <td>Budapest</td>\n",
       "      <td>comprehensive</td>\n",
       "      <td>female</td>\n",
       "      <td>normal</td>\n",
       "      <td>NaN</td>\n",
       "    </tr>\n",
       "  </tbody>\n",
       "</table>\n",
       "</div>"
      ],
      "text/plain": [
       "       city    school_type  gender   level  points_written\n",
       "0  Budapest  comprehensive    male  normal             NaN\n",
       "1  Budapest  comprehensive  female  normal             NaN\n",
       "2  Budapest  comprehensive    male  normal             NaN\n",
       "3  Budapest  comprehensive  female  normal             NaN"
      ]
     },
     "execution_count": 10,
     "metadata": {},
     "output_type": "execute_result"
    }
   ],
   "source": [
    "cdf=pd.concat([subdf,subdf]).reset_index(drop=True)\n",
    "cdf"
   ]
  },
  {
   "cell_type": "markdown",
   "metadata": {},
   "source": [
    "We can concatenate tables along the other axis as well."
   ]
  },
  {
   "cell_type": "code",
   "execution_count": 11,
   "metadata": {
    "ExecuteTime": {
     "end_time": "2020-09-14T20:04:01.338098Z",
     "start_time": "2020-09-14T20:04:01.322472Z"
    }
   },
   "outputs": [
    {
     "data": {
      "text/html": [
       "<div>\n",
       "<style scoped>\n",
       "    .dataframe tbody tr th:only-of-type {\n",
       "        vertical-align: middle;\n",
       "    }\n",
       "\n",
       "    .dataframe tbody tr th {\n",
       "        vertical-align: top;\n",
       "    }\n",
       "\n",
       "    .dataframe thead th {\n",
       "        text-align: right;\n",
       "    }\n",
       "</style>\n",
       "<table border=\"1\" class=\"dataframe\">\n",
       "  <thead>\n",
       "    <tr style=\"text-align: right;\">\n",
       "      <th></th>\n",
       "      <th>0</th>\n",
       "      <th>1</th>\n",
       "      <th>0</th>\n",
       "      <th>1</th>\n",
       "    </tr>\n",
       "  </thead>\n",
       "  <tbody>\n",
       "    <tr>\n",
       "      <th>0</th>\n",
       "      <td>1.0</td>\n",
       "      <td>1.0</td>\n",
       "      <td>2.0</td>\n",
       "      <td>2.0</td>\n",
       "    </tr>\n",
       "    <tr>\n",
       "      <th>1</th>\n",
       "      <td>1.0</td>\n",
       "      <td>1.0</td>\n",
       "      <td>2.0</td>\n",
       "      <td>2.0</td>\n",
       "    </tr>\n",
       "  </tbody>\n",
       "</table>\n",
       "</div>"
      ],
      "text/plain": [
       "     0    1    0    1\n",
       "0  1.0  1.0  2.0  2.0\n",
       "1  1.0  1.0  2.0  2.0"
      ]
     },
     "execution_count": 11,
     "metadata": {},
     "output_type": "execute_result"
    }
   ],
   "source": [
    "df1=pd.DataFrame(np.ones((2,2)))\n",
    "df2=pd.DataFrame(2*np.ones((2,2)))\n",
    "\n",
    "pd.concat([df1,df2],axis=1)"
   ]
  },
  {
   "cell_type": "markdown",
   "metadata": {},
   "source": [
    "Then, `concat` uses the indices to copy the `DataFrame`s next to each other."
   ]
  },
  {
   "cell_type": "code",
   "execution_count": 12,
   "metadata": {
    "ExecuteTime": {
     "end_time": "2020-09-14T20:04:02.710891Z",
     "start_time": "2020-09-14T20:04:02.694569Z"
    }
   },
   "outputs": [
    {
     "data": {
      "text/html": [
       "<div>\n",
       "<style scoped>\n",
       "    .dataframe tbody tr th:only-of-type {\n",
       "        vertical-align: middle;\n",
       "    }\n",
       "\n",
       "    .dataframe tbody tr th {\n",
       "        vertical-align: top;\n",
       "    }\n",
       "\n",
       "    .dataframe thead th {\n",
       "        text-align: right;\n",
       "    }\n",
       "</style>\n",
       "<table border=\"1\" class=\"dataframe\">\n",
       "  <thead>\n",
       "    <tr style=\"text-align: right;\">\n",
       "      <th></th>\n",
       "      <th>0</th>\n",
       "      <th>1</th>\n",
       "      <th>0</th>\n",
       "      <th>1</th>\n",
       "    </tr>\n",
       "  </thead>\n",
       "  <tbody>\n",
       "    <tr>\n",
       "      <th>0</th>\n",
       "      <td>1.0</td>\n",
       "      <td>1.0</td>\n",
       "      <td>NaN</td>\n",
       "      <td>NaN</td>\n",
       "    </tr>\n",
       "    <tr>\n",
       "      <th>1</th>\n",
       "      <td>1.0</td>\n",
       "      <td>1.0</td>\n",
       "      <td>NaN</td>\n",
       "      <td>NaN</td>\n",
       "    </tr>\n",
       "    <tr>\n",
       "      <th>3</th>\n",
       "      <td>NaN</td>\n",
       "      <td>NaN</td>\n",
       "      <td>2.0</td>\n",
       "      <td>2.0</td>\n",
       "    </tr>\n",
       "    <tr>\n",
       "      <th>4</th>\n",
       "      <td>NaN</td>\n",
       "      <td>NaN</td>\n",
       "      <td>2.0</td>\n",
       "      <td>2.0</td>\n",
       "    </tr>\n",
       "  </tbody>\n",
       "</table>\n",
       "</div>"
      ],
      "text/plain": [
       "     0    1    0    1\n",
       "0  1.0  1.0  NaN  NaN\n",
       "1  1.0  1.0  NaN  NaN\n",
       "3  NaN  NaN  2.0  2.0\n",
       "4  NaN  NaN  2.0  2.0"
      ]
     },
     "execution_count": 12,
     "metadata": {},
     "output_type": "execute_result"
    }
   ],
   "source": [
    "df1=pd.DataFrame(np.ones((2,2)))\n",
    "df2=pd.DataFrame(2*np.ones((2,2)),index=[3,4])\n",
    "\n",
    "pd.concat([df1,df2],axis=1)"
   ]
  },
  {
   "cell_type": "markdown",
   "metadata": {},
   "source": [
    "## Joins"
   ]
  },
  {
   "cell_type": "markdown",
   "metadata": {},
   "source": [
    "If we have a common identifier or columns with common values in two tables, it is possible to merge them. For example, we can take two columns from both tables, and we put those rows next to each other, where the value of these two columns is the same.\n",
    "\n",
    "###  Inner Join\n",
    "\n",
    "We omit those lines that do not have a pair in the other table."
   ]
  },
  {
   "cell_type": "markdown",
   "metadata": {},
   "source": [
    "We read a data series about cities downloaded from KSH."
   ]
  },
  {
   "cell_type": "code",
   "execution_count": 13,
   "metadata": {
    "ExecuteTime": {
     "end_time": "2020-09-14T20:05:13.345520Z",
     "start_time": "2020-09-14T20:05:13.294803Z"
    }
   },
   "outputs": [
    {
     "data": {
      "text/html": [
       "<div>\n",
       "<style scoped>\n",
       "    .dataframe tbody tr th:only-of-type {\n",
       "        vertical-align: middle;\n",
       "    }\n",
       "\n",
       "    .dataframe tbody tr th {\n",
       "        vertical-align: top;\n",
       "    }\n",
       "\n",
       "    .dataframe thead th {\n",
       "        text-align: right;\n",
       "    }\n",
       "</style>\n",
       "<table border=\"1\" class=\"dataframe\">\n",
       "  <thead>\n",
       "    <tr style=\"text-align: right;\">\n",
       "      <th></th>\n",
       "      <th>Name</th>\n",
       "      <th>KSH code</th>\n",
       "      <th>Type</th>\n",
       "      <th>County</th>\n",
       "      <th>LAU1 code</th>\n",
       "      <th>LAU1 name</th>\n",
       "      <th>LAU1 center</th>\n",
       "      <th>Common municipality code</th>\n",
       "      <th>Common municipality center</th>\n",
       "      <th>Area (ha)</th>\n",
       "      <th>Population</th>\n",
       "      <th>Number of living units</th>\n",
       "    </tr>\n",
       "  </thead>\n",
       "  <tbody>\n",
       "    <tr>\n",
       "      <th>0</th>\n",
       "      <td>Aba</td>\n",
       "      <td>17376</td>\n",
       "      <td>város</td>\n",
       "      <td>Fejér</td>\n",
       "      <td>850.0</td>\n",
       "      <td>Székesfehérvári</td>\n",
       "      <td>Székesfehérvár</td>\n",
       "      <td>1</td>\n",
       "      <td>–</td>\n",
       "      <td>8805</td>\n",
       "      <td>4424</td>\n",
       "      <td>1546</td>\n",
       "    </tr>\n",
       "    <tr>\n",
       "      <th>1</th>\n",
       "      <td>Abádszalók</td>\n",
       "      <td>12441</td>\n",
       "      <td>város</td>\n",
       "      <td>Jász-Nagykun-Szolnok</td>\n",
       "      <td>1640.0</td>\n",
       "      <td>Kunhegyesi</td>\n",
       "      <td>Kunhegyes</td>\n",
       "      <td>2</td>\n",
       "      <td>Helyben – Locally</td>\n",
       "      <td>13223</td>\n",
       "      <td>4160</td>\n",
       "      <td>2038</td>\n",
       "    </tr>\n",
       "    <tr>\n",
       "      <th>2</th>\n",
       "      <td>Abaliget</td>\n",
       "      <td>12548</td>\n",
       "      <td>község</td>\n",
       "      <td>Baranya</td>\n",
       "      <td>280.0</td>\n",
       "      <td>Pécsi</td>\n",
       "      <td>Pécs</td>\n",
       "      <td>5</td>\n",
       "      <td>Orfű</td>\n",
       "      <td>1609</td>\n",
       "      <td>649</td>\n",
       "      <td>241</td>\n",
       "    </tr>\n",
       "    <tr>\n",
       "      <th>3</th>\n",
       "      <td>Abasár</td>\n",
       "      <td>24554</td>\n",
       "      <td>község</td>\n",
       "      <td>Heves</td>\n",
       "      <td>1060.0</td>\n",
       "      <td>Gyöngyösi</td>\n",
       "      <td>Gyöngyös</td>\n",
       "      <td>1</td>\n",
       "      <td>–</td>\n",
       "      <td>2082</td>\n",
       "      <td>2493</td>\n",
       "      <td>1188</td>\n",
       "    </tr>\n",
       "    <tr>\n",
       "      <th>4</th>\n",
       "      <td>Abaújalpár</td>\n",
       "      <td>15662</td>\n",
       "      <td>község</td>\n",
       "      <td>Borsod-Abaúj-Zemplén</td>\n",
       "      <td>570.0</td>\n",
       "      <td>Gönci</td>\n",
       "      <td>Gönc</td>\n",
       "      <td>6</td>\n",
       "      <td>Boldogkőváralja</td>\n",
       "      <td>848</td>\n",
       "      <td>59</td>\n",
       "      <td>58</td>\n",
       "    </tr>\n",
       "  </tbody>\n",
       "</table>\n",
       "</div>"
      ],
      "text/plain": [
       "         Name  KSH code    Type                County  LAU1 code  \\\n",
       "0         Aba     17376   város                 Fejér      850.0   \n",
       "1  Abádszalók     12441   város  Jász-Nagykun-Szolnok     1640.0   \n",
       "2    Abaliget     12548  község               Baranya      280.0   \n",
       "3      Abasár     24554  község                 Heves     1060.0   \n",
       "4  Abaújalpár     15662  község  Borsod-Abaúj-Zemplén      570.0   \n",
       "\n",
       "         LAU1 name     LAU1 center  Common municipality code  \\\n",
       "0  Székesfehérvári  Székesfehérvár                         1   \n",
       "1       Kunhegyesi       Kunhegyes                         2   \n",
       "2            Pécsi            Pécs                         5   \n",
       "3        Gyöngyösi        Gyöngyös                         1   \n",
       "4            Gönci            Gönc                         6   \n",
       "\n",
       "  Common municipality center  Area (ha)  Population  Number of living units  \n",
       "0                          –       8805        4424                    1546  \n",
       "1          Helyben – Locally      13223        4160                    2038  \n",
       "2                       Orfű       1609         649                     241  \n",
       "3                          –       2082        2493                    1188  \n",
       "4            Boldogkőváralja        848          59                      58  "
      ]
     },
     "execution_count": 13,
     "metadata": {},
     "output_type": "execute_result"
    }
   ],
   "source": [
    "h=pd.read_csv(Datasets+'//settlements.csv')\n",
    "h.head()"
   ]
  },
  {
   "cell_type": "markdown",
   "metadata": {},
   "source": [
    "Let's plot the points achieved as a function of the city population."
   ]
  },
  {
   "cell_type": "markdown",
   "metadata": {},
   "source": [
    "We merge the two tables by assigning the row from the KSH data to each examination based on the name of the city."
   ]
  },
  {
   "cell_type": "code",
   "execution_count": 14,
   "metadata": {
    "ExecuteTime": {
     "end_time": "2020-09-14T20:05:28.538637Z",
     "start_time": "2020-09-14T20:05:28.462353Z"
    }
   },
   "outputs": [
    {
     "data": {
      "text/html": [
       "<div>\n",
       "<style scoped>\n",
       "    .dataframe tbody tr th:only-of-type {\n",
       "        vertical-align: middle;\n",
       "    }\n",
       "\n",
       "    .dataframe tbody tr th {\n",
       "        vertical-align: top;\n",
       "    }\n",
       "\n",
       "    .dataframe thead th {\n",
       "        text-align: right;\n",
       "    }\n",
       "</style>\n",
       "<table border=\"1\" class=\"dataframe\">\n",
       "  <thead>\n",
       "    <tr style=\"text-align: right;\">\n",
       "      <th></th>\n",
       "      <th>county</th>\n",
       "      <th>city</th>\n",
       "      <th>yeargroup</th>\n",
       "      <th>school_type</th>\n",
       "      <th>gender</th>\n",
       "      <th>education_type</th>\n",
       "      <th>subject</th>\n",
       "      <th>level</th>\n",
       "      <th>exam_type</th>\n",
       "      <th>language</th>\n",
       "      <th>...</th>\n",
       "      <th>Type</th>\n",
       "      <th>County</th>\n",
       "      <th>LAU1 code</th>\n",
       "      <th>LAU1 name</th>\n",
       "      <th>LAU1 center</th>\n",
       "      <th>Common municipality code</th>\n",
       "      <th>Common municipality center</th>\n",
       "      <th>Area (ha)</th>\n",
       "      <th>Population</th>\n",
       "      <th>Number of living units</th>\n",
       "    </tr>\n",
       "  </thead>\n",
       "  <tbody>\n",
       "    <tr>\n",
       "      <th>0</th>\n",
       "      <td>Budapest</td>\n",
       "      <td>Budapest</td>\n",
       "      <td>12.0</td>\n",
       "      <td>comprehensive</td>\n",
       "      <td>male</td>\n",
       "      <td>day</td>\n",
       "      <td>physics</td>\n",
       "      <td>normal</td>\n",
       "      <td>forwarded</td>\n",
       "      <td>hungarian</td>\n",
       "      <td>...</td>\n",
       "      <td>főváros</td>\n",
       "      <td>Pest</td>\n",
       "      <td>NaN</td>\n",
       "      <td>NaN</td>\n",
       "      <td>NaN</td>\n",
       "      <td>1</td>\n",
       "      <td>–</td>\n",
       "      <td>52513</td>\n",
       "      <td>1759407</td>\n",
       "      <td>911502</td>\n",
       "    </tr>\n",
       "    <tr>\n",
       "      <th>1</th>\n",
       "      <td>Budapest</td>\n",
       "      <td>Budapest</td>\n",
       "      <td>12.0</td>\n",
       "      <td>comprehensive</td>\n",
       "      <td>female</td>\n",
       "      <td>day</td>\n",
       "      <td>physics</td>\n",
       "      <td>normal</td>\n",
       "      <td>forwarded</td>\n",
       "      <td>hungarian</td>\n",
       "      <td>...</td>\n",
       "      <td>főváros</td>\n",
       "      <td>Pest</td>\n",
       "      <td>NaN</td>\n",
       "      <td>NaN</td>\n",
       "      <td>NaN</td>\n",
       "      <td>1</td>\n",
       "      <td>–</td>\n",
       "      <td>52513</td>\n",
       "      <td>1759407</td>\n",
       "      <td>911502</td>\n",
       "    </tr>\n",
       "    <tr>\n",
       "      <th>2</th>\n",
       "      <td>Budapest</td>\n",
       "      <td>Budapest</td>\n",
       "      <td>12.0</td>\n",
       "      <td>comprehensive</td>\n",
       "      <td>male</td>\n",
       "      <td>day</td>\n",
       "      <td>physics</td>\n",
       "      <td>normal</td>\n",
       "      <td>forwarded</td>\n",
       "      <td>hungarian</td>\n",
       "      <td>...</td>\n",
       "      <td>főváros</td>\n",
       "      <td>Pest</td>\n",
       "      <td>NaN</td>\n",
       "      <td>NaN</td>\n",
       "      <td>NaN</td>\n",
       "      <td>1</td>\n",
       "      <td>–</td>\n",
       "      <td>52513</td>\n",
       "      <td>1759407</td>\n",
       "      <td>911502</td>\n",
       "    </tr>\n",
       "    <tr>\n",
       "      <th>3</th>\n",
       "      <td>Budapest</td>\n",
       "      <td>Budapest</td>\n",
       "      <td>13.0</td>\n",
       "      <td>comprehensive</td>\n",
       "      <td>female</td>\n",
       "      <td>day</td>\n",
       "      <td>physics</td>\n",
       "      <td>normal</td>\n",
       "      <td>forwarded</td>\n",
       "      <td>hungarian</td>\n",
       "      <td>...</td>\n",
       "      <td>főváros</td>\n",
       "      <td>Pest</td>\n",
       "      <td>NaN</td>\n",
       "      <td>NaN</td>\n",
       "      <td>NaN</td>\n",
       "      <td>1</td>\n",
       "      <td>–</td>\n",
       "      <td>52513</td>\n",
       "      <td>1759407</td>\n",
       "      <td>911502</td>\n",
       "    </tr>\n",
       "    <tr>\n",
       "      <th>4</th>\n",
       "      <td>Budapest</td>\n",
       "      <td>Budapest</td>\n",
       "      <td>12.0</td>\n",
       "      <td>comprehensive</td>\n",
       "      <td>male</td>\n",
       "      <td>day</td>\n",
       "      <td>physics</td>\n",
       "      <td>normal</td>\n",
       "      <td>forwarded</td>\n",
       "      <td>hungarian</td>\n",
       "      <td>...</td>\n",
       "      <td>főváros</td>\n",
       "      <td>Pest</td>\n",
       "      <td>NaN</td>\n",
       "      <td>NaN</td>\n",
       "      <td>NaN</td>\n",
       "      <td>1</td>\n",
       "      <td>–</td>\n",
       "      <td>52513</td>\n",
       "      <td>1759407</td>\n",
       "      <td>911502</td>\n",
       "    </tr>\n",
       "  </tbody>\n",
       "</table>\n",
       "<p>5 rows × 40 columns</p>\n",
       "</div>"
      ],
      "text/plain": [
       "     county      city  yeargroup    school_type  gender education_type  \\\n",
       "0  Budapest  Budapest       12.0  comprehensive    male            day   \n",
       "1  Budapest  Budapest       12.0  comprehensive  female            day   \n",
       "2  Budapest  Budapest       12.0  comprehensive    male            day   \n",
       "3  Budapest  Budapest       13.0  comprehensive  female            day   \n",
       "4  Budapest  Budapest       12.0  comprehensive    male            day   \n",
       "\n",
       "   subject   level  exam_type   language  ...     Type  County  LAU1 code  \\\n",
       "0  physics  normal  forwarded  hungarian  ...  főváros    Pest        NaN   \n",
       "1  physics  normal  forwarded  hungarian  ...  főváros    Pest        NaN   \n",
       "2  physics  normal  forwarded  hungarian  ...  főváros    Pest        NaN   \n",
       "3  physics  normal  forwarded  hungarian  ...  főváros    Pest        NaN   \n",
       "4  physics  normal  forwarded  hungarian  ...  főváros    Pest        NaN   \n",
       "\n",
       "  LAU1 name  LAU1 center  Common municipality code  \\\n",
       "0       NaN          NaN                         1   \n",
       "1       NaN          NaN                         1   \n",
       "2       NaN          NaN                         1   \n",
       "3       NaN          NaN                         1   \n",
       "4       NaN          NaN                         1   \n",
       "\n",
       "   Common municipality center  Area (ha)  Population  Number of living units  \n",
       "0                           –      52513     1759407                  911502  \n",
       "1                           –      52513     1759407                  911502  \n",
       "2                           –      52513     1759407                  911502  \n",
       "3                           –      52513     1759407                  911502  \n",
       "4                           –      52513     1759407                  911502  \n",
       "\n",
       "[5 rows x 40 columns]"
      ]
     },
     "execution_count": 14,
     "metadata": {},
     "output_type": "execute_result"
    }
   ],
   "source": [
    "mdf=df.merge(h,how='inner',\n",
    "             left_on='city',\n",
    "             right_on='Name')\n",
    "mdf.head()"
   ]
  },
  {
   "cell_type": "markdown",
   "metadata": {},
   "source": [
    "We exclude Budapest, beacuse it is too big."
   ]
  },
  {
   "cell_type": "code",
   "execution_count": 15,
   "metadata": {
    "ExecuteTime": {
     "end_time": "2020-09-14T20:05:33.423650Z",
     "start_time": "2020-09-14T20:05:33.394611Z"
    }
   },
   "outputs": [],
   "source": [
    "mdf=mdf[mdf['city']!='Budapest']"
   ]
  },
  {
   "cell_type": "markdown",
   "metadata": {},
   "source": [
    "We load seaborn for this plot."
   ]
  },
  {
   "cell_type": "code",
   "execution_count": 16,
   "metadata": {
    "ExecuteTime": {
     "end_time": "2020-09-14T20:05:37.255228Z",
     "start_time": "2020-09-14T20:05:36.816638Z"
    }
   },
   "outputs": [],
   "source": [
    "import seaborn as sns"
   ]
  },
  {
   "cell_type": "markdown",
   "metadata": {},
   "source": [
    "In the written examinations, larger cities perform significantly better."
   ]
  },
  {
   "cell_type": "code",
   "execution_count": 17,
   "metadata": {
    "ExecuteTime": {
     "end_time": "2020-09-14T20:06:04.579524Z",
     "start_time": "2020-09-14T20:05:53.066748Z"
    }
   },
   "outputs": [
    {
     "data": {
      "text/plain": [
       "<seaborn.axisgrid.JointGrid at 0x7f93af8e2780>"
      ]
     },
     "execution_count": 17,
     "metadata": {},
     "output_type": "execute_result"
    },
    {
     "data": {
      "image/png": "[encoded data removed]",
      "text/plain": [
       "<Figure size 432x432 with 3 Axes>"
      ]
     },
     "metadata": {
      "needs_background": "light"
     },
     "output_type": "display_data"
    }
   ],
   "source": [
    "x,y='points_written','Population'\n",
    "sns.jointplot(x=x, y=y, data=mdf,kind=\"kde\", color=\"k\")"
   ]
  },
  {
   "cell_type": "markdown",
   "metadata": {},
   "source": [
    "But in the oral examination part, smaller places do better..."
   ]
  },
  {
   "cell_type": "code",
   "execution_count": 18,
   "metadata": {
    "ExecuteTime": {
     "end_time": "2020-09-14T20:06:16.577611Z",
     "start_time": "2020-09-14T20:06:04.582810Z"
    }
   },
   "outputs": [
    {
     "data": {
      "text/plain": [
       "<seaborn.axisgrid.JointGrid at 0x7f93aef3a860>"
      ]
     },
     "execution_count": 18,
     "metadata": {},
     "output_type": "execute_result"
    },
    {
     "data": {
      "image/png": "[encoded data removed]",
      "text/plain": [
       "<Figure size 432x432 with 3 Axes>"
      ]
     },
     "metadata": {
      "needs_background": "light"
     },
     "output_type": "display_data"
    }
   ],
   "source": [
    "x,y='points_oral','Population'\n",
    "sns.jointplot(x=x, y=y, data=mdf,kind=\"kde\", color=\"k\",xlim=(0,60))"
   ]
  },
  {
   "cell_type": "markdown",
   "metadata": {},
   "source": [
    "### Left join\n",
    "\n",
    "We can also merge two tables by using all of the rows from one table, and where the second table has no corresponding rows, we still leave the original row in the resulting table.\n",
    "\n",
    "For example, we can look for cities where there has been no Physics exam in 2014 (or where it is not in our data)."
   ]
  },
  {
   "cell_type": "markdown",
   "metadata": {},
   "source": [
    "First, we look for cities where there was an examination."
   ]
  },
  {
   "cell_type": "code",
   "execution_count": 19,
   "metadata": {
    "ExecuteTime": {
     "end_time": "2020-09-14T20:07:27.493880Z",
     "start_time": "2020-09-14T20:07:27.472662Z"
    }
   },
   "outputs": [
    {
     "data": {
      "text/html": [
       "<div>\n",
       "<style scoped>\n",
       "    .dataframe tbody tr th:only-of-type {\n",
       "        vertical-align: middle;\n",
       "    }\n",
       "\n",
       "    .dataframe tbody tr th {\n",
       "        vertical-align: top;\n",
       "    }\n",
       "\n",
       "    .dataframe thead th {\n",
       "        text-align: right;\n",
       "    }\n",
       "</style>\n",
       "<table border=\"1\" class=\"dataframe\">\n",
       "  <thead>\n",
       "    <tr style=\"text-align: right;\">\n",
       "      <th></th>\n",
       "      <th>city</th>\n",
       "    </tr>\n",
       "  </thead>\n",
       "  <tbody>\n",
       "    <tr>\n",
       "      <th>0</th>\n",
       "      <td>Budapest</td>\n",
       "    </tr>\n",
       "    <tr>\n",
       "      <th>1</th>\n",
       "      <td>Pécs</td>\n",
       "    </tr>\n",
       "    <tr>\n",
       "      <th>2</th>\n",
       "      <td>Kiskunhalas</td>\n",
       "    </tr>\n",
       "    <tr>\n",
       "      <th>3</th>\n",
       "      <td>Kecskemét</td>\n",
       "    </tr>\n",
       "    <tr>\n",
       "      <th>4</th>\n",
       "      <td>Kalocsa</td>\n",
       "    </tr>\n",
       "  </tbody>\n",
       "</table>\n",
       "</div>"
      ],
      "text/plain": [
       "          city\n",
       "0     Budapest\n",
       "1         Pécs\n",
       "2  Kiskunhalas\n",
       "3    Kecskemét\n",
       "4      Kalocsa"
      ]
     },
     "execution_count": 19,
     "metadata": {},
     "output_type": "execute_result"
    }
   ],
   "source": [
    "df14=df[df['year']==2014]\n",
    "fizcit=df14[['city']].drop_duplicates().reset_index(drop=True)\n",
    "fizcit.head()"
   ]
  },
  {
   "cell_type": "markdown",
   "metadata": {},
   "source": [
    "Next, we look for all possible cities."
   ]
  },
  {
   "cell_type": "code",
   "execution_count": 20,
   "metadata": {
    "ExecuteTime": {
     "end_time": "2020-09-14T20:07:28.974507Z",
     "start_time": "2020-09-14T20:07:28.959586Z"
    }
   },
   "outputs": [
    {
     "data": {
      "text/html": [
       "<div>\n",
       "<style scoped>\n",
       "    .dataframe tbody tr th:only-of-type {\n",
       "        vertical-align: middle;\n",
       "    }\n",
       "\n",
       "    .dataframe tbody tr th {\n",
       "        vertical-align: top;\n",
       "    }\n",
       "\n",
       "    .dataframe thead th {\n",
       "        text-align: right;\n",
       "    }\n",
       "</style>\n",
       "<table border=\"1\" class=\"dataframe\">\n",
       "  <thead>\n",
       "    <tr style=\"text-align: right;\">\n",
       "      <th></th>\n",
       "      <th>Name</th>\n",
       "    </tr>\n",
       "  </thead>\n",
       "  <tbody>\n",
       "    <tr>\n",
       "      <th>0</th>\n",
       "      <td>Aba</td>\n",
       "    </tr>\n",
       "    <tr>\n",
       "      <th>1</th>\n",
       "      <td>Abádszalók</td>\n",
       "    </tr>\n",
       "    <tr>\n",
       "      <th>2</th>\n",
       "      <td>Abaújszántó</td>\n",
       "    </tr>\n",
       "    <tr>\n",
       "      <th>3</th>\n",
       "      <td>Abony</td>\n",
       "    </tr>\n",
       "    <tr>\n",
       "      <th>4</th>\n",
       "      <td>Ács</td>\n",
       "    </tr>\n",
       "  </tbody>\n",
       "</table>\n",
       "</div>"
      ],
      "text/plain": [
       "          Name\n",
       "0          Aba\n",
       "1   Abádszalók\n",
       "2  Abaújszántó\n",
       "3        Abony\n",
       "4          Ács"
      ]
     },
     "execution_count": 20,
     "metadata": {},
     "output_type": "execute_result"
    }
   ],
   "source": [
    "# város means city\n",
    "allcit=h[h['Type']=='város'][\n",
    "    ['Name']].reset_index(drop=True)\n",
    "allcit.head()"
   ]
  },
  {
   "cell_type": "markdown",
   "metadata": {},
   "source": [
    "Then, we merge them such that we keep all existing cities."
   ]
  },
  {
   "cell_type": "code",
   "execution_count": 21,
   "metadata": {
    "ExecuteTime": {
     "end_time": "2020-09-14T20:07:32.455607Z",
     "start_time": "2020-09-14T20:07:32.435728Z"
    }
   },
   "outputs": [
    {
     "data": {
      "text/html": [
       "<div>\n",
       "<style scoped>\n",
       "    .dataframe tbody tr th:only-of-type {\n",
       "        vertical-align: middle;\n",
       "    }\n",
       "\n",
       "    .dataframe tbody tr th {\n",
       "        vertical-align: top;\n",
       "    }\n",
       "\n",
       "    .dataframe thead th {\n",
       "        text-align: right;\n",
       "    }\n",
       "</style>\n",
       "<table border=\"1\" class=\"dataframe\">\n",
       "  <thead>\n",
       "    <tr style=\"text-align: right;\">\n",
       "      <th></th>\n",
       "      <th>Name</th>\n",
       "      <th>city</th>\n",
       "    </tr>\n",
       "  </thead>\n",
       "  <tbody>\n",
       "    <tr>\n",
       "      <th>0</th>\n",
       "      <td>Aba</td>\n",
       "      <td>NaN</td>\n",
       "    </tr>\n",
       "    <tr>\n",
       "      <th>1</th>\n",
       "      <td>Abádszalók</td>\n",
       "      <td>NaN</td>\n",
       "    </tr>\n",
       "    <tr>\n",
       "      <th>2</th>\n",
       "      <td>Abaújszántó</td>\n",
       "      <td>NaN</td>\n",
       "    </tr>\n",
       "    <tr>\n",
       "      <th>3</th>\n",
       "      <td>Abony</td>\n",
       "      <td>NaN</td>\n",
       "    </tr>\n",
       "    <tr>\n",
       "      <th>4</th>\n",
       "      <td>Ács</td>\n",
       "      <td>NaN</td>\n",
       "    </tr>\n",
       "    <tr>\n",
       "      <th>...</th>\n",
       "      <td>...</td>\n",
       "      <td>...</td>\n",
       "    </tr>\n",
       "    <tr>\n",
       "      <th>317</th>\n",
       "      <td>Zalalövő</td>\n",
       "      <td>NaN</td>\n",
       "    </tr>\n",
       "    <tr>\n",
       "      <th>318</th>\n",
       "      <td>Zalaszentgrót</td>\n",
       "      <td>Zalaszentgrót</td>\n",
       "    </tr>\n",
       "    <tr>\n",
       "      <th>319</th>\n",
       "      <td>Zamárdi</td>\n",
       "      <td>NaN</td>\n",
       "    </tr>\n",
       "    <tr>\n",
       "      <th>320</th>\n",
       "      <td>Zirc</td>\n",
       "      <td>Zirc</td>\n",
       "    </tr>\n",
       "    <tr>\n",
       "      <th>321</th>\n",
       "      <td>Zsámbék</td>\n",
       "      <td>NaN</td>\n",
       "    </tr>\n",
       "  </tbody>\n",
       "</table>\n",
       "<p>322 rows × 2 columns</p>\n",
       "</div>"
      ],
      "text/plain": [
       "              Name           city\n",
       "0              Aba            NaN\n",
       "1       Abádszalók            NaN\n",
       "2      Abaújszántó            NaN\n",
       "3            Abony            NaN\n",
       "4              Ács            NaN\n",
       "..             ...            ...\n",
       "317       Zalalövő            NaN\n",
       "318  Zalaszentgrót  Zalaszentgrót\n",
       "319        Zamárdi            NaN\n",
       "320           Zirc           Zirc\n",
       "321        Zsámbék            NaN\n",
       "\n",
       "[322 rows x 2 columns]"
      ]
     },
     "execution_count": 21,
     "metadata": {},
     "output_type": "execute_result"
    }
   ],
   "source": [
    "lj=allcit.merge(fizcit,how='left',right_on='city',\n",
    "                left_on='Name')\n",
    "lj"
   ]
  },
  {
   "cell_type": "markdown",
   "metadata": {},
   "source": [
    "We look for cities, where the value of the examination table is lacking."
   ]
  },
  {
   "cell_type": "code",
   "execution_count": 22,
   "metadata": {
    "ExecuteTime": {
     "end_time": "2020-09-14T20:07:34.823947Z",
     "start_time": "2020-09-14T20:07:34.807832Z"
    }
   },
   "outputs": [
    {
     "data": {
      "text/html": [
       "<div>\n",
       "<style scoped>\n",
       "    .dataframe tbody tr th:only-of-type {\n",
       "        vertical-align: middle;\n",
       "    }\n",
       "\n",
       "    .dataframe tbody tr th {\n",
       "        vertical-align: top;\n",
       "    }\n",
       "\n",
       "    .dataframe thead th {\n",
       "        text-align: right;\n",
       "    }\n",
       "</style>\n",
       "<table border=\"1\" class=\"dataframe\">\n",
       "  <thead>\n",
       "    <tr style=\"text-align: right;\">\n",
       "      <th></th>\n",
       "      <th>Name</th>\n",
       "      <th>city</th>\n",
       "    </tr>\n",
       "  </thead>\n",
       "  <tbody>\n",
       "    <tr>\n",
       "      <th>0</th>\n",
       "      <td>Aba</td>\n",
       "      <td>NaN</td>\n",
       "    </tr>\n",
       "    <tr>\n",
       "      <th>1</th>\n",
       "      <td>Abádszalók</td>\n",
       "      <td>NaN</td>\n",
       "    </tr>\n",
       "    <tr>\n",
       "      <th>2</th>\n",
       "      <td>Abaújszántó</td>\n",
       "      <td>NaN</td>\n",
       "    </tr>\n",
       "    <tr>\n",
       "      <th>3</th>\n",
       "      <td>Abony</td>\n",
       "      <td>NaN</td>\n",
       "    </tr>\n",
       "    <tr>\n",
       "      <th>4</th>\n",
       "      <td>Ács</td>\n",
       "      <td>NaN</td>\n",
       "    </tr>\n",
       "    <tr>\n",
       "      <th>...</th>\n",
       "      <td>...</td>\n",
       "      <td>...</td>\n",
       "    </tr>\n",
       "    <tr>\n",
       "      <th>315</th>\n",
       "      <td>Záhony</td>\n",
       "      <td>NaN</td>\n",
       "    </tr>\n",
       "    <tr>\n",
       "      <th>316</th>\n",
       "      <td>Zalakaros</td>\n",
       "      <td>NaN</td>\n",
       "    </tr>\n",
       "    <tr>\n",
       "      <th>317</th>\n",
       "      <td>Zalalövő</td>\n",
       "      <td>NaN</td>\n",
       "    </tr>\n",
       "    <tr>\n",
       "      <th>319</th>\n",
       "      <td>Zamárdi</td>\n",
       "      <td>NaN</td>\n",
       "    </tr>\n",
       "    <tr>\n",
       "      <th>321</th>\n",
       "      <td>Zsámbék</td>\n",
       "      <td>NaN</td>\n",
       "    </tr>\n",
       "  </tbody>\n",
       "</table>\n",
       "<p>191 rows × 2 columns</p>\n",
       "</div>"
      ],
      "text/plain": [
       "            Name city\n",
       "0            Aba  NaN\n",
       "1     Abádszalók  NaN\n",
       "2    Abaújszántó  NaN\n",
       "3          Abony  NaN\n",
       "4            Ács  NaN\n",
       "..           ...  ...\n",
       "315       Záhony  NaN\n",
       "316    Zalakaros  NaN\n",
       "317     Zalalövő  NaN\n",
       "319      Zamárdi  NaN\n",
       "321      Zsámbék  NaN\n",
       "\n",
       "[191 rows x 2 columns]"
      ]
     },
     "execution_count": 22,
     "metadata": {},
     "output_type": "execute_result"
    }
   ],
   "source": [
    "lj[pd.isnull(lj['city'])]"
   ]
  },
  {
   "cell_type": "markdown",
   "metadata": {},
   "source": [
    "#### Further join possibilities\n",
    "- Right outer (keeping all the rows from the right table)\n",
    "- Full outer (keeping all the rows from both tables)\n",
    "- Cross join, Cartesian product (there are only hacked solutions in pandas)\n",
    "\n",
    "#### Weaknesses\n",
    "\n",
    "We can only join on concrete values, we cannot use any transformation functions such as 'give me the rows where the absolute value of the x column in table A minus the absolute value of the y column of table B is less than 5'. Though this operation would be trivial in SQL. If we need such a thing, we have to turn to the package `sqlite`."
   ]
  },
  {
   "cell_type": "markdown",
   "metadata": {},
   "source": [
    "## Contains\n",
    "\n",
    "If we have to took whether a character string is in the elements of a string columns:"
   ]
  },
  {
   "cell_type": "code",
   "execution_count": 23,
   "metadata": {
    "ExecuteTime": {
     "end_time": "2020-09-14T20:07:40.262923Z",
     "start_time": "2020-09-14T20:07:40.238883Z"
    },
    "scrolled": true
   },
   "outputs": [
    {
     "data": {
      "text/plain": [
       "21602     Budaörs\n",
       "21631     Budaörs\n",
       "21632    Budapest\n",
       "21642     Budaörs\n",
       "21643     Budaörs\n",
       "Name: city, dtype: object"
      ]
     },
     "execution_count": 23,
     "metadata": {},
     "output_type": "execute_result"
    }
   ],
   "source": [
    "df[df[\"city\"].str.contains(\"Buda\")].tail()['city']"
   ]
  },
  {
   "cell_type": "markdown",
   "metadata": {},
   "source": [
    "## Apply"
   ]
  },
  {
   "cell_type": "markdown",
   "metadata": {},
   "source": [
    "If we want to use an arbitrary function to each and every element of a column, we can do it by using `apply`. We write the function that we wany to use into the brackets after apply.\n",
    "\n",
    "First we define a function that adds 1 to an arbitrary number:"
   ]
  },
  {
   "cell_type": "code",
   "execution_count": 24,
   "metadata": {
    "ExecuteTime": {
     "end_time": "2020-09-14T20:07:41.534411Z",
     "start_time": "2020-09-14T20:07:41.530873Z"
    }
   },
   "outputs": [],
   "source": [
    "def hozzaad(x):\n",
    "    return x+1"
   ]
  },
  {
   "cell_type": "markdown",
   "metadata": {},
   "source": [
    "Then, we build houses."
   ]
  },
  {
   "cell_type": "code",
   "execution_count": 25,
   "metadata": {},
   "outputs": [
    {
     "data": {
      "text/plain": [
       "0    1546\n",
       "1    2038\n",
       "2     241\n",
       "3    1188\n",
       "4      58\n",
       "Name: Number of living units, dtype: int64"
      ]
     },
     "execution_count": 25,
     "metadata": {},
     "output_type": "execute_result"
    }
   ],
   "source": [
    "h['Number of living units'].head()"
   ]
  },
  {
   "cell_type": "code",
   "execution_count": 26,
   "metadata": {},
   "outputs": [
    {
     "data": {
      "text/plain": [
       "0    1547\n",
       "1    2039\n",
       "2     242\n",
       "3    1189\n",
       "4      59\n",
       "Name: Number of living units, dtype: int64"
      ]
     },
     "execution_count": 26,
     "metadata": {},
     "output_type": "execute_result"
    }
   ],
   "source": [
    "h['Number of living units'].apply(hozzaad).head()\n",
    "\n",
    "# with lambda function\n",
    "# h['Number of living units'].apply(lambda x: x+1).head()"
   ]
  },
  {
   "cell_type": "markdown",
   "metadata": {},
   "source": [
    "We can use `apply` rowwise if we use the `axis=1` keyword. For example, let us write a normalization function by hand, that divides a row by the sum of its elements. This function will be very slow!"
   ]
  },
  {
   "cell_type": "code",
   "execution_count": 27,
   "metadata": {},
   "outputs": [],
   "source": [
    "def norm(sor):\n",
    "    return sor/sor.sum()"
   ]
  },
  {
   "cell_type": "code",
   "execution_count": 28,
   "metadata": {},
   "outputs": [
    {
     "data": {
      "text/html": [
       "<div>\n",
       "<style scoped>\n",
       "    .dataframe tbody tr th:only-of-type {\n",
       "        vertical-align: middle;\n",
       "    }\n",
       "\n",
       "    .dataframe tbody tr th {\n",
       "        vertical-align: top;\n",
       "    }\n",
       "\n",
       "    .dataframe thead th {\n",
       "        text-align: right;\n",
       "    }\n",
       "</style>\n",
       "<table border=\"1\" class=\"dataframe\">\n",
       "  <thead>\n",
       "    <tr style=\"text-align: right;\">\n",
       "      <th></th>\n",
       "      <th>points_written</th>\n",
       "      <th>points_oral</th>\n",
       "    </tr>\n",
       "  </thead>\n",
       "  <tbody>\n",
       "    <tr>\n",
       "      <th>0</th>\n",
       "      <td>NaN</td>\n",
       "      <td>NaN</td>\n",
       "    </tr>\n",
       "    <tr>\n",
       "      <th>1</th>\n",
       "      <td>NaN</td>\n",
       "      <td>NaN</td>\n",
       "    </tr>\n",
       "    <tr>\n",
       "      <th>2</th>\n",
       "      <td>0.589041</td>\n",
       "      <td>0.410959</td>\n",
       "    </tr>\n",
       "    <tr>\n",
       "      <th>3</th>\n",
       "      <td>0.377049</td>\n",
       "      <td>0.622951</td>\n",
       "    </tr>\n",
       "    <tr>\n",
       "      <th>4</th>\n",
       "      <td>0.523810</td>\n",
       "      <td>0.476190</td>\n",
       "    </tr>\n",
       "  </tbody>\n",
       "</table>\n",
       "</div>"
      ],
      "text/plain": [
       "   points_written  points_oral\n",
       "0             NaN          NaN\n",
       "1             NaN          NaN\n",
       "2        0.589041     0.410959\n",
       "3        0.377049     0.622951\n",
       "4        0.523810     0.476190"
      ]
     },
     "execution_count": 28,
     "metadata": {},
     "output_type": "execute_result"
    }
   ],
   "source": [
    "df[['points_written','points_oral']].apply(norm,axis=1).head()"
   ]
  },
  {
   "cell_type": "markdown",
   "metadata": {},
   "source": [
    "## Pivot"
   ]
  },
  {
   "cell_type": "markdown",
   "metadata": {},
   "source": [
    "We can easily rearrange our table even when we had only column-wise values. Now we want to have a look at the median of the points of the written examination for each county in each year."
   ]
  },
  {
   "cell_type": "code",
   "execution_count": 29,
   "metadata": {},
   "outputs": [
    {
     "data": {
      "text/html": [
       "<div>\n",
       "<style scoped>\n",
       "    .dataframe tbody tr th:only-of-type {\n",
       "        vertical-align: middle;\n",
       "    }\n",
       "\n",
       "    .dataframe tbody tr th {\n",
       "        vertical-align: top;\n",
       "    }\n",
       "\n",
       "    .dataframe thead th {\n",
       "        text-align: right;\n",
       "    }\n",
       "</style>\n",
       "<table border=\"1\" class=\"dataframe\">\n",
       "  <thead>\n",
       "    <tr style=\"text-align: right;\">\n",
       "      <th>year</th>\n",
       "      <th>2011</th>\n",
       "      <th>2012</th>\n",
       "      <th>2013</th>\n",
       "      <th>2014</th>\n",
       "      <th>2015</th>\n",
       "    </tr>\n",
       "    <tr>\n",
       "      <th>county</th>\n",
       "      <th></th>\n",
       "      <th></th>\n",
       "      <th></th>\n",
       "      <th></th>\n",
       "      <th></th>\n",
       "    </tr>\n",
       "  </thead>\n",
       "  <tbody>\n",
       "    <tr>\n",
       "      <th>Baranya</th>\n",
       "      <td>83.0</td>\n",
       "      <td>54.0</td>\n",
       "      <td>57.0</td>\n",
       "      <td>55.0</td>\n",
       "      <td>53.0</td>\n",
       "    </tr>\n",
       "    <tr>\n",
       "      <th>Borsod-Abaúj-Zemplén</th>\n",
       "      <td>67.5</td>\n",
       "      <td>51.0</td>\n",
       "      <td>58.0</td>\n",
       "      <td>54.0</td>\n",
       "      <td>52.0</td>\n",
       "    </tr>\n",
       "    <tr>\n",
       "      <th>Budapest</th>\n",
       "      <td>74.0</td>\n",
       "      <td>59.0</td>\n",
       "      <td>60.0</td>\n",
       "      <td>61.0</td>\n",
       "      <td>61.0</td>\n",
       "    </tr>\n",
       "    <tr>\n",
       "      <th>Bács-Kiskun</th>\n",
       "      <td>77.5</td>\n",
       "      <td>49.5</td>\n",
       "      <td>55.0</td>\n",
       "      <td>56.5</td>\n",
       "      <td>54.0</td>\n",
       "    </tr>\n",
       "    <tr>\n",
       "      <th>Békés</th>\n",
       "      <td>78.0</td>\n",
       "      <td>42.0</td>\n",
       "      <td>50.0</td>\n",
       "      <td>47.0</td>\n",
       "      <td>50.0</td>\n",
       "    </tr>\n",
       "    <tr>\n",
       "      <th>Csongrád</th>\n",
       "      <td>78.0</td>\n",
       "      <td>53.0</td>\n",
       "      <td>59.0</td>\n",
       "      <td>59.0</td>\n",
       "      <td>56.0</td>\n",
       "    </tr>\n",
       "    <tr>\n",
       "      <th>Fejér</th>\n",
       "      <td>79.5</td>\n",
       "      <td>47.0</td>\n",
       "      <td>57.0</td>\n",
       "      <td>51.5</td>\n",
       "      <td>48.0</td>\n",
       "    </tr>\n",
       "    <tr>\n",
       "      <th>Gyõr-Moson-Sopron</th>\n",
       "      <td>81.0</td>\n",
       "      <td>52.0</td>\n",
       "      <td>59.0</td>\n",
       "      <td>63.0</td>\n",
       "      <td>56.0</td>\n",
       "    </tr>\n",
       "    <tr>\n",
       "      <th>Hajdú-Bihar</th>\n",
       "      <td>68.5</td>\n",
       "      <td>42.0</td>\n",
       "      <td>55.0</td>\n",
       "      <td>54.0</td>\n",
       "      <td>57.0</td>\n",
       "    </tr>\n",
       "    <tr>\n",
       "      <th>Heves</th>\n",
       "      <td>43.0</td>\n",
       "      <td>42.0</td>\n",
       "      <td>48.0</td>\n",
       "      <td>48.0</td>\n",
       "      <td>50.0</td>\n",
       "    </tr>\n",
       "    <tr>\n",
       "      <th>Jász-Nagykun-Szolnok</th>\n",
       "      <td>40.0</td>\n",
       "      <td>39.0</td>\n",
       "      <td>54.0</td>\n",
       "      <td>52.0</td>\n",
       "      <td>51.0</td>\n",
       "    </tr>\n",
       "    <tr>\n",
       "      <th>Komárom-Esztergom</th>\n",
       "      <td>75.0</td>\n",
       "      <td>56.0</td>\n",
       "      <td>60.0</td>\n",
       "      <td>57.0</td>\n",
       "      <td>55.0</td>\n",
       "    </tr>\n",
       "    <tr>\n",
       "      <th>Nógrád</th>\n",
       "      <td>67.5</td>\n",
       "      <td>49.0</td>\n",
       "      <td>63.0</td>\n",
       "      <td>55.0</td>\n",
       "      <td>46.0</td>\n",
       "    </tr>\n",
       "    <tr>\n",
       "      <th>Pest</th>\n",
       "      <td>67.0</td>\n",
       "      <td>55.0</td>\n",
       "      <td>63.0</td>\n",
       "      <td>60.0</td>\n",
       "      <td>55.0</td>\n",
       "    </tr>\n",
       "    <tr>\n",
       "      <th>Somogy</th>\n",
       "      <td>76.0</td>\n",
       "      <td>60.0</td>\n",
       "      <td>56.5</td>\n",
       "      <td>53.5</td>\n",
       "      <td>56.0</td>\n",
       "    </tr>\n",
       "    <tr>\n",
       "      <th>Szabolcs-Szatmár-Bereg</th>\n",
       "      <td>53.0</td>\n",
       "      <td>40.0</td>\n",
       "      <td>45.0</td>\n",
       "      <td>43.0</td>\n",
       "      <td>49.0</td>\n",
       "    </tr>\n",
       "    <tr>\n",
       "      <th>Tolna</th>\n",
       "      <td>66.0</td>\n",
       "      <td>46.0</td>\n",
       "      <td>51.0</td>\n",
       "      <td>49.0</td>\n",
       "      <td>54.0</td>\n",
       "    </tr>\n",
       "    <tr>\n",
       "      <th>Vas</th>\n",
       "      <td>82.5</td>\n",
       "      <td>42.0</td>\n",
       "      <td>60.0</td>\n",
       "      <td>53.5</td>\n",
       "      <td>53.0</td>\n",
       "    </tr>\n",
       "    <tr>\n",
       "      <th>Veszprém</th>\n",
       "      <td>72.0</td>\n",
       "      <td>54.5</td>\n",
       "      <td>56.0</td>\n",
       "      <td>58.0</td>\n",
       "      <td>58.0</td>\n",
       "    </tr>\n",
       "    <tr>\n",
       "      <th>Zala</th>\n",
       "      <td>84.0</td>\n",
       "      <td>54.0</td>\n",
       "      <td>64.0</td>\n",
       "      <td>59.0</td>\n",
       "      <td>57.0</td>\n",
       "    </tr>\n",
       "  </tbody>\n",
       "</table>\n",
       "</div>"
      ],
      "text/plain": [
       "year                    2011  2012  2013  2014  2015\n",
       "county                                              \n",
       "Baranya                 83.0  54.0  57.0  55.0  53.0\n",
       "Borsod-Abaúj-Zemplén    67.5  51.0  58.0  54.0  52.0\n",
       "Budapest                74.0  59.0  60.0  61.0  61.0\n",
       "Bács-Kiskun             77.5  49.5  55.0  56.5  54.0\n",
       "Békés                   78.0  42.0  50.0  47.0  50.0\n",
       "Csongrád                78.0  53.0  59.0  59.0  56.0\n",
       "Fejér                   79.5  47.0  57.0  51.5  48.0\n",
       "Gyõr-Moson-Sopron       81.0  52.0  59.0  63.0  56.0\n",
       "Hajdú-Bihar             68.5  42.0  55.0  54.0  57.0\n",
       "Heves                   43.0  42.0  48.0  48.0  50.0\n",
       "Jász-Nagykun-Szolnok    40.0  39.0  54.0  52.0  51.0\n",
       "Komárom-Esztergom       75.0  56.0  60.0  57.0  55.0\n",
       "Nógrád                  67.5  49.0  63.0  55.0  46.0\n",
       "Pest                    67.0  55.0  63.0  60.0  55.0\n",
       "Somogy                  76.0  60.0  56.5  53.5  56.0\n",
       "Szabolcs-Szatmár-Bereg  53.0  40.0  45.0  43.0  49.0\n",
       "Tolna                   66.0  46.0  51.0  49.0  54.0\n",
       "Vas                     82.5  42.0  60.0  53.5  53.0\n",
       "Veszprém                72.0  54.5  56.0  58.0  58.0\n",
       "Zala                    84.0  54.0  64.0  59.0  57.0"
      ]
     },
     "execution_count": 29,
     "metadata": {},
     "output_type": "execute_result"
    }
   ],
   "source": [
    "df.pivot_table(values='points_written',\n",
    "               columns='year',\n",
    "               index='county',\n",
    "               aggfunc=np.median)"
   ]
  }
 ],
 "metadata": {
  "anaconda-cloud": {},
  "finalized": {
   "timestamp": 1607507122424,
   "trusted": false
  },
  "hide_input": false,
  "kernelspec": {
   "display_name": "Python 3",
   "language": "python",
   "name": "python3"
  },
  "language_info": {
   "codemirror_mode": {
    "name": "ipython",
    "version": 3
   },
   "file_extension": ".py",
   "mimetype": "text/x-python",
   "name": "python",
   "nbconvert_exporter": "python",
   "pygments_lexer": "ipython3",
   "version": "3.7.3"
  },
  "toc": {
   "toc_cell": false,
   "toc_number_sections": false,
   "toc_section_display": "block",
   "toc_threshold": 6,
   "toc_window_display": false
  }
 },
 "nbformat": 4,
 "nbformat_minor": 4
}
