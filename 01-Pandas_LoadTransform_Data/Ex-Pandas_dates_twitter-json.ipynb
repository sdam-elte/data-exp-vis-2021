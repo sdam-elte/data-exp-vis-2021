{
 "cells": [
  {
   "cell_type": "code",
   "execution_count": 1,
   "metadata": {
    "ExecuteTime": {
     "end_time": "2020-09-14T18:17:59.836306Z",
     "start_time": "2020-09-14T18:17:59.822157Z"
    }
   },
   "outputs": [
    {
     "data": {
      "text/html": [
       "<script>\n",
       "// Converts integer to roman numeral\n",
       "function romanize(num) {\n",
       "    var lookup = {M:1000,CM:900,D:500,CD:400,C:100,XC:90,L:50,XL:40,X:10,IX:9,V:5,IV:4,I:1},\n",
       "        roman = '',\n",
       "        i;\n",
       "    for ( i in lookup ) {\n",
       "        while ( num >= lookup[i] ) {\n",
       "        roman += i;\n",
       "        num -= lookup[i];\n",
       "        }\n",
       "    }\n",
       "    return roman;\n",
       "}\n",
       "\n",
       "// Builds a <ul> Table of Contents from all <headers> in DOM\n",
       "function createTOC(toc_tag, maxlevel){\n",
       "    var toc = \"\";\n",
       "    var level = 0;\n",
       "    var levels = {};\n",
       "    $('#'+toc_tag).html('');\n",
       "\n",
       "    $(\":header\").each(function(i){\n",
       "        if (this.id=='tocheading'){return;}\n",
       "        if (this.tagName[1] >= maxlevel){return;}\n",
       "\n",
       "        var titleText = this.innerHTML;\n",
       "        var openLevel = this.tagName[1];\n",
       "\n",
       "        var exclude = [];\n",
       "        for (var i = 0; i < exclude.length; i++) {\n",
       "            if (titleText.indexOf(exclude[i]) !== -1){return;}\n",
       "        }\n",
       "\n",
       "        if (levels[openLevel]){\n",
       "        levels[openLevel] += 1;\n",
       "        } else{\n",
       "        levels[openLevel] = 1;\n",
       "        }\n",
       "\n",
       "        if (openLevel > level) {\n",
       "        toc += (new Array(openLevel - level + 1)).join('<ul class=\"'+toc_tag+'\">');\n",
       "        } else if (openLevel < level) {\n",
       "        toc += (new Array(level - openLevel + 1)).join(\"</ul>\");\n",
       "        for (i=level;i>openLevel;i--){levels[i]=0;}\n",
       "        }\n",
       "\n",
       "        level = parseInt(openLevel);\n",
       "\n",
       "        if (this.id==''){this.id = this.innerHTML.replace(/ /g,\"-\")}\n",
       "        var anchor = this.id;\n",
       "\n",
       "        toc += '<li><a href=\"#' + escape(anchor) + '\">'\n",
       "        + romanize(levels[openLevel].toString()) + '. ' + titleText\n",
       "        + '</a></li>';\n",
       "\n",
       "    });\n",
       "\n",
       "    if (level) {\n",
       "    toc += (new Array(level + 1)).join(\"</ul>\");\n",
       "    }\n",
       "\n",
       "    $('#'+toc_tag).append(toc);\n",
       "};\n",
       "\n",
       "$('<div id=\"toc\"></div>').css({position: 'fixed', top: '160px', right: 20, background: \"rgba(255, 255, 255, 0.6)\"}).appendTo(document.body);\n",
       "$(\"#toc\").css(\"z-index\", \"2000\");\n",
       "\n",
       "// Executes the createToc function\n",
       "setTimeout(function(){createTOC('toc', 1 + 3);},100);\n",
       "setTimeout(function(){createTOC('toc', 1 + 3);},5000);\n",
       "setTimeout(function(){createTOC('toc', 1 + 3);},15000);\n",
       "\n",
       "// Rebuild TOC every 5 minutes\n",
       "setInterval(function(){createTOC('toc', 1 + 3);}, 300000);\n",
       "\n",
       "function toc_toggle() {\n",
       " if ($('#toc').is(':visible')){\n",
       "     $('#toc').hide('500');\n",
       "     $('#tocButton').val('Show table of content')\n",
       " } else {\n",
       "     $('#toc').show('500');\n",
       "     $('#tocButton').val('Hide table of content')\n",
       " }\n",
       "}\n",
       "\n",
       "if (!($('#tocButton').length)) {\n",
       "    $('<form action=\"javascript:toc_toggle()\" id=\"tocButtonForm\"><input type=\"submit\" id=\"tocButton\" value=\"Hide table of content\"></form>').css({position: 'fixed', top: \"135px\", right: \"20px\", background: \"rgba(255, 255, 255, 0.6)\"}).appendTo(document.body);\n",
       "} else {\n",
       "    document.getElementById('tocButtonForm').style.top = \"135px\";\n",
       "    document.getElementById('tocButtonForm').style.right = \"20px\";\n",
       "    $('#tocButton').val('Hide table of content')\n",
       "}\n",
       "\n",
       "</script>\n"
      ],
      "text/plain": [
       "<IPython.core.display.HTML object>"
      ]
     },
     "metadata": {},
     "output_type": "display_data"
    }
   ],
   "source": [
    "from nbindex import floating\n",
    "floating.tableofcontent()"
   ]
  },
  {
   "cell_type": "markdown",
   "metadata": {},
   "source": [
    "## Parsing dates, JSON"
   ]
  },
  {
   "cell_type": "markdown",
   "metadata": {},
   "source": [
    "The Twiiter social network has a lot of public message, which can be downloaded freely. A sample of these is saved into `data/twitter_sample.gz`.\n",
    "* First read the compressed file with the following command:\n",
    "\n",
    "```\n",
    "import gzip\n",
    "l=[json.loads(str(s).strip(\"\\r\\n\")) for s in gzip.open(\"../data/twitter_sample.gz\",mode=\"rt\").readlines()]\n",
    "```\n",
    "\n",
    "The `created_at` column contains the date when messages were sent. Plot how many tweets were sent every minute by the users! Use the `strptime()` and `strftime()` functions from the **datetime** module, which are described in detail [here](https://www.tutorialspoint.com/python/time_strptime.htm) and [here](https://docs.python.org/2/library/datetime.html#strftime-and-strptime-behavior).\n",
    "\n",
    "Mind that not all entries have `created_at` value, and you should drop those!"
   ]
  },
  {
   "cell_type": "markdown",
   "metadata": {},
   "source": [
    "### Solution"
   ]
  },
  {
   "cell_type": "code",
   "execution_count": 1,
   "metadata": {},
   "outputs": [],
   "source": [
    "import pandas as pd\n",
    "import json"
   ]
  },
  {
   "cell_type": "code",
   "execution_count": 2,
   "metadata": {
    "jupyter": {
     "outputs_hidden": false
    }
   },
   "outputs": [],
   "source": [
    "import gzip\n",
    "l=[json.loads(str(s).strip(\"\\r\\n\")) for s in gzip.open(\"../data/twitter_sample.gz\",mode=\"rt\").readlines()]\n",
    "df=pd.DataFrame.from_dict(l)"
   ]
  },
  {
   "cell_type": "code",
   "execution_count": 3,
   "metadata": {},
   "outputs": [],
   "source": [
    "from datetime import datetime"
   ]
  },
  {
   "cell_type": "code",
   "execution_count": 4,
   "metadata": {
    "jupyter": {
     "outputs_hidden": false
    }
   },
   "outputs": [],
   "source": [
    "ts=pd.DataFrame(\\\n",
    "    df[\"created_at\"].dropna().\\\n",
    "    map(lambda d: datetime.strptime(d,'%a %b %d %H:%M:%S +0000 %Y').\\\n",
    "    strftime('%H:%M'))).groupby(\"created_at\").size()"
   ]
  },
  {
   "cell_type": "code",
   "execution_count": 5,
   "metadata": {
    "jupyter": {
     "outputs_hidden": false
    }
   },
   "outputs": [],
   "source": [
    "import matplotlib.pyplot as plt\n",
    "%matplotlib inline"
   ]
  },
  {
   "cell_type": "code",
   "execution_count": 9,
   "metadata": {
    "jupyter": {
     "outputs_hidden": false
    }
   },
   "outputs": [
    {
     "data": {
      "image/png": "[encoded data removed]",
      "text/plain": [
       "<Figure size 432x288 with 1 Axes>"
      ]
     },
     "metadata": {
      "needs_background": "light"
     },
     "output_type": "display_data"
    }
   ],
   "source": [
    "plt.plot(ts.index.map(lambda x: datetime.strptime(x,\"%H:%M\")),ts)\n",
    "plt.title(\"Messages sent by users/minute\", fontsize=14)\n",
    "plt.xlabel(\"Time\", fontsize=14)\n",
    "plt.ylabel(\"Count\", fontsize=14);"
   ]
  },
  {
   "cell_type": "code",
   "execution_count": null,
   "metadata": {},
   "outputs": [],
   "source": []
  }
 ],
 "metadata": {
  "kernelspec": {
   "display_name": "Python 3",
   "language": "python",
   "name": "python3"
  },
  "language_info": {
   "codemirror_mode": {
    "name": "ipython",
    "version": 3
   },
   "file_extension": ".py",
   "mimetype": "text/x-python",
   "name": "python",
   "nbconvert_exporter": "python",
   "pygments_lexer": "ipython3",
   "version": "3.7.3"
  }
 },
 "nbformat": 4,
 "nbformat_minor": 4
}
