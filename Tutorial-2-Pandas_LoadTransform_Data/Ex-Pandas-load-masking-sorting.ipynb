{
 "cells": [
  {
   "cell_type": "code",
   "execution_count": 1,
   "metadata": {
    "ExecuteTime": {
     "end_time": "2020-09-14T18:17:34.634698Z",
     "start_time": "2020-09-14T18:17:34.620800Z"
    }
   },
   "outputs": [],
   "source": [
    "#from nbindex import floating\n",
    "#floating.tableofcontent()"
   ]
  },
  {
   "cell_type": "markdown",
   "metadata": {},
   "source": [
    "## Pandas - load data, create mask, and sorting"
   ]
  },
  {
   "cell_type": "markdown",
   "metadata": {},
   "source": [
    "<img src=Datasets+\"/city.jpg\" width=300/>\n",
    "<br>\n",
    "\n",
    "Let's load `data/cities.csv`! It is worth to take a peek into the file in a text editor befor loading it! This file contains the coordinates of all the cities with more citizens than 15.000.\n",
    "\n",
    "Try to find all of the cities in Europe, that have more citizens than 2.000.000! Then print the sorted ascending by population size!\n",
    "\n",
    "Let's us the following rectangle to define the coordinates for Europe:\n",
    "* (longitude, latitude): (-20.2, 34.5) and (42.7, 72.4)"
   ]
  },
  {
   "cell_type": "markdown",
   "metadata": {},
   "source": [
    "### Solution"
   ]
  },
  {
   "cell_type": "code",
   "execution_count": 2,
   "metadata": {},
   "outputs": [],
   "source": [
    "import pandas as pd"
   ]
  },
  {
   "cell_type": "code",
   "execution_count": 3,
   "metadata": {},
   "outputs": [],
   "source": [
    "Datasets = '/home/course/01-data/'"
   ]
  },
  {
   "cell_type": "code",
   "execution_count": 4,
   "metadata": {},
   "outputs": [],
   "source": [
    "datafile=Datasets+\"/cities.csv\""
   ]
  },
  {
   "cell_type": "code",
   "execution_count": 5,
   "metadata": {},
   "outputs": [
    {
     "name": "stdout",
     "output_type": "stream",
     "text": [
      "id#name#lon#lat#country#population\r\n",
      "3040051#les Escaldes#1.53414#42.507290000000005#AD#15853\r\n",
      "3041563#Andorra la Vella#1.52109#42.50779#AD#20430\r\n",
      "290594#Umm al Qaywayn#55.55517#25.564729999999997#AE#44411\r\n",
      "291074#Ras al-Khaimah#55.9432#25.78953#AE#115949\r\n",
      "291696#Khawr Fakkan#56.34199#25.33132#AE#33575\r\n",
      "292223#Dubai#55.17128#25.0657#AE#1137347\r\n",
      "292231#Dibba Al-Fujairah#56.261759999999995#25.59246#AE#30000\r\n",
      "292239#Dibba Al-Hisn#56.272909999999996#25.61955#AE#26395\r\n",
      "292672#Sharjah#55.41206#25.33737#AE#543733\r\n"
     ]
    }
   ],
   "source": [
    "# Check the first few lines with the head bash command\n",
    "!head $datafile"
   ]
  },
  {
   "cell_type": "code",
   "execution_count": 6,
   "metadata": {
    "jupyter": {
     "outputs_hidden": false
    }
   },
   "outputs": [
    {
     "ename": "NameError",
     "evalue": "name 'darafile' is not defined",
     "output_type": "error",
     "traceback": [
      "\u001b[0;31m---------------------------------------------------------------------------\u001b[0m",
      "\u001b[0;31mNameError\u001b[0m                                 Traceback (most recent call last)",
      "\u001b[0;32m<ipython-input-6-2a5a3a83abae>\u001b[0m in \u001b[0;36m<module>\u001b[0;34m\u001b[0m\n\u001b[0;32m----> 1\u001b[0;31m \u001b[0mlinkdf\u001b[0m\u001b[0;34m=\u001b[0m\u001b[0mpd\u001b[0m\u001b[0;34m.\u001b[0m\u001b[0mread_csv\u001b[0m\u001b[0;34m(\u001b[0m\u001b[0mdarafile\u001b[0m\u001b[0;34m,\u001b[0m\u001b[0msep\u001b[0m\u001b[0;34m=\u001b[0m\u001b[0;34m\"#\"\u001b[0m\u001b[0;34m)\u001b[0m\u001b[0;34m\u001b[0m\u001b[0;34m\u001b[0m\u001b[0m\n\u001b[0m\u001b[1;32m      2\u001b[0m \u001b[0mdf\u001b[0m\u001b[0;34m.\u001b[0m\u001b[0mhead\u001b[0m\u001b[0;34m(\u001b[0m\u001b[0;34m)\u001b[0m\u001b[0;34m\u001b[0m\u001b[0;34m\u001b[0m\u001b[0m\n",
      "\u001b[0;31mNameError\u001b[0m: name 'darafile' is not defined"
     ]
    }
   ],
   "source": [
    "linkdf=pd.read_csv(darafile,sep=\"#\")\n",
    "df.head()"
   ]
  },
  {
   "cell_type": "code",
   "execution_count": null,
   "metadata": {},
   "outputs": [],
   "source": [
    "df.describe()"
   ]
  },
  {
   "cell_type": "code",
   "execution_count": null,
   "metadata": {},
   "outputs": [],
   "source": [
    "df.shape"
   ]
  },
  {
   "cell_type": "code",
   "execution_count": null,
   "metadata": {
    "jupyter": {
     "outputs_hidden": false
    }
   },
   "outputs": [],
   "source": [
    "mask=((df[\"lon\"]>-20.2) & (df[\"lon\"]<42.7) & (df[\"lat\"]>34.5) & (df[\"lat\"]<72.4) & (df[\"population\"]>2000000))\n",
    "\n",
    "df[mask].sort_values(by=\"population\",ascending=False)"
   ]
  },
  {
   "cell_type": "markdown",
   "metadata": {},
   "source": [
    "## Pandas - Load data, averages\n",
    "\n",
    "- Load the `data/T_adat.csv` file into a pandas Dataframe, and then calculate the average for each year and plot it.\n",
    "\n",
    "- Load `data/co2_adat.txt` as pandas DataFrame. The \"#\" character at beginning of the line are comments, which help to understand the listed data, but they are not part of the datatable itself. Plot the annual average $CO_2$ concentration as the fuction of time. \n",
    "\n",
    "<img src=Datasets+\"/co2em.png\" width=350/>"
   ]
  },
  {
   "cell_type": "markdown",
   "metadata": {},
   "source": [
    "### Solution"
   ]
  },
  {
   "cell_type": "code",
   "execution_count": null,
   "metadata": {
    "jupyter": {
     "outputs_hidden": false
    }
   },
   "outputs": [],
   "source": [
    "%pylab inline\n",
    "import pandas as pd"
   ]
  },
  {
   "cell_type": "code",
   "execution_count": null,
   "metadata": {},
   "outputs": [],
   "source": [
    "# Read temperature\n",
    "\n",
    "t = pd.read_csv(Datasets+'//T_adat.csv',skiprows=1)"
   ]
  },
  {
   "cell_type": "code",
   "execution_count": null,
   "metadata": {},
   "outputs": [],
   "source": [
    "# average\n",
    "\n",
    "t['av']=t[['Jan','Feb','Mar','Apr', 'May', 'Jun', 'Jul', 'Aug', 'Sep', 'Oct', 'Nov', 'Dec']].mean(axis=1,skipna=True)"
   ]
  },
  {
   "cell_type": "code",
   "execution_count": null,
   "metadata": {
    "jupyter": {
     "outputs_hidden": false
    }
   },
   "outputs": [],
   "source": [
    "# plot\n",
    "\n",
    "plot(t['Year'].values,t['av'].values)\n",
    "plt.xlabel('years')\n",
    "d=plt.ylabel('Relative annual average temperature')"
   ]
  },
  {
   "cell_type": "code",
   "execution_count": null,
   "metadata": {},
   "outputs": [],
   "source": [
    "# read CO_2 data\n",
    "\n",
    "n=['y','mo','dec y','co2','interpolated','trend','#d']\n",
    "co2=pd.read_csv(Datasets+'//co2_adat.txt',delim_whitespace=True,comment='#',names=n)"
   ]
  },
  {
   "cell_type": "code",
   "execution_count": null,
   "metadata": {},
   "outputs": [],
   "source": [
    "# years and annual data\n",
    "\n",
    "years = co2['y'].unique()\n",
    "avgco2 = list(co2.groupby('y')['co2'].mean())"
   ]
  },
  {
   "cell_type": "code",
   "execution_count": null,
   "metadata": {
    "jupyter": {
     "outputs_hidden": false
    }
   },
   "outputs": [],
   "source": [
    "# plot\n",
    "\n",
    "plot(years,avgco2, '+', markersize=5)\n",
    "plt.xlabel('years', fontsize=14)\n",
    "plt.ylabel(r'average $CO_2$ concentration [ppm]', fontsize=14)\n",
    "d=plt.ylim(300,420)"
   ]
  },
  {
   "cell_type": "markdown",
   "metadata": {},
   "source": [
    "## Pandas-Correlation\n",
    "\n",
    "Compare two Dataframes! (from previous exercise `data/T_adat.csv` and `data/co2_adat.txt`)\n",
    "\n",
    "- Merge the two Dataframes along the column that contains the years, and leave only those rows that contain value in both Dataframes.\n",
    "\n",
    "- Take a look at the newly created Dataframe and, check how much the average temperature correlates with the average $CO_2$ concentration. Plot the average temperatures as the function of $CO_2$ concentration."
   ]
  },
  {
   "cell_type": "markdown",
   "metadata": {},
   "source": [
    "### Solution"
   ]
  },
  {
   "cell_type": "code",
   "execution_count": null,
   "metadata": {},
   "outputs": [],
   "source": [
    "%pylab inline\n",
    "import pandas as pd"
   ]
  },
  {
   "cell_type": "code",
   "execution_count": null,
   "metadata": {},
   "outputs": [],
   "source": [
    "# prepare DataFrames as before\n",
    "\n",
    "t = pd.read_csv(Datasets+'//T_adat.csv',skiprows=1)\n",
    "t['av']=t[['Jan','Feb','Mar','Apr', 'May', 'Jun', 'Jul', 'Aug', 'Sep', 'Oct', 'Nov']].mean(axis=1,skipna=True)\n",
    "\n",
    "n=['y','mo','dec y','co2','interpolated','trend','#d']\n",
    "co2=pd.read_csv(Datasets+'//co2_adat.txt',delim_whitespace=True,comment='#',names=n)\n",
    "co2_simple = pd.DataFrame()\n",
    "co2_simple['y'] = list(co2['y'].unique())\n",
    "co2_simple['avg co2'] = list(co2.groupby('y')['co2'].mean())"
   ]
  },
  {
   "cell_type": "code",
   "execution_count": null,
   "metadata": {},
   "outputs": [],
   "source": [
    "# merge DataFrames\n",
    "\n",
    "df=t.merge(co2_simple,how='inner',\n",
    "             left_on='Year',\n",
    "             right_on='y')"
   ]
  },
  {
   "cell_type": "code",
   "execution_count": null,
   "metadata": {},
   "outputs": [],
   "source": [
    "plot(df['avg co2'].values,df['av'].values, '+')\n",
    "plt.xlabel(r'average $CO_2$ concentration [ppm]', fontsize=12)\n",
    "d = plt.ylabel('Relative average temperature', fontsize=12)"
   ]
  },
  {
   "cell_type": "code",
   "execution_count": null,
   "metadata": {},
   "outputs": [],
   "source": [
    "print(r'Pearson-correlation coefficient between the annual average $CO_2$ concentration and the average temperature: ' \n",
    "      + str(df['avg co2'].corr(df['av'])))"
   ]
  },
  {
   "cell_type": "markdown",
   "metadata": {},
   "source": [
    "## Still fossil fuel\n",
    "The `fossil-fuel-co2-emissions-by-nation.csv` file contains the $CO_2$ emissions by burning fossil fuel of each country in the world in the last two centuries.\n",
    "\n",
    "- With the help of the `pandas` module load the data into `DataFrames`!\n",
    "- Calculate the total emission in 2014! Using the \"Total\" column, which were the top ten countries emitting $CO_2$?.\n",
    "- Create a plot with the total emission of the 10 top polluters as the function of time  (column \"Year\")! \n",
    "- Create a plot with the emission of the Visegrad 4 countries (Hungary, Slovakia, Czech Republic, Poland), where you separate the \"Solid Fuel\", \"Liquid Fuel\" and \"Gas Fuel\" columns. \n"
   ]
  },
  {
   "cell_type": "markdown",
   "metadata": {},
   "source": [
    "### Solution"
   ]
  },
  {
   "cell_type": "code",
   "execution_count": null,
   "metadata": {},
   "outputs": [],
   "source": [
    "%pylab inline\n",
    "import pandas as pd\n",
    "import ipywidgets as ipw"
   ]
  },
  {
   "cell_type": "code",
   "execution_count": null,
   "metadata": {},
   "outputs": [],
   "source": [
    "dat=pd.read_csv(Datasets+'//fossil-fuel-co2-emissions-by-nation.csv')"
   ]
  },
  {
   "cell_type": "code",
   "execution_count": null,
   "metadata": {},
   "outputs": [],
   "source": [
    "# find the ten most poluting countries\n",
    "ten_polluters = dat[dat['Year'] == 2014][['Country','Total']].sort_values(\n",
    "               by = 'Total',ascending = False)[:10]['Country'].values"
   ]
  },
  {
   "cell_type": "code",
   "execution_count": null,
   "metadata": {},
   "outputs": [],
   "source": [
    "# solution 1\n",
    "for c in ten_polluters:\n",
    "    dat[dat['Country']==c].plot('Year','Total',label=c,ax=gca())\n",
    "xlabel('Year', fontsize=14)\n",
    "ylabel('Total $CO_2$ emission in t', fontsize=14);"
   ]
  },
  {
   "cell_type": "code",
   "execution_count": null,
   "metadata": {},
   "outputs": [],
   "source": [
    "# solution 2\n",
    "for c in ten_polluters:\n",
    "    plot(dat[dat['Country']==c]['Year'],\n",
    "         dat[dat['Country']==c]['Total'],label=c)\n",
    "legend()\n",
    "xlabel('Year', fontsize=14)\n",
    "ylabel('Total $CO_2$ emission in t', fontsize=14);"
   ]
  },
  {
   "cell_type": "markdown",
   "metadata": {},
   "source": [
    "In 2005 Chína was the largest polluter in the world!"
   ]
  },
  {
   "cell_type": "code",
   "execution_count": null,
   "metadata": {},
   "outputs": [],
   "source": [
    "# helper function \n",
    "def play(country,**kwargs):\n",
    "    dat.groupby('Country').get_group(country).plot('Year',['Solid Fuel','Liquid Fuel','Gas Fuel'],**kwargs) # Create DataFrame from a group\n",
    "    ylabel(r'$CO_2$ emission in t');\n",
    "    title(country)"
   ]
  },
  {
   "cell_type": "code",
   "execution_count": null,
   "metadata": {},
   "outputs": [],
   "source": [
    "play('HUNGARY')\n",
    "play('SLOVAKIA')\n",
    "play('CZECH REPUBLIC')\n",
    "play('POLAND')"
   ]
  },
  {
   "cell_type": "code",
   "execution_count": null,
   "metadata": {},
   "outputs": [],
   "source": [
    "#Miising years from previous plots\n",
    "play('CZECHOSLOVAKIA')"
   ]
  },
  {
   "cell_type": "code",
   "execution_count": null,
   "metadata": {},
   "outputs": [],
   "source": []
  },
  {
   "cell_type": "code",
   "execution_count": null,
   "metadata": {},
   "outputs": [],
   "source": []
  }
 ],
 "metadata": {
  "kernelspec": {
   "display_name": "Python 3",
   "language": "python",
   "name": "python3"
  },
  "language_info": {
   "codemirror_mode": {
    "name": "ipython",
    "version": 3
   },
   "file_extension": ".py",
   "mimetype": "text/x-python",
   "name": "python",
   "nbconvert_exporter": "python",
   "pygments_lexer": "ipython3",
   "version": "3.7.3"
  }
 },
 "nbformat": 4,
 "nbformat_minor": 4
}
