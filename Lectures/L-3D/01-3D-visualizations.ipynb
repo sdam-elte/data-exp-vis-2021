{
 "cells": [
  {
   "cell_type": "markdown",
   "metadata": {},
   "source": [
    "# 3D visualizations\n"
   ]
  },
  {
   "cell_type": "markdown",
   "metadata": {},
   "source": [
    "We have three dimensions, that defines the coordinates where we have data. This data might be:\n",
    "* a scalar\n",
    "* a vector\n",
    "* or even a tensor"
   ]
  },
  {
   "cell_type": "markdown",
   "metadata": {},
   "source": [
    "### Scalar\n",
    "* Heatmap"
   ]
  },
  {
   "cell_type": "markdown",
   "metadata": {},
   "source": [
    "### Vector\n",
    "\n",
    "* Electric, stress etc fields"
   ]
  },
  {
   "cell_type": "markdown",
   "metadata": {},
   "source": [
    " ### Tensors\n",
    " A rather complex problem, see for example this: https://www.inf.ed.ac.uk/teaching/courses/vis/lecture_notes/lecture14.pdf"
   ]
  },
  {
   "cell_type": "markdown",
   "metadata": {
    "ExecuteTime": {
     "end_time": "2021-05-10T09:01:19.327080Z",
     "start_time": "2021-05-10T09:01:19.296620Z"
    }
   },
   "source": [
    "## matplotlib\n",
    "\n",
    "* https://towardsdatascience.com/visualizing-three-dimensional-data-heatmaps-contours-and-3d-plots-with-python-bd718d1b42b4\n",
    "* https://medium.com/swlh/python-data-visualization-with-matplotlib-for-absolute-beginner-part-iii-three-dimensional-8284df93dfab\n",
    "* https://www.cdslab.org/python/notes/visualization/3d/3d.html"
   ]
  },
  {
   "cell_type": "markdown",
   "metadata": {},
   "source": [
    "## ipyvolume\n",
    "\n",
    "* Examples: https://ipyvolume.readthedocs.io/en/latest/examples.html"
   ]
  },
  {
   "cell_type": "markdown",
   "metadata": {},
   "source": [
    "## Vpython\n",
    "3D Programming for Ordinary Mortals\n",
    "* Examples: https://www.glowscript.org/#/user/GlowScriptDemos/folder/Examples/"
   ]
  },
  {
   "cell_type": "markdown",
   "metadata": {},
   "source": [
    "## k3D-tools\n",
    "\n",
    "* https://github.com/K3D-tools/K3D-jupyter\n",
    "* https://opendreamkit.org/2018/10/28/3d/\n",
    "* Ex: [03-k3D.ipynb](03-k3D.ipynb)\n",
    "\n"
   ]
  },
  {
   "cell_type": "markdown",
   "metadata": {},
   "source": [
    "## PPTK and open3D\n",
    "For visualizing point clouds. It does not work in jupyter environment.\n",
    "\n",
    "https://towardsdatascience.com/guide-to-real-time-visualisation-of-massive-3d-point-clouds-in-python-ea6f00241ee0\n",
    "\n",
    "<img src=\"https://miro.medium.com/max/700/1*fBE08w6vCua788GnQQM-gA.png\">"
   ]
  },
  {
   "cell_type": "markdown",
   "metadata": {},
   "source": [
    "## Tools\n",
    "\n",
    "* hdf5: for storing data `h5py`\n",
    "* Laspy: Python library for lidar LAS/LAZ IO https://laspy.readthedocs.io/en/latest/"
   ]
  },
  {
   "cell_type": "markdown",
   "metadata": {},
   "source": [
    "## Kepler maps\n",
    "3d effects on maps\n",
    "\n"
   ]
  },
  {
   "cell_type": "code",
   "execution_count": 4,
   "metadata": {
    "ExecuteTime": {
     "end_time": "2021-05-10T15:12:27.876385Z",
     "start_time": "2021-05-10T15:12:27.865648Z"
    }
   },
   "outputs": [
    {
     "data": {
      "text/html": [
       "<iframe src=data/graffiti.html width=1400 height=700></iframe>"
      ],
      "text/plain": [
       "<IPython.core.display.HTML object>"
      ]
     },
     "execution_count": 4,
     "metadata": {},
     "output_type": "execute_result"
    }
   ],
   "source": [
    "import IPython\n",
    "url = 'data/graffiti.html'\n",
    "iframe = '<iframe src=' + url + ' width=1400 height=700></iframe>'\n",
    "IPython.display.HTML(iframe)"
   ]
  },
  {
   "cell_type": "code",
   "execution_count": null,
   "metadata": {},
   "outputs": [],
   "source": []
  }
 ],
 "metadata": {
  "kernelspec": {
   "display_name": "Python 3",
   "language": "python",
   "name": "python3"
  },
  "language_info": {
   "codemirror_mode": {
    "name": "ipython",
    "version": 3
   },
   "file_extension": ".py",
   "mimetype": "text/x-python",
   "name": "python",
   "nbconvert_exporter": "python",
   "pygments_lexer": "ipython3",
   "version": "3.7.0"
  }
 },
 "nbformat": 4,
 "nbformat_minor": 4
}
