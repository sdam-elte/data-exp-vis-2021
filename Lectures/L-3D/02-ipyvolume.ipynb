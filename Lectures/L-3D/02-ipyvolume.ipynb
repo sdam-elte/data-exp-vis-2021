{
 "cells": [
  {
   "cell_type": "code",
   "execution_count": 1,
   "metadata": {
    "ExecuteTime": {
     "end_time": "2021-05-10T09:18:52.527944Z",
     "start_time": "2021-05-10T09:18:43.999279Z"
    }
   },
   "outputs": [],
   "source": [
    "import ipyvolume as ipv\n",
    "import numpy as np"
   ]
  },
  {
   "cell_type": "code",
   "execution_count": 2,
   "metadata": {
    "ExecuteTime": {
     "end_time": "2021-05-10T09:19:10.410984Z",
     "start_time": "2021-05-10T09:19:10.403745Z"
    }
   },
   "outputs": [],
   "source": [
    "N = 1000\n",
    "x, y, z = np.random.normal(0, 1, (3, N))"
   ]
  },
  {
   "cell_type": "code",
   "execution_count": 4,
   "metadata": {
    "ExecuteTime": {
     "end_time": "2021-05-10T09:20:43.615688Z",
     "start_time": "2021-05-10T09:20:43.593514Z"
    }
   },
   "outputs": [
    {
     "data": {
      "text/plain": [
       "'0.6.0-alpha.8'"
      ]
     },
     "execution_count": 4,
     "metadata": {},
     "output_type": "execute_result"
    }
   ],
   "source": [
    "ipv.__version__"
   ]
  },
  {
   "cell_type": "code",
   "execution_count": 6,
   "metadata": {
    "ExecuteTime": {
     "end_time": "2021-05-10T09:22:09.921280Z",
     "start_time": "2021-05-10T09:22:09.261810Z"
    }
   },
   "outputs": [
    {
     "name": "stderr",
     "output_type": "stream",
     "text": [
      "2021-05-10 09:22:09,723 [219] WARNING  py.warnings:99: [JupyterRequire] /opt/conda/lib/python3.7/site-packages/ipyvolume/serialize.py:92: RuntimeWarning: invalid value encountered in true_divide\n",
      "  gradient = gradient / np.sqrt(gradient[0] ** 2 + gradient[1] ** 2 + gradient[2] ** 2)\n",
      "\n"
     ]
    },
    {
     "data": {
      "application/vnd.jupyter.widget-view+json": {
       "model_id": "82c42b29d30e4098ab766b84cd61f571",
       "version_major": 2,
       "version_minor": 0
      },
      "text/plain": [
       "VBox(children=(VBox(children=(HBox(children=(Label(value='levels:'), FloatSlider(value=0.25, max=1.0, step=0.0…"
      ]
     },
     "metadata": {},
     "output_type": "display_data"
    }
   ],
   "source": [
    "import numpy as np\n",
    "import ipyvolume as ipv\n",
    "V = np.zeros((128,128,128)) # our 3d array\n",
    "# outer box\n",
    "V[30:-30,30:-30,30:-30] = 0.75\n",
    "V[35:-35,35:-35,35:-35] = 0.0\n",
    "# inner box\n",
    "V[50:-50,50:-50,50:-50] = 0.25\n",
    "V[55:-55,55:-55,55:-55] = 0.0\n",
    "\n",
    "ipv.figure()\n",
    "ipv.volshow(V, level=[0.25, 0.75], opacity=0.03, level_width=0.1, data_min=0, data_max=1)\n",
    "ipv.view(-30, 40)\n",
    "ipv.show()"
   ]
  },
  {
   "cell_type": "code",
   "execution_count": 7,
   "metadata": {
    "ExecuteTime": {
     "end_time": "2021-05-10T09:22:32.670302Z",
     "start_time": "2021-05-10T09:22:32.514743Z"
    }
   },
   "outputs": [
    {
     "data": {
      "application/vnd.jupyter.widget-view+json": {
       "model_id": "240c3404cbed4d2884a2c256c82918b4",
       "version_major": 2,
       "version_minor": 0
      },
      "text/plain": [
       "VBox(children=(Figure(camera=PerspectiveCamera(fov=45.0, position=(0.0, 0.0, 2.0), projectionMatrix=(1.0, 0.0,…"
      ]
     },
     "metadata": {},
     "output_type": "display_data"
    }
   ],
   "source": [
    "fig = ipv.figure()\n",
    "scatter = ipv.scatter(x, y, z)\n",
    "ipv.show()"
   ]
  },
  {
   "cell_type": "code",
   "execution_count": 2,
   "metadata": {
    "ExecuteTime": {
     "end_time": "2021-04-27T09:21:26.325599Z",
     "start_time": "2021-04-27T09:20:55.102239Z"
    }
   },
   "outputs": [
    {
     "name": "stdout",
     "output_type": "stream",
     "text": [
      "Collecting vaex\n",
      "  Downloading vaex-4.1.0-py3-none-any.whl (4.5 kB)\n",
      "Collecting vaex-viz<0.6,>=0.5.0\n",
      "  Downloading vaex_viz-0.5.0-py3-none-any.whl (19 kB)\n",
      "Collecting vaex-astro<0.9,>=0.8.0\n",
      "  Downloading vaex_astro-0.8.0-py3-none-any.whl (20 kB)\n",
      "Collecting vaex-hdf5<0.8,>=0.7.0\n",
      "  Downloading vaex_hdf5-0.7.0-py3-none-any.whl (15 kB)\n",
      "Collecting vaex-jupyter<0.7,>=0.6.0\n",
      "  Downloading vaex_jupyter-0.6.0-py3-none-any.whl (42 kB)\n",
      "\u001b[K     |████████████████████████████████| 42 kB 541 kB/s  eta 0:00:01\n",
      "\u001b[?25hCollecting vaex-core<5,>=4.1.0\n",
      "  Downloading vaex_core-4.1.0-cp37-cp37m-manylinux2010_x86_64.whl (2.4 MB)\n",
      "\u001b[K     |████████████████████████████████| 2.4 MB 20.4 MB/s eta 0:00:01\n",
      "\u001b[?25hCollecting vaex-ml<0.12,>=0.11.0\n",
      "  Downloading vaex_ml-0.11.1-py3-none-any.whl (95 kB)\n",
      "\u001b[K     |████████████████████████████████| 95 kB 462 kB/s  eta 0:00:01\n",
      "\u001b[?25hCollecting vaex-server<0.5,>=0.4.0\n",
      "  Downloading vaex_server-0.4.0-py3-none-any.whl (13 kB)\n",
      "Requirement already satisfied: pillow in /home/wfct0p/.local/lib/python3.7/site-packages (from vaex-viz<0.6,>=0.5.0->vaex) (7.2.0)\n",
      "Requirement already satisfied: matplotlib>=1.3.1 in /home/wfct0p/.local/lib/python3.7/site-packages (from vaex-viz<0.6,>=0.5.0->vaex) (3.2.1)\n",
      "Requirement already satisfied: astropy in /opt/conda/lib/python3.7/site-packages (from vaex-astro<0.9,>=0.8.0->vaex) (4.0.2)\n",
      "Requirement already satisfied: h5py>=2.9 in /opt/conda/lib/python3.7/site-packages (from vaex-hdf5<0.8,>=0.7.0->vaex) (2.10.0)\n",
      "Collecting ipympl\n",
      "  Downloading ipympl-0.7.0-py2.py3-none-any.whl (106 kB)\n",
      "\u001b[K     |████████████████████████████████| 106 kB 30.0 MB/s eta 0:00:01\n",
      "\u001b[?25hRequirement already satisfied: bqplot>=0.10.1 in /opt/conda/lib/python3.7/site-packages (from vaex-jupyter<0.7,>=0.6.0->vaex) (0.12.17)\n",
      "Requirement already satisfied: ipyleaflet in /opt/conda/lib/python3.7/site-packages (from vaex-jupyter<0.7,>=0.6.0->vaex) (0.13.2)\n",
      "Collecting ipyvolume>=0.4\n",
      "  Downloading ipyvolume-0.5.2-py2.py3-none-any.whl (2.9 MB)\n",
      "\u001b[K     |████████████████████████████████| 2.9 MB 22.5 MB/s eta 0:00:01\n",
      "\u001b[?25hRequirement already satisfied: xarray in /opt/conda/lib/python3.7/site-packages (from vaex-jupyter<0.7,>=0.6.0->vaex) (0.16.1)\n",
      "Collecting ipyvuetify<2,>=1.2.2\n",
      "  Downloading ipyvuetify-1.6.2-py2.py3-none-any.whl (11.7 MB)\n",
      "\u001b[K     |████████████████████████████████| 11.7 MB 20.1 MB/s eta 0:00:01     |████████████████████████████▌   | 10.4 MB 20.1 MB/s eta 0:00:01\n",
      "\u001b[?25hCollecting progressbar2\n",
      "  Downloading progressbar2-3.53.1-py2.py3-none-any.whl (25 kB)\n",
      "Requirement already satisfied: six in /home/wfct0p/.local/lib/python3.7/site-packages (from vaex-core<5,>=4.1.0->vaex) (1.15.0)\n",
      "Requirement already satisfied: pandas in /opt/conda/lib/python3.7/site-packages (from vaex-core<5,>=4.1.0->vaex) (1.0.1)\n",
      "Requirement already satisfied: requests in /home/wfct0p/.local/lib/python3.7/site-packages (from vaex-core<5,>=4.1.0->vaex) (2.23.0)\n",
      "Requirement already satisfied: future>=0.15.2 in /opt/conda/lib/python3.7/site-packages (from vaex-core<5,>=4.1.0->vaex) (0.18.2)\n",
      "Collecting nest-asyncio>=1.3.3\n",
      "  Downloading nest_asyncio-1.5.1-py3-none-any.whl (5.0 kB)\n",
      "Collecting pyarrow>=3.0\n",
      "  Downloading pyarrow-4.0.0-cp37-cp37m-manylinux2014_x86_64.whl (21.8 MB)\n",
      "\u001b[K     |████████████████████████████████| 21.8 MB 41 kB/s  eta 0:00:01    |████████▊                       | 5.9 MB 8.5 MB/s eta 0:00:02\n",
      "\u001b[?25hRequirement already satisfied: numpy>=1.16 in /home/wfct0p/.local/lib/python3.7/site-packages (from vaex-core<5,>=4.1.0->vaex) (1.18.3)\n",
      "Collecting frozendict\n",
      "  Downloading frozendict-1.2.tar.gz (2.6 kB)\n",
      "Requirement already satisfied: cloudpickle in /opt/conda/lib/python3.7/site-packages (from vaex-core<5,>=4.1.0->vaex) (1.6.0)\n",
      "Requirement already satisfied: dask[array] in /opt/conda/lib/python3.7/site-packages (from vaex-core<5,>=4.1.0->vaex) (2.30.0)\n",
      "Collecting aplus\n",
      "  Downloading aplus-0.11.0.tar.gz (3.7 kB)\n",
      "Requirement already satisfied: pyyaml in /opt/conda/lib/python3.7/site-packages (from vaex-core<5,>=4.1.0->vaex) (5.3.1)\n",
      "Collecting tabulate>=0.8.3\n",
      "  Downloading tabulate-0.8.9-py3-none-any.whl (25 kB)\n",
      "Requirement already satisfied: psutil>=1.2.1 in /opt/conda/lib/python3.7/site-packages (from vaex-core<5,>=4.1.0->vaex) (5.7.2)\n",
      "Requirement already satisfied: jinja2 in /opt/conda/lib/python3.7/site-packages (from vaex-ml<0.12,>=0.11.0->vaex) (2.11.2)\n",
      "Requirement already satisfied: numba in /opt/conda/lib/python3.7/site-packages (from vaex-ml<0.12,>=0.11.0->vaex) (0.51.2)\n",
      "Requirement already satisfied: traitlets in /opt/conda/lib/python3.7/site-packages (from vaex-ml<0.12,>=0.11.0->vaex) (4.3.3)\n",
      "Requirement already satisfied: tornado>4.1 in /opt/conda/lib/python3.7/site-packages (from vaex-server<0.5,>=0.4.0->vaex) (6.0.4)\n",
      "Requirement already satisfied: cachetools in /opt/conda/lib/python3.7/site-packages (from vaex-server<0.5,>=0.4.0->vaex) (4.1.1)\n",
      "Requirement already satisfied: python-dateutil>=2.1 in /opt/conda/lib/python3.7/site-packages (from matplotlib>=1.3.1->vaex-viz<0.6,>=0.5.0->vaex) (2.8.1)\n",
      "Requirement already satisfied: kiwisolver>=1.0.1 in /opt/conda/lib/python3.7/site-packages (from matplotlib>=1.3.1->vaex-viz<0.6,>=0.5.0->vaex) (1.3.0)\n",
      "Requirement already satisfied: cycler>=0.10 in /opt/conda/lib/python3.7/site-packages (from matplotlib>=1.3.1->vaex-viz<0.6,>=0.5.0->vaex) (0.10.0)\n",
      "Requirement already satisfied: pyparsing!=2.0.4,!=2.1.2,!=2.1.6,>=2.0.1 in /opt/conda/lib/python3.7/site-packages (from matplotlib>=1.3.1->vaex-viz<0.6,>=0.5.0->vaex) (2.4.7)\n",
      "Requirement already satisfied: ipykernel>=4.7 in /opt/conda/lib/python3.7/site-packages (from ipympl->vaex-jupyter<0.7,>=0.6.0->vaex) (5.3.4)\n",
      "Requirement already satisfied: ipywidgets>=7.6.0 in /home/wfct0p/.local/lib/python3.7/site-packages (from ipympl->vaex-jupyter<0.7,>=0.6.0->vaex) (7.6.3)\n",
      "Requirement already satisfied: traittypes>=0.0.6 in /opt/conda/lib/python3.7/site-packages (from bqplot>=0.10.1->vaex-jupyter<0.7,>=0.6.0->vaex) (0.2.1)\n",
      "Requirement already satisfied: branca<0.5,>=0.3.1 in /opt/conda/lib/python3.7/site-packages (from ipyleaflet->vaex-jupyter<0.7,>=0.6.0->vaex) (0.3.1)\n",
      "Collecting pythreejs>=1.0.0\n",
      "  Downloading pythreejs-2.3.0-py2.py3-none-any.whl (3.4 MB)\n",
      "\u001b[K     |████████████████████████████████| 3.4 MB 22.1 MB/s eta 0:00:01\n",
      "\u001b[?25hCollecting ipywebrtc\n",
      "  Downloading ipywebrtc-0.6.0-py2.py3-none-any.whl (260 kB)\n",
      "\u001b[K     |████████████████████████████████| 260 kB 20.5 MB/s eta 0:00:01\n",
      "\u001b[?25hRequirement already satisfied: setuptools>=38.4 in /opt/conda/lib/python3.7/site-packages (from xarray->vaex-jupyter<0.7,>=0.6.0->vaex) (50.3.1.post20201107)\n",
      "Collecting ipyvue<2,>=1.5\n",
      "  Downloading ipyvue-1.5.0-py2.py3-none-any.whl (2.7 MB)\n",
      "\u001b[K     |████████████████████████████████| 2.7 MB 23.8 MB/s eta 0:00:01\n",
      "\u001b[?25hCollecting python-utils>=2.3.0\n",
      "  Downloading python_utils-2.5.6-py2.py3-none-any.whl (12 kB)\n",
      "Requirement already satisfied: pytz>=2017.2 in /opt/conda/lib/python3.7/site-packages (from pandas->vaex-core<5,>=4.1.0->vaex) (2020.1)\n",
      "Requirement already satisfied: chardet<4,>=3.0.2 in /opt/conda/lib/python3.7/site-packages (from requests->vaex-core<5,>=4.1.0->vaex) (3.0.4)\n",
      "Requirement already satisfied: certifi>=2017.4.17 in /opt/conda/lib/python3.7/site-packages (from requests->vaex-core<5,>=4.1.0->vaex) (2020.12.5)\n",
      "Requirement already satisfied: urllib3!=1.25.0,!=1.25.1,<1.26,>=1.21.1 in /opt/conda/lib/python3.7/site-packages (from requests->vaex-core<5,>=4.1.0->vaex) (1.25.11)\n",
      "Requirement already satisfied: idna<3,>=2.5 in /opt/conda/lib/python3.7/site-packages (from requests->vaex-core<5,>=4.1.0->vaex) (2.10)\n",
      "Requirement already satisfied: toolz>=0.8.2; extra == \"array\" in /opt/conda/lib/python3.7/site-packages (from dask[array]->vaex-core<5,>=4.1.0->vaex) (0.11.1)\n",
      "Requirement already satisfied: MarkupSafe>=0.23 in /opt/conda/lib/python3.7/site-packages (from jinja2->vaex-ml<0.12,>=0.11.0->vaex) (1.1.1)\n",
      "Requirement already satisfied: llvmlite<0.35,>=0.34.0.dev0 in /opt/conda/lib/python3.7/site-packages (from numba->vaex-ml<0.12,>=0.11.0->vaex) (0.34.0)\n",
      "Requirement already satisfied: ipython-genutils in /opt/conda/lib/python3.7/site-packages (from traitlets->vaex-ml<0.12,>=0.11.0->vaex) (0.2.0)\n",
      "Requirement already satisfied: decorator in /opt/conda/lib/python3.7/site-packages (from traitlets->vaex-ml<0.12,>=0.11.0->vaex) (4.4.2)\n",
      "Requirement already satisfied: ipython>=5.0.0 in /opt/conda/lib/python3.7/site-packages (from ipykernel>=4.7->ipympl->vaex-jupyter<0.7,>=0.6.0->vaex) (7.19.0)\n",
      "Requirement already satisfied: jupyter-client in /opt/conda/lib/python3.7/site-packages (from ipykernel>=4.7->ipympl->vaex-jupyter<0.7,>=0.6.0->vaex) (5.3.1)\n"
     ]
    },
    {
     "name": "stdout",
     "output_type": "stream",
     "text": [
      "Requirement already satisfied: nbformat>=4.2.0 in /opt/conda/lib/python3.7/site-packages (from ipywidgets>=7.6.0->ipympl->vaex-jupyter<0.7,>=0.6.0->vaex) (5.0.8)\n",
      "Requirement already satisfied: widgetsnbextension~=3.5.0 in /opt/conda/lib/python3.7/site-packages (from ipywidgets>=7.6.0->ipympl->vaex-jupyter<0.7,>=0.6.0->vaex) (3.5.0)\n",
      "Requirement already satisfied: jupyterlab-widgets>=1.0.0; python_version >= \"3.6\" in /home/wfct0p/.local/lib/python3.7/site-packages (from ipywidgets>=7.6.0->ipympl->vaex-jupyter<0.7,>=0.6.0->vaex) (1.0.0)\n",
      "Requirement already satisfied: ipydatawidgets>=1.1.1 in /opt/conda/lib/python3.7/site-packages (from pythreejs>=1.0.0->ipyvolume>=0.4->vaex-jupyter<0.7,>=0.6.0->vaex) (4.1.0)\n",
      "Requirement already satisfied: prompt-toolkit!=3.0.0,!=3.0.1,<3.1.0,>=2.0.0 in /opt/conda/lib/python3.7/site-packages (from ipython>=5.0.0->ipykernel>=4.7->ipympl->vaex-jupyter<0.7,>=0.6.0->vaex) (3.0.5)\n",
      "Requirement already satisfied: pexpect>4.3; sys_platform != \"win32\" in /opt/conda/lib/python3.7/site-packages (from ipython>=5.0.0->ipykernel>=4.7->ipympl->vaex-jupyter<0.7,>=0.6.0->vaex) (4.8.0)\n",
      "Requirement already satisfied: pickleshare in /opt/conda/lib/python3.7/site-packages (from ipython>=5.0.0->ipykernel>=4.7->ipympl->vaex-jupyter<0.7,>=0.6.0->vaex) (0.7.5)\n",
      "Requirement already satisfied: backcall in /opt/conda/lib/python3.7/site-packages (from ipython>=5.0.0->ipykernel>=4.7->ipympl->vaex-jupyter<0.7,>=0.6.0->vaex) (0.2.0)\n",
      "Requirement already satisfied: pygments in /opt/conda/lib/python3.7/site-packages (from ipython>=5.0.0->ipykernel>=4.7->ipympl->vaex-jupyter<0.7,>=0.6.0->vaex) (2.7.2)\n",
      "Requirement already satisfied: jedi>=0.10 in /opt/conda/lib/python3.7/site-packages (from ipython>=5.0.0->ipykernel>=4.7->ipympl->vaex-jupyter<0.7,>=0.6.0->vaex) (0.14.1)\n",
      "Requirement already satisfied: pyzmq>=13 in /opt/conda/lib/python3.7/site-packages (from jupyter-client->ipykernel>=4.7->ipympl->vaex-jupyter<0.7,>=0.6.0->vaex) (19.0.2)\n",
      "Requirement already satisfied: jupyter-core in /opt/conda/lib/python3.7/site-packages (from jupyter-client->ipykernel>=4.7->ipympl->vaex-jupyter<0.7,>=0.6.0->vaex) (4.5.0)\n",
      "Requirement already satisfied: jsonschema!=2.5.0,>=2.4 in /opt/conda/lib/python3.7/site-packages (from nbformat>=4.2.0->ipywidgets>=7.6.0->ipympl->vaex-jupyter<0.7,>=0.6.0->vaex) (3.2.0)\n",
      "Requirement already satisfied: notebook>=4.4.1 in /opt/conda/lib/python3.7/site-packages (from widgetsnbextension~=3.5.0->ipywidgets>=7.6.0->ipympl->vaex-jupyter<0.7,>=0.6.0->vaex) (6.0.0)\n",
      "Requirement already satisfied: wcwidth in /opt/conda/lib/python3.7/site-packages (from prompt-toolkit!=3.0.0,!=3.0.1,<3.1.0,>=2.0.0->ipython>=5.0.0->ipykernel>=4.7->ipympl->vaex-jupyter<0.7,>=0.6.0->vaex) (0.2.5)\n",
      "Requirement already satisfied: ptyprocess>=0.5 in /opt/conda/lib/python3.7/site-packages (from pexpect>4.3; sys_platform != \"win32\"->ipython>=5.0.0->ipykernel>=4.7->ipympl->vaex-jupyter<0.7,>=0.6.0->vaex) (0.6.0)\n",
      "Requirement already satisfied: parso>=0.5.0 in /opt/conda/lib/python3.7/site-packages (from jedi>=0.10->ipython>=5.0.0->ipykernel>=4.7->ipympl->vaex-jupyter<0.7,>=0.6.0->vaex) (0.8.0)\n",
      "Requirement already satisfied: pyrsistent>=0.14.0 in /opt/conda/lib/python3.7/site-packages (from jsonschema!=2.5.0,>=2.4->nbformat>=4.2.0->ipywidgets>=7.6.0->ipympl->vaex-jupyter<0.7,>=0.6.0->vaex) (0.17.3)\n",
      "Requirement already satisfied: attrs>=17.4.0 in /opt/conda/lib/python3.7/site-packages (from jsonschema!=2.5.0,>=2.4->nbformat>=4.2.0->ipywidgets>=7.6.0->ipympl->vaex-jupyter<0.7,>=0.6.0->vaex) (20.3.0)\n",
      "Requirement already satisfied: importlib-metadata; python_version < \"3.8\" in /opt/conda/lib/python3.7/site-packages (from jsonschema!=2.5.0,>=2.4->nbformat>=4.2.0->ipywidgets>=7.6.0->ipympl->vaex-jupyter<0.7,>=0.6.0->vaex) (2.0.0)\n",
      "Requirement already satisfied: Send2Trash in /opt/conda/lib/python3.7/site-packages (from notebook>=4.4.1->widgetsnbextension~=3.5.0->ipywidgets>=7.6.0->ipympl->vaex-jupyter<0.7,>=0.6.0->vaex) (1.5.0)\n",
      "Requirement already satisfied: nbconvert in /opt/conda/lib/python3.7/site-packages (from notebook>=4.4.1->widgetsnbextension~=3.5.0->ipywidgets>=7.6.0->ipympl->vaex-jupyter<0.7,>=0.6.0->vaex) (5.6.1)\n",
      "Requirement already satisfied: terminado>=0.8.1 in /opt/conda/lib/python3.7/site-packages (from notebook>=4.4.1->widgetsnbextension~=3.5.0->ipywidgets>=7.6.0->ipympl->vaex-jupyter<0.7,>=0.6.0->vaex) (0.9.1)\n",
      "Requirement already satisfied: prometheus-client in /opt/conda/lib/python3.7/site-packages (from notebook>=4.4.1->widgetsnbextension~=3.5.0->ipywidgets>=7.6.0->ipympl->vaex-jupyter<0.7,>=0.6.0->vaex) (0.8.0)\n",
      "Requirement already satisfied: zipp>=0.5 in /opt/conda/lib/python3.7/site-packages (from importlib-metadata; python_version < \"3.8\"->jsonschema!=2.5.0,>=2.4->nbformat>=4.2.0->ipywidgets>=7.6.0->ipympl->vaex-jupyter<0.7,>=0.6.0->vaex) (3.4.0)\n",
      "Requirement already satisfied: pandocfilters>=1.4.1 in /opt/conda/lib/python3.7/site-packages (from nbconvert->notebook>=4.4.1->widgetsnbextension~=3.5.0->ipywidgets>=7.6.0->ipympl->vaex-jupyter<0.7,>=0.6.0->vaex) (1.4.3)\n",
      "Requirement already satisfied: entrypoints>=0.2.2 in /opt/conda/lib/python3.7/site-packages (from nbconvert->notebook>=4.4.1->widgetsnbextension~=3.5.0->ipywidgets>=7.6.0->ipympl->vaex-jupyter<0.7,>=0.6.0->vaex) (0.3)\n",
      "Requirement already satisfied: bleach in /opt/conda/lib/python3.7/site-packages (from nbconvert->notebook>=4.4.1->widgetsnbextension~=3.5.0->ipywidgets>=7.6.0->ipympl->vaex-jupyter<0.7,>=0.6.0->vaex) (3.2.1)\n",
      "Requirement already satisfied: defusedxml in /opt/conda/lib/python3.7/site-packages (from nbconvert->notebook>=4.4.1->widgetsnbextension~=3.5.0->ipywidgets>=7.6.0->ipympl->vaex-jupyter<0.7,>=0.6.0->vaex) (0.6.0)\n",
      "Requirement already satisfied: testpath in /opt/conda/lib/python3.7/site-packages (from nbconvert->notebook>=4.4.1->widgetsnbextension~=3.5.0->ipywidgets>=7.6.0->ipympl->vaex-jupyter<0.7,>=0.6.0->vaex) (0.4.4)\n",
      "Requirement already satisfied: mistune<2,>=0.8.1 in /opt/conda/lib/python3.7/site-packages (from nbconvert->notebook>=4.4.1->widgetsnbextension~=3.5.0->ipywidgets>=7.6.0->ipympl->vaex-jupyter<0.7,>=0.6.0->vaex) (0.8.4)\n",
      "Requirement already satisfied: packaging in /opt/conda/lib/python3.7/site-packages (from bleach->nbconvert->notebook>=4.4.1->widgetsnbextension~=3.5.0->ipywidgets>=7.6.0->ipympl->vaex-jupyter<0.7,>=0.6.0->vaex) (20.4)\n",
      "Requirement already satisfied: webencodings in /opt/conda/lib/python3.7/site-packages (from bleach->nbconvert->notebook>=4.4.1->widgetsnbextension~=3.5.0->ipywidgets>=7.6.0->ipympl->vaex-jupyter<0.7,>=0.6.0->vaex) (0.5.1)\n",
      "Building wheels for collected packages: frozendict, aplus\n",
      "  Building wheel for frozendict (setup.py) ... \u001b[?25ldone\n",
      "\u001b[?25h  Created wheel for frozendict: filename=frozendict-1.2-py3-none-any.whl size=3148 sha256=4f9f5a7b2b775175fd2806fd77f6e35c73821f76a6af7bc30e84c1358451fc3c\n",
      "  Stored in directory: /home/wfct0p/.cache/pip/wheels/68/17/69/ac196dd181e620bba5fae5488e4fd6366a7316dce13cf88776\n",
      "  Building wheel for aplus (setup.py) ... \u001b[?25ldone\n",
      "\u001b[?25h  Created wheel for aplus: filename=aplus-0.11.0-py3-none-any.whl size=4412 sha256=49240f2e62c051b444304ba8a2f2898ceb4afc7a4ae103603289e0c560c139cf\n",
      "  Stored in directory: /home/wfct0p/.cache/pip/wheels/31/ec/1c/cdb682cb8c1d3d1dca4214e96b4845d6d775f78c1067f1a31f\n",
      "Successfully built frozendict aplus\n",
      "Installing collected packages: python-utils, progressbar2, nest-asyncio, pyarrow, frozendict, aplus, tabulate, vaex-core, vaex-viz, vaex-astro, vaex-hdf5, ipympl, pythreejs, ipywebrtc, ipyvolume, ipyvue, ipyvuetify, vaex-jupyter, vaex-ml, vaex-server, vaex\n",
      "  Attempting uninstall: pyarrow\n",
      "    Found existing installation: pyarrow 0.17.0\n",
      "    Uninstalling pyarrow-0.17.0:\n",
      "      Successfully uninstalled pyarrow-0.17.0\n",
      "\u001b[33m  WARNING: The script plasma_store is installed in '/home/wfct0p/.local/bin' which is not on PATH.\n",
      "  Consider adding this directory to PATH or, if you prefer to suppress this warning, use --no-warn-script-location.\u001b[0m\n",
      "\u001b[31mERROR: Could not install packages due to an EnvironmentError: [Errno 16] Device or resource busy: '.nfs0000000980acf22f00000ffc'\n",
      "\u001b[0m\n"
     ]
    }
   ],
   "source": [
    "# !pip install --user vaex"
   ]
  },
  {
   "cell_type": "code",
   "execution_count": 5,
   "metadata": {
    "ExecuteTime": {
     "end_time": "2021-04-27T09:23:17.958591Z",
     "start_time": "2021-04-27T09:23:17.948245Z"
    }
   },
   "outputs": [
    {
     "ename": "ModuleNotFoundError",
     "evalue": "No module named 'vaex'",
     "output_type": "error",
     "traceback": [
      "\u001b[0;31m---------------------------------------------------------------------------\u001b[0m",
      "\u001b[0;31mModuleNotFoundError\u001b[0m                       Traceback (most recent call last)",
      "\u001b[0;32m<ipython-input-5-9710deb3d124>\u001b[0m in \u001b[0;36m<module>\u001b[0;34m\u001b[0m\n\u001b[0;32m----> 1\u001b[0;31m \u001b[0;32mimport\u001b[0m \u001b[0mvaex\u001b[0m\u001b[0;34m\u001b[0m\u001b[0m\n\u001b[0m\u001b[1;32m      2\u001b[0m \u001b[0;32mimport\u001b[0m \u001b[0mnumpy\u001b[0m \u001b[0;32mas\u001b[0m \u001b[0mnp\u001b[0m\u001b[0;34m\u001b[0m\u001b[0m\n\u001b[1;32m      3\u001b[0m \u001b[0;32mimport\u001b[0m \u001b[0mvaex\u001b[0m\u001b[0;34m.\u001b[0m\u001b[0mjupyter\u001b[0m\u001b[0;34m.\u001b[0m\u001b[0mmodel\u001b[0m \u001b[0;32mas\u001b[0m \u001b[0mvjm\u001b[0m\u001b[0;34m\u001b[0m\u001b[0m\n\u001b[1;32m      4\u001b[0m \u001b[0;34m\u001b[0m\u001b[0m\n",
      "\u001b[0;31mModuleNotFoundError\u001b[0m: No module named 'vaex'"
     ]
    }
   ],
   "source": [
    "import vaex\n",
    "import numpy as np\n",
    "import vaex.jupyter.model as vjm\n",
    "\n"
   ]
  },
  {
   "cell_type": "code",
   "execution_count": 4,
   "metadata": {
    "ExecuteTime": {
     "end_time": "2021-04-27T09:21:33.507482Z",
     "start_time": "2021-04-27T09:21:33.483623Z"
    }
   },
   "outputs": [
    {
     "ename": "ModuleNotFoundError",
     "evalue": "No module named 'ipyvolume'",
     "output_type": "error",
     "traceback": [
      "\u001b[0;31m---------------------------------------------------------------------------\u001b[0m",
      "\u001b[0;31mModuleNotFoundError\u001b[0m                       Traceback (most recent call last)",
      "\u001b[0;32m<ipython-input-4-ba0e059c5f90>\u001b[0m in \u001b[0;36m<module>\u001b[0;34m\u001b[0m\n\u001b[0;32m----> 1\u001b[0;31m \u001b[0;32mimport\u001b[0m \u001b[0mipyvolume\u001b[0m \u001b[0;32mas\u001b[0m \u001b[0mipv\u001b[0m\u001b[0;34m\u001b[0m\u001b[0m\n\u001b[0m\u001b[1;32m      2\u001b[0m \u001b[0;32mimport\u001b[0m \u001b[0mbqplot\u001b[0m\u001b[0;34m\u001b[0m\u001b[0m\n\u001b[1;32m      3\u001b[0m \u001b[0;34m\u001b[0m\u001b[0m\n\u001b[1;32m      4\u001b[0m \u001b[0;32mclass\u001b[0m \u001b[0mIpyvolumeBarChart\u001b[0m\u001b[0;34m:\u001b[0m\u001b[0;34m\u001b[0m\u001b[0m\n\u001b[1;32m      5\u001b[0m     \u001b[0;32mdef\u001b[0m \u001b[0m__init__\u001b[0m\u001b[0;34m(\u001b[0m\u001b[0mself\u001b[0m\u001b[0;34m,\u001b[0m \u001b[0mx_axis\u001b[0m\u001b[0;34m,\u001b[0m \u001b[0my_axis\u001b[0m\u001b[0;34m)\u001b[0m\u001b[0;34m:\u001b[0m\u001b[0;34m\u001b[0m\u001b[0m\n",
      "\u001b[0;31mModuleNotFoundError\u001b[0m: No module named 'ipyvolume'"
     ]
    }
   ],
   "source": [
    "import ipyvolume as ipv\n",
    "import bqplot\n",
    "\n",
    "class IpyvolumeBarChart:\n",
    "    def __init__(self, x_axis, y_axis):\n",
    "        self.x_axis = x_axis\n",
    "        self.y_axis = y_axis\n",
    "        self.fig = ipv.figure()\n",
    "        self.color_scale = bqplot.ColorScale(scheme='Reds', min=0, max=1)\n",
    "        ipv.style.set_style_dark()\n",
    "        ipv.style.box_off()\n",
    "        ipv.style.use({'axes': {'y': {'visible': False}}})\n",
    "        self.scatter = None\n",
    "\n",
    "    def _scale_change(self, change):\n",
    "        self.last1 = self.x_axis.max\n",
    "        self.last2 = self.fig.scales['x'].max\n",
    "        self.x_axis.min = self.fig.scales['x'].min\n",
    "        self.x_axis.max = self.fig.scales['x'].max\n",
    "        self.y_axis.min = self.fig.scales['z'].min\n",
    "        self.y_axis.max = self.fig.scales['z'].max\n",
    "\n",
    "    def __call__(self, da):\n",
    "        ar = da.data\n",
    "        assert ar.ndim == 2\n",
    "        dim_x = da.dims[0]\n",
    "        dim_y = da.dims[1]\n",
    "\n",
    "        Nx, Ny = ar.shape\n",
    "        x0, x1 = da.coords[dim_x].attrs['min'], da.coords[dim_x].attrs['max']\n",
    "        y0, y1 = da.coords[dim_y].attrs['min'], da.coords[dim_y].attrs['max']\n",
    "        x = np.linspace(x0, x1, Nx)\n",
    "        y = np.linspace(y0, y1, Ny)\n",
    "\n",
    "        X, Y = np.meshgrid(x, y, indexing='ij')\n",
    "        xf = X.flatten()\n",
    "        yf = Y.flatten()\n",
    "        ar = np.log1p(ar)\n",
    "        zf = ar.flatten().astype('f8')\n",
    "\n",
    "        self.dx = dx = x[1] - x[0]\n",
    "        self.dy = dy = y[1] - y[0]\n",
    "        if self.scatter is None:\n",
    "            with self.fig:\n",
    "                self.scatter = ipv.scatter(xf, 0, yf, aux=zf,\n",
    "                                           color=zf,\n",
    "                                           marker=\"box\",\n",
    "                                           size=1,\n",
    "                                           color_scale=self.color_scale,\n",
    "                                           size_x_scale=self.fig.scales['x'],\n",
    "                                           size_y_scale=self.fig.scales['y'],\n",
    "                                           size_z_scale=self.fig.scales['z'])\n",
    "            self.scatter.shader_snippets = {'size': 'size_vector.y = SCALE_SIZE_Y(aux_current) - SCALE_SIZE_Y(0.0) ; '}\n",
    "            # since we see the boxes with negative sizes inside out, we made the material double sided\n",
    "            self.scatter.material.side = \"DoubleSide\"\n",
    "            ipv.xlim(x0, x1)\n",
    "            ipv.zlim(y0, y1)\n",
    "            # only start observing now that the limits have been set to avoid an initial re-gridding\n",
    "            for scale in [self.fig.scales['x'], self.fig.scales['z']]:\n",
    "                scale.observe(self._scale_change, ['min', 'max'])\n",
    "        else:\n",
    "            with self.scatter.hold_sync():\n",
    "                self.scatter.x = xf\n",
    "                self.scatter.z = yf\n",
    "                self.scatter.aux = zf\n",
    "                self.scatter.color = zf\n",
    "        # we patch holes by making the boxes larger\n",
    "        patch = 1.05\n",
    "        self.scatter.geo_matrix = [dx*patch, 0, 0, 0,   0, 1, 0, 0,   0, 0, dy*patch, 0,  0.0, 0.5, 0, 1]\n",
    "        self.color_scale.max = zf.max().item()\n",
    "        with self.fig:\n",
    "            # make the x and z lim half a 'box' larger\n",
    "            ipv.xlim(x0, x1)\n",
    "            ipv.zlim(y0, y1)\n",
    "            ipv.ylim(0, zf.max() * 1.2)\n",
    "            ipv.xlabel(dim_x)\n",
    "            ipv.zlabel(dim_y)\n",
    "            ipv.ylabel('counts')\n",
    "# barchart3d = IpyvolumeBarChart(x_axis, y_axis)\n"
   ]
  },
  {
   "cell_type": "code",
   "execution_count": null,
   "metadata": {},
   "outputs": [],
   "source": [
    "# x_limits, y_limits = limits = df.limits([df.pickup_longitude, df.pickup_latitude], '95%')\n",
    "\n",
    "# pre calculated values:\n",
    "x_limits, y_limits = [-74.37857997, -73.53860359], [40.49456025, 40.91851631]\n"
   ]
  },
  {
   "cell_type": "code",
   "execution_count": null,
   "metadata": {},
   "outputs": [],
   "source": [
    "# Data is hosted on S3\n",
    "# df = vaex.open('s3://vaex/taxi/yellow_taxi_2009_2015_f32.hdf5?anon=true')[:800_000_000]\n",
    "\n",
    "# Or use the Vaex DataFrame server to do the computations!\n",
    "df = vaex.open('ws://dataframe.vaex.io:80/yellow_taxi_2009_2015_f32')\n",
    "\n",
    "x_axis = vjm.Axis(df=df, expression=df.pickup_longitude, min=x_limits[0], max=x_limits[1])\n",
    "y_axis = vjm.Axis(df=df, expression=df.pickup_latitude, min=y_limits[0], max=y_limits[1])\n",
    "\n",
    "barchart3dtaxi = IpyvolumeBarChart(x_axis, y_axis)\n",
    "\n",
    "# we use `barchart3d` as a callable function\n",
    "da_view = df.widget.data_array(axes=[x_axis, y_axis], display_function=barchart3dtaxi, shape=400)\n",
    "\n",
    "# we display the progress bar and possible output (stack traces)\n",
    "display(da_view)\n",
    "\n",
    "# and the figure widget, display(barchart3d.fig) would also have worked\n",
    "with barchart3dtaxi.fig:\n",
    "    ipv.show()\n"
   ]
  },
  {
   "cell_type": "code",
   "execution_count": null,
   "metadata": {},
   "outputs": [],
   "source": [
    "await vaex.jupyter.gather()"
   ]
  }
 ],
 "metadata": {
  "kernelspec": {
   "display_name": "Python 3",
   "language": "python",
   "name": "python3"
  },
  "language_info": {
   "codemirror_mode": {
    "name": "ipython",
    "version": 3
   },
   "file_extension": ".py",
   "mimetype": "text/x-python",
   "name": "python",
   "nbconvert_exporter": "python",
   "pygments_lexer": "ipython3",
   "version": "3.7.0"
  }
 },
 "nbformat": 4,
 "nbformat_minor": 4
}
