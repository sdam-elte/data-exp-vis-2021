{
 "cells": [
  {
   "cell_type": "markdown",
   "metadata": {
    "ExecuteTime": {
     "end_time": "2021-02-20T09:19:55.258939Z",
     "start_time": "2021-02-20T09:19:55.238022Z"
    }
   },
   "source": [
    "### Datatables \n",
    "Official page: https://datatable.readthedocs.io/en/latest/start/quick-start.html\n",
    "\n",
    "Introduction/tutorial: https://towardsdatascience.com/an-overview-of-pythons-datatable-package-5d3a97394ee9\n",
    "\n",
    "\n",
    "\n",
    "A different way of treating frames (like pandas dataframes)\n"
   ]
  },
  {
   "cell_type": "code",
   "execution_count": null,
   "metadata": {},
   "outputs": [],
   "source": [
    "#!pip install datatable --user"
   ]
  },
  {
   "cell_type": "markdown",
   "metadata": {},
   "source": [
    "*    Can automatically **detect separators**, headers, column types, quoting rules, etc.\n",
    "*    Can **read** data **from multiple sources** including file, URL, shell, raw text, archives and glob.\n",
    "*    Provides **multi-threaded** file reading for maximum speed\n",
    "*    Includes a **progress indicator** when reading large files\n",
    "*    Can read both RFC4180-compliant and non-compliant files."
   ]
  },
  {
   "cell_type": "code",
   "execution_count": 1,
   "metadata": {
    "ExecuteTime": {
     "end_time": "2021-02-20T09:41:52.556430Z",
     "start_time": "2021-02-20T09:41:51.830524Z"
    }
   },
   "outputs": [
    {
     "data": {
      "text/html": [
       "<style type='text/css'>\n",
       ".datatable table.frame { margin-bottom: 0; }\n",
       ".datatable table.frame thead { border-bottom: none; }\n",
       ".datatable table.frame tr.coltypes td {  color: #FFFFFF;  line-height: 6px;  padding: 0 0.5em;}\n",
       ".datatable .bool    { background: #DDDD99; }\n",
       ".datatable .object  { background: #565656; }\n",
       ".datatable .int     { background: #5D9E5D; }\n",
       ".datatable .float   { background: #4040CC; }\n",
       ".datatable .str     { background: #CC4040; }\n",
       ".datatable .row_index {  background: var(--jp-border-color3);  border-right: 1px solid var(--jp-border-color0);  color: var(--jp-ui-font-color3);  font-size: 9px;}\n",
       ".datatable .frame tr.coltypes .row_index {  background: var(--jp-border-color0);}\n",
       ".datatable th:nth-child(2) { padding-left: 12px; }\n",
       ".datatable .hellipsis {  color: var(--jp-cell-editor-border-color);}\n",
       ".datatable .vellipsis {  background: var(--jp-layout-color0);  color: var(--jp-cell-editor-border-color);}\n",
       ".datatable .na {  color: var(--jp-cell-editor-border-color);  font-size: 80%;}\n",
       ".datatable .footer { font-size: 9px; }\n",
       ".datatable .frame_dimensions {  background: var(--jp-border-color3);  border-top: 1px solid var(--jp-border-color0);  color: var(--jp-ui-font-color3);  display: inline-block;  opacity: 0.6;  padding: 1px 10px 1px 5px;}\n",
       "</style>\n"
      ],
      "text/plain": [
       "<IPython.core.display.HTML object>"
      ]
     },
     "metadata": {},
     "output_type": "display_data"
    }
   ],
   "source": [
    "import datatable as dt\n",
    "import pandas as pd"
   ]
  },
  {
   "cell_type": "markdown",
   "metadata": {},
   "source": [
    "#### Loading time¶\n"
   ]
  },
  {
   "cell_type": "code",
   "execution_count": 2,
   "metadata": {
    "ExecuteTime": {
     "end_time": "2021-02-20T09:41:55.534605Z",
     "start_time": "2021-02-20T09:41:54.797688Z"
    }
   },
   "outputs": [
    {
     "name": "stdout",
     "output_type": "stream",
     "text": [
      "CPU times: user 7.84 s, sys: 1.27 s, total: 9.1 s\n",
      "Wall time: 732 ms\n"
     ]
    }
   ],
   "source": [
    "%%time\n",
    "dtf = dt.fread(\"~/Datasets/traffic-violation.csv\")"
   ]
  },
  {
   "cell_type": "code",
   "execution_count": 3,
   "metadata": {
    "ExecuteTime": {
     "end_time": "2021-02-20T09:42:18.109192Z",
     "start_time": "2021-02-20T09:42:04.537823Z"
    }
   },
   "outputs": [
    {
     "name": "stderr",
     "output_type": "stream",
     "text": [
      "2021-02-20 09:42:16,060 [10552] WARNING  py.warnings:177: [JupyterRequire] <string>:2: DtypeWarning: Columns (19,20,21,22,23,24,25,34) have mixed types.Specify dtype option on import or set low_memory=False.\n",
      "\n"
     ]
    },
    {
     "name": "stdout",
     "output_type": "stream",
     "text": [
      "CPU times: user 11.8 s, sys: 1.53 s, total: 13.4 s\n",
      "Wall time: 13.6 s\n"
     ]
    }
   ],
   "source": [
    "%%time\n",
    "df = pd.read_csv(\"~/Datasets/traffic-violation.csv\")"
   ]
  },
  {
   "cell_type": "markdown",
   "metadata": {},
   "source": [
    "#### Data manipulation"
   ]
  },
  {
   "cell_type": "code",
   "execution_count": 4,
   "metadata": {
    "ExecuteTime": {
     "end_time": "2021-02-20T09:42:26.306098Z",
     "start_time": "2021-02-20T09:42:26.284123Z"
    }
   },
   "outputs": [
    {
     "data": {
      "text/html": [
       "<div class='datatable'>\n",
       "  <table class='frame'>\n",
       "  <thead>\n",
       "    <tr class='colnames'><td class='row_index'></td><th>SeqID</th><th>Date Of Stop</th><th>Time Of Stop</th><th>Agency</th></tr>\n",
       "    <tr class='coltypes'><td class='row_index'></td><td class='str' title='str32'>&#x25AA;&#x25AA;&#x25AA;&#x25AA;</td><td class='str' title='str32'>&#x25AA;&#x25AA;&#x25AA;&#x25AA;</td><td class='str' title='str32'>&#x25AA;&#x25AA;&#x25AA;&#x25AA;</td><td class='str' title='str32'>&#x25AA;&#x25AA;&#x25AA;&#x25AA;</td></tr>\n",
       "  </thead>\n",
       "  <tbody>\n",
       "    <tr><td class='row_index'>0</td><td>3b060228-d664-4480-9314-6188ee8ac891</td><td>07/07/2019</td><td>22:54:00</td><td>MCP</td></tr>\n",
       "    <tr><td class='row_index'>1</td><td>d4dd55c0-adb0-434e-b5d9-d8346b0a4080</td><td>07/10/2019</td><td>16:00:00</td><td>MCP</td></tr>\n",
       "    <tr><td class='row_index'>2</td><td>021d5a2d-7989-4b52-a983-7f6e462fc123</td><td>04/15/2019</td><td>05:49:00</td><td>MCP</td></tr>\n",
       "    <tr><td class='row_index'>3</td><td>54442b34-6511-4efd-b2fe-0536ae0d3f55</td><td>07/13/2019</td><td>12:11:00</td><td>MCP</td></tr>\n",
       "    <tr><td class='row_index'>4</td><td>05ae21fe-9784-4b9c-a3ca-1494851582b5</td><td>07/18/2019</td><td>11:07:00</td><td>MCP</td></tr>\n",
       "    <tr><td class='row_index'>5</td><td>8b9cef31-a20b-4232-9780-5fefa4aa175c</td><td>04/24/2019</td><td>05:41:00</td><td>MCP</td></tr>\n",
       "    <tr><td class='row_index'>6</td><td>86ddd80d-2c15-4a3e-96c2-16bc63c5491e</td><td>04/23/2019</td><td>16:15:00</td><td>MCP</td></tr>\n",
       "    <tr><td class='row_index'>7</td><td>d430a8e0-c888-4b8d-9147-283028661ac8</td><td>07/25/2019</td><td>08:37:00</td><td>MCP</td></tr>\n",
       "    <tr><td class='row_index'>8</td><td>f8720ad7-b9fb-4819-bd55-ff3d03d4cf08</td><td>04/29/2019</td><td>11:15:00</td><td>MCP</td></tr>\n",
       "  </tbody>\n",
       "  </table>\n",
       "  <div class='footer'>\n",
       "    <div class='frame_dimensions'>9 rows &times; 4 columns</div>\n",
       "  </div>\n",
       "</div>\n"
      ],
      "text/plain": [
       "<Frame#7f026c156cc0 9x4>"
      ]
     },
     "execution_count": 4,
     "metadata": {},
     "output_type": "execute_result"
    }
   ],
   "source": [
    "dtf[1:10,:4]"
   ]
  },
  {
   "cell_type": "code",
   "execution_count": null,
   "metadata": {},
   "outputs": [],
   "source": [
    "dtf[:,dtf.names[5:10]].head()"
   ]
  },
  {
   "cell_type": "markdown",
   "metadata": {
    "ExecuteTime": {
     "end_time": "2021-02-20T09:42:43.610584Z",
     "start_time": "2021-02-20T09:42:43.607605Z"
    }
   },
   "source": [
    "#### Frame proxy f"
   ]
  },
  {
   "cell_type": "code",
   "execution_count": 8,
   "metadata": {
    "ExecuteTime": {
     "end_time": "2021-02-20T09:43:55.078372Z",
     "start_time": "2021-02-20T09:43:55.064829Z"
    }
   },
   "outputs": [
    {
     "data": {
      "text/html": [
       "<div class='datatable'>\n",
       "  <table class='frame'>\n",
       "  <thead>\n",
       "    <tr class='colnames'><td class='row_index'></td><th>SeqID</th></tr>\n",
       "    <tr class='coltypes'><td class='row_index'></td><td class='str' title='str32'>&#x25AA;&#x25AA;&#x25AA;&#x25AA;</td></tr>\n",
       "  </thead>\n",
       "  <tbody>\n",
       "    <tr><td class='row_index'>0</td><td>02ccadf1-7ebd-48d8-a793-913e3198f52a</td></tr>\n",
       "    <tr><td class='row_index'>1</td><td>3b060228-d664-4480-9314-6188ee8ac891</td></tr>\n",
       "    <tr><td class='row_index'>2</td><td>d4dd55c0-adb0-434e-b5d9-d8346b0a4080</td></tr>\n",
       "    <tr><td class='row_index'>3</td><td>021d5a2d-7989-4b52-a983-7f6e462fc123</td></tr>\n",
       "    <tr><td class='row_index'>4</td><td>54442b34-6511-4efd-b2fe-0536ae0d3f55</td></tr>\n",
       "  </tbody>\n",
       "  </table>\n",
       "  <div class='footer'>\n",
       "    <div class='frame_dimensions'>5 rows &times; 1 column</div>\n",
       "  </div>\n",
       "</div>\n"
      ],
      "text/plain": [
       "<Frame#7f026c156d20 5x1>"
      ]
     },
     "execution_count": 8,
     "metadata": {},
     "output_type": "execute_result"
    }
   ],
   "source": [
    "dtf[:5,dt.f.SeqID]"
   ]
  },
  {
   "cell_type": "markdown",
   "metadata": {},
   "source": [
    "Datatable frames can be converted pandas DataFrame or numpy array"
   ]
  },
  {
   "cell_type": "code",
   "execution_count": null,
   "metadata": {},
   "outputs": [],
   "source": [
    "numpy_df = dtf.to_numpy()\n",
    "pandas_df = dtf.to_pandas()"
   ]
  }
 ],
 "metadata": {
  "kernelspec": {
   "display_name": "Python 3",
   "language": "python",
   "name": "python3"
  },
  "language_info": {
   "codemirror_mode": {
    "name": "ipython",
    "version": 3
   },
   "file_extension": ".py",
   "mimetype": "text/x-python",
   "name": "python",
   "nbconvert_exporter": "python",
   "pygments_lexer": "ipython3",
   "version": "3.7.3"
  }
 },
 "nbformat": 4,
 "nbformat_minor": 2
}
