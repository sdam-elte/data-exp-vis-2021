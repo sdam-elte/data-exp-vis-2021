{
 "cells": [
  {
   "cell_type": "markdown",
   "metadata": {},
   "source": [
    "Reading: https://www.javatpoint.com/key-concepts-of-elasticsearch"
   ]
  },
  {
   "cell_type": "markdown",
   "metadata": {},
   "source": [
    "## Indexing\n",
    "\n",
    "Elasticsearch is able to achieve fast search responses because, instead of searching the text directly, it searches an index instead.\n",
    "\n",
    "This is like retrieving pages in a book related to a keyword by scanning the index at the back of a book, as opposed to searching every word of every page of the book.\n",
    "\n",
    "This type of index is called an *inverted index*, because it inverts a page-centric data structure (page->words) to a keyword-centric data structure (word->pages).\n",
    "\n",
    "Elasticsearch uses Apache Lucene to create and manage this inverted index."
   ]
  },
  {
   "cell_type": "markdown",
   "metadata": {},
   "source": [
    "<img src=\"http://www.elasticsearchtutorial.com/images/7774b3b7f5ceba1d47fac95f54016650.png\">"
   ]
  },
  {
   "cell_type": "markdown",
   "metadata": {},
   "source": [
    "## How Elasticsearch represents data\n",
    "\n",
    "In Elasticsearch, a Document is the unit of search and index.\n",
    "\n",
    "An index consists of one or more Documents, and a Document consists of one or more Fields.\n",
    "In database terminology, a Document corresponds to a table row, and a Field corresponds to a table column.\n",
    "\n",
    "\n",
    "The document is a collection of fields in a unique way, as defined in JSON format. It is used to store the data that resides inside the Elasticsearch index. So, it can be indexed. Every document belongs to a type and associated with a unique identifier (UID). It is expressed in JSON (Key: Value) pair. In RDBMS, a document is represented as a row in a table.\n",
    "\n",
    "#### Comparison to a relational database:\n",
    "In Elasticsearch terms, Document = Row, Field = Column, Index = Table, and Cluster = Database.\n",
    "\n",
    "ES is **schema free**"
   ]
  },
  {
   "cell_type": "markdown",
   "metadata": {},
   "source": [
    "it is **necessary to add mapping** declarations if you require anything but the most basic fields and operations.\n",
    "\n",
    "This is no different from specifying a schema!\n",
    "\n",
    "The schema declares:\n",
    "\n",
    "* what fields there are\n",
    "* which field should be used as the unique/primary key\n",
    "* which fields are required\n",
    "* how to index and search each field\n"
   ]
  },
  {
   "cell_type": "markdown",
   "metadata": {},
   "source": [
    "Elasticsearch is powered by **Lucene**, a powerful open-source **full-text search library**, under the hood."
   ]
  },
  {
   "cell_type": "markdown",
   "metadata": {},
   "source": [
    "In ES, an index may store documents of different \"mapping types\". You can associate multiple mapping definitions for each mapping type. A mapping type is a way of **separating the documents** in an index into **logical groups**.\n",
    "\n",
    "\n",
    "The Query DSL (Domain Specific Language) based is Elasticsearch's way of making Lucene's query syntax accessible to users, allowing complex queries to be composed using a JSON syntax.\n",
    "\n",
    "Like Lucene, there are basic queries such as term or prefix queries and also compound queries like the bool query."
   ]
  },
  {
   "cell_type": "markdown",
   "metadata": {},
   "source": [
    "<img src=\"https://static.javatpoint.com/tutorial/elasticsearch/images/elasticsearch-uses.png\" >"
   ]
  },
  {
   "cell_type": "markdown",
   "metadata": {},
   "source": [
    "### Test elasticsearch databas \n",
    "* host: kooplex-fiek.elte.hu\n",
    "* port: 9100\n",
    "\n",
    "### For visualizing data Kibana\n",
    "* http://kooplex-fiek.elte.hu:5601"
   ]
  },
  {
   "cell_type": "code",
   "execution_count": null,
   "metadata": {},
   "outputs": [],
   "source": []
  }
 ],
 "metadata": {
  "kernelspec": {
   "display_name": "Python 3",
   "language": "python",
   "name": "python3"
  },
  "language_info": {
   "codemirror_mode": {
    "name": "ipython",
    "version": 3
   },
   "file_extension": ".py",
   "mimetype": "text/x-python",
   "name": "python",
   "nbconvert_exporter": "python",
   "pygments_lexer": "ipython3",
   "version": "3.7.0"
  }
 },
 "nbformat": 4,
 "nbformat_minor": 4
}
